{
 "cells": [
  {
   "cell_type": "code",
   "execution_count": 1,
   "id": "b56a0b04-6798-4080-a25c-7b3191d43e6e",
   "metadata": {},
   "outputs": [],
   "source": [
    "import geopandas as gpd\n",
    "from shapely.geometry import box\n",
    "from osgeo import gdal\n",
    "from copy import deepcopy\n",
    "import os, math\n",
    "import numpy as np\n",
    "import requests\n",
    "import pandas as pd\n",
    "from urllib.parse import urlparse\n",
    "from selenium import webdriver\n",
    "from selenium.webdriver.chrome.service import Service\n",
    "from selenium.webdriver.common.by import By\n",
    "from selenium.webdriver.support.ui import WebDriverWait\n",
    "from selenium.webdriver.support import expected_conditions as EC\n",
    "from selenium.webdriver.common.keys import Keys\n",
    "import time\n",
    "import zipfile\n",
    "import warnings"
   ]
  },
  {
   "cell_type": "code",
   "execution_count": 2,
   "id": "4ab3d53d-752c-4039-b2d8-7915cee591ab",
   "metadata": {},
   "outputs": [],
   "source": [
    "os.chdir(\"C:/Users/ideapad Blue TDG/Desktop/MAPA BASE/INSUMOS BASE\") #CAMBIAR"
   ]
  },
  {
   "cell_type": "code",
   "execution_count": 5,
   "id": "3ec8d32f-ac35-4698-8c9f-28d6bffd6bab",
   "metadata": {},
   "outputs": [
    {
     "name": "stdout",
     "output_type": "stream",
     "text": [
      "Carga completa\n"
     ]
    }
   ],
   "source": [
    "#Buscar clave del municipio \n",
    "LIMITE_MUNICIPAL = gpd.read_file(\"//Mycloudex2ultra/compartido/Base_Datos/INEGI/MGN/MGN_2023/mg_2023_integrado/conjunto_de_datos/00mun.shp\").to_crs(epsg=6372)\n",
    "cartas50k = gpd.read_file('//mycloudex2ultra/COMPARTIDO/Base_Datos/INEGI/LIMITES DE CARTAS TOPOGRÁFICAS/50k/50k/div50k_lcc.shp').to_crs(epsg=6372)\n",
    "cartas250k = gpd.read_file('//Mycloudex2ultra/compartido/Base_Datos/INEGI/LIMITES DE CARTAS TOPOGRÁFICAS/250k/250k/indi250kcw_1.shp').to_crs(epsg=6372)\n",
    "print (\"Carga completa\")\n",
    "\n",
    "LIMITE_MUNICIPAL.to_file(\"00mun.shp\")\n",
    "cartas50k.to_file(\"div50k_lcc.shp\")\n",
    "cartas250k.to_file(\"indi250kcw_1.shp\")"
   ]
  },
  {
   "cell_type": "code",
   "execution_count": null,
   "id": "337104b7-be85-4096-bb9d-ca117f2895fd",
   "metadata": {},
   "outputs": [],
   "source": []
  }
 ],
 "metadata": {
  "kernelspec": {
   "display_name": "Python [conda env:geo_env] *",
   "language": "python",
   "name": "conda-env-geo_env-py"
  },
  "language_info": {
   "codemirror_mode": {
    "name": "ipython",
    "version": 3
   },
   "file_extension": ".py",
   "mimetype": "text/x-python",
   "name": "python",
   "nbconvert_exporter": "python",
   "pygments_lexer": "ipython3",
   "version": "3.8.19"
  }
 },
 "nbformat": 4,
 "nbformat_minor": 5
}
