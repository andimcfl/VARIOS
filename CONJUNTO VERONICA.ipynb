{
 "cells": [
  {
   "cell_type": "markdown",
   "id": "cd099599",
   "metadata": {},
   "source": [
    "CONJUNTO VERÓNICA\n"
   ]
  },
  {
   "cell_type": "code",
   "execution_count": 3,
   "id": "b68430c6",
   "metadata": {
    "vscode": {
     "languageId": "r"
    }
   },
   "outputs": [
    {
     "name": "stderr",
     "output_type": "stream",
     "text": [
      "── \u001b[1mAttaching core tidyverse packages\u001b[22m ──────────────────────── tidyverse 2.0.0 ──\n",
      "\u001b[32m✔\u001b[39m \u001b[34mdplyr    \u001b[39m 1.1.4     \u001b[32m✔\u001b[39m \u001b[34mreadr    \u001b[39m 2.1.5\n",
      "\u001b[32m✔\u001b[39m \u001b[34mforcats  \u001b[39m 1.0.0     \u001b[32m✔\u001b[39m \u001b[34mstringr  \u001b[39m 1.5.1\n",
      "\u001b[32m✔\u001b[39m \u001b[34mggplot2  \u001b[39m 3.5.1     \u001b[32m✔\u001b[39m \u001b[34mtibble   \u001b[39m 3.2.1\n",
      "\u001b[32m✔\u001b[39m \u001b[34mlubridate\u001b[39m 1.9.4     \u001b[32m✔\u001b[39m \u001b[34mtidyr    \u001b[39m 1.3.1\n",
      "\u001b[32m✔\u001b[39m \u001b[34mpurrr    \u001b[39m 1.0.4     \n",
      "── \u001b[1mConflicts\u001b[22m ────────────────────────────────────────── tidyverse_conflicts() ──\n",
      "\u001b[31m✖\u001b[39m \u001b[34mdplyr\u001b[39m::\u001b[32mfilter()\u001b[39m masks \u001b[34mstats\u001b[39m::filter()\n",
      "\u001b[31m✖\u001b[39m \u001b[34mdplyr\u001b[39m::\u001b[32mlag()\u001b[39m    masks \u001b[34mstats\u001b[39m::lag()\n",
      "\u001b[36mℹ\u001b[39m Use the conflicted package (\u001b[3m\u001b[34m<http://conflicted.r-lib.org/>\u001b[39m\u001b[23m) to force all conflicts to become errors\n",
      "Linking to GEOS 3.13.0, GDAL 3.10.1, PROJ 9.5.1; sf_use_s2() is TRUE\n",
      "\n"
     ]
    },
    {
     "data": {
      "text/html": [
       "<ol>\n",
       "\t<li><style>\n",
       ".list-inline {list-style: none; margin:0; padding: 0}\n",
       ".list-inline>li {display: inline-block}\n",
       ".list-inline>li:not(:last-child)::after {content: \"\\00b7\"; padding: 0 .5ex}\n",
       "</style>\n",
       "<ol class=list-inline><li>'lubridate'</li><li>'forcats'</li><li>'stringr'</li><li>'dplyr'</li><li>'purrr'</li><li>'readr'</li><li>'tidyr'</li><li>'tibble'</li><li>'ggplot2'</li><li>'tidyverse'</li><li>'stats'</li><li>'graphics'</li><li>'grDevices'</li><li>'utils'</li><li>'datasets'</li><li>'methods'</li><li>'base'</li></ol>\n",
       "</li>\n",
       "\t<li><style>\n",
       ".list-inline {list-style: none; margin:0; padding: 0}\n",
       ".list-inline>li {display: inline-block}\n",
       ".list-inline>li:not(:last-child)::after {content: \"\\00b7\"; padding: 0 .5ex}\n",
       "</style>\n",
       "<ol class=list-inline><li>'sf'</li><li>'lubridate'</li><li>'forcats'</li><li>'stringr'</li><li>'dplyr'</li><li>'purrr'</li><li>'readr'</li><li>'tidyr'</li><li>'tibble'</li><li>'ggplot2'</li><li>'tidyverse'</li><li>'stats'</li><li>'graphics'</li><li>'grDevices'</li><li>'utils'</li><li>'datasets'</li><li>'methods'</li><li>'base'</li></ol>\n",
       "</li>\n",
       "\t<li><style>\n",
       ".list-inline {list-style: none; margin:0; padding: 0}\n",
       ".list-inline>li {display: inline-block}\n",
       ".list-inline>li:not(:last-child)::after {content: \"\\00b7\"; padding: 0 .5ex}\n",
       "</style>\n",
       "<ol class=list-inline><li>'tmap'</li><li>'sf'</li><li>'lubridate'</li><li>'forcats'</li><li>'stringr'</li><li>'dplyr'</li><li>'purrr'</li><li>'readr'</li><li>'tidyr'</li><li>'tibble'</li><li>'ggplot2'</li><li>'tidyverse'</li><li>'stats'</li><li>'graphics'</li><li>'grDevices'</li><li>'utils'</li><li>'datasets'</li><li>'methods'</li><li>'base'</li></ol>\n",
       "</li>\n",
       "\t<li><style>\n",
       ".list-inline {list-style: none; margin:0; padding: 0}\n",
       ".list-inline>li {display: inline-block}\n",
       ".list-inline>li:not(:last-child)::after {content: \"\\00b7\"; padding: 0 .5ex}\n",
       "</style>\n",
       "<ol class=list-inline><li>'tmap'</li><li>'sf'</li><li>'lubridate'</li><li>'forcats'</li><li>'stringr'</li><li>'dplyr'</li><li>'purrr'</li><li>'readr'</li><li>'tidyr'</li><li>'tibble'</li><li>'ggplot2'</li><li>'tidyverse'</li><li>'stats'</li><li>'graphics'</li><li>'grDevices'</li><li>'utils'</li><li>'datasets'</li><li>'methods'</li><li>'base'</li></ol>\n",
       "</li>\n",
       "\t<li><style>\n",
       ".list-inline {list-style: none; margin:0; padding: 0}\n",
       ".list-inline>li {display: inline-block}\n",
       ".list-inline>li:not(:last-child)::after {content: \"\\00b7\"; padding: 0 .5ex}\n",
       "</style>\n",
       "<ol class=list-inline><li>'tmap'</li><li>'sf'</li><li>'lubridate'</li><li>'forcats'</li><li>'stringr'</li><li>'dplyr'</li><li>'purrr'</li><li>'readr'</li><li>'tidyr'</li><li>'tibble'</li><li>'ggplot2'</li><li>'tidyverse'</li><li>'stats'</li><li>'graphics'</li><li>'grDevices'</li><li>'utils'</li><li>'datasets'</li><li>'methods'</li><li>'base'</li></ol>\n",
       "</li>\n",
       "</ol>\n"
      ],
      "text/latex": [
       "\\begin{enumerate}\n",
       "\\item \\begin{enumerate*}\n",
       "\\item 'lubridate'\n",
       "\\item 'forcats'\n",
       "\\item 'stringr'\n",
       "\\item 'dplyr'\n",
       "\\item 'purrr'\n",
       "\\item 'readr'\n",
       "\\item 'tidyr'\n",
       "\\item 'tibble'\n",
       "\\item 'ggplot2'\n",
       "\\item 'tidyverse'\n",
       "\\item 'stats'\n",
       "\\item 'graphics'\n",
       "\\item 'grDevices'\n",
       "\\item 'utils'\n",
       "\\item 'datasets'\n",
       "\\item 'methods'\n",
       "\\item 'base'\n",
       "\\end{enumerate*}\n",
       "\n",
       "\\item \\begin{enumerate*}\n",
       "\\item 'sf'\n",
       "\\item 'lubridate'\n",
       "\\item 'forcats'\n",
       "\\item 'stringr'\n",
       "\\item 'dplyr'\n",
       "\\item 'purrr'\n",
       "\\item 'readr'\n",
       "\\item 'tidyr'\n",
       "\\item 'tibble'\n",
       "\\item 'ggplot2'\n",
       "\\item 'tidyverse'\n",
       "\\item 'stats'\n",
       "\\item 'graphics'\n",
       "\\item 'grDevices'\n",
       "\\item 'utils'\n",
       "\\item 'datasets'\n",
       "\\item 'methods'\n",
       "\\item 'base'\n",
       "\\end{enumerate*}\n",
       "\n",
       "\\item \\begin{enumerate*}\n",
       "\\item 'tmap'\n",
       "\\item 'sf'\n",
       "\\item 'lubridate'\n",
       "\\item 'forcats'\n",
       "\\item 'stringr'\n",
       "\\item 'dplyr'\n",
       "\\item 'purrr'\n",
       "\\item 'readr'\n",
       "\\item 'tidyr'\n",
       "\\item 'tibble'\n",
       "\\item 'ggplot2'\n",
       "\\item 'tidyverse'\n",
       "\\item 'stats'\n",
       "\\item 'graphics'\n",
       "\\item 'grDevices'\n",
       "\\item 'utils'\n",
       "\\item 'datasets'\n",
       "\\item 'methods'\n",
       "\\item 'base'\n",
       "\\end{enumerate*}\n",
       "\n",
       "\\item \\begin{enumerate*}\n",
       "\\item 'tmap'\n",
       "\\item 'sf'\n",
       "\\item 'lubridate'\n",
       "\\item 'forcats'\n",
       "\\item 'stringr'\n",
       "\\item 'dplyr'\n",
       "\\item 'purrr'\n",
       "\\item 'readr'\n",
       "\\item 'tidyr'\n",
       "\\item 'tibble'\n",
       "\\item 'ggplot2'\n",
       "\\item 'tidyverse'\n",
       "\\item 'stats'\n",
       "\\item 'graphics'\n",
       "\\item 'grDevices'\n",
       "\\item 'utils'\n",
       "\\item 'datasets'\n",
       "\\item 'methods'\n",
       "\\item 'base'\n",
       "\\end{enumerate*}\n",
       "\n",
       "\\item \\begin{enumerate*}\n",
       "\\item 'tmap'\n",
       "\\item 'sf'\n",
       "\\item 'lubridate'\n",
       "\\item 'forcats'\n",
       "\\item 'stringr'\n",
       "\\item 'dplyr'\n",
       "\\item 'purrr'\n",
       "\\item 'readr'\n",
       "\\item 'tidyr'\n",
       "\\item 'tibble'\n",
       "\\item 'ggplot2'\n",
       "\\item 'tidyverse'\n",
       "\\item 'stats'\n",
       "\\item 'graphics'\n",
       "\\item 'grDevices'\n",
       "\\item 'utils'\n",
       "\\item 'datasets'\n",
       "\\item 'methods'\n",
       "\\item 'base'\n",
       "\\end{enumerate*}\n",
       "\n",
       "\\end{enumerate}\n"
      ],
      "text/markdown": [
       "1. 1. 'lubridate'\n",
       "2. 'forcats'\n",
       "3. 'stringr'\n",
       "4. 'dplyr'\n",
       "5. 'purrr'\n",
       "6. 'readr'\n",
       "7. 'tidyr'\n",
       "8. 'tibble'\n",
       "9. 'ggplot2'\n",
       "10. 'tidyverse'\n",
       "11. 'stats'\n",
       "12. 'graphics'\n",
       "13. 'grDevices'\n",
       "14. 'utils'\n",
       "15. 'datasets'\n",
       "16. 'methods'\n",
       "17. 'base'\n",
       "\n",
       "\n",
       "\n",
       "2. 1. 'sf'\n",
       "2. 'lubridate'\n",
       "3. 'forcats'\n",
       "4. 'stringr'\n",
       "5. 'dplyr'\n",
       "6. 'purrr'\n",
       "7. 'readr'\n",
       "8. 'tidyr'\n",
       "9. 'tibble'\n",
       "10. 'ggplot2'\n",
       "11. 'tidyverse'\n",
       "12. 'stats'\n",
       "13. 'graphics'\n",
       "14. 'grDevices'\n",
       "15. 'utils'\n",
       "16. 'datasets'\n",
       "17. 'methods'\n",
       "18. 'base'\n",
       "\n",
       "\n",
       "\n",
       "3. 1. 'tmap'\n",
       "2. 'sf'\n",
       "3. 'lubridate'\n",
       "4. 'forcats'\n",
       "5. 'stringr'\n",
       "6. 'dplyr'\n",
       "7. 'purrr'\n",
       "8. 'readr'\n",
       "9. 'tidyr'\n",
       "10. 'tibble'\n",
       "11. 'ggplot2'\n",
       "12. 'tidyverse'\n",
       "13. 'stats'\n",
       "14. 'graphics'\n",
       "15. 'grDevices'\n",
       "16. 'utils'\n",
       "17. 'datasets'\n",
       "18. 'methods'\n",
       "19. 'base'\n",
       "\n",
       "\n",
       "\n",
       "4. 1. 'tmap'\n",
       "2. 'sf'\n",
       "3. 'lubridate'\n",
       "4. 'forcats'\n",
       "5. 'stringr'\n",
       "6. 'dplyr'\n",
       "7. 'purrr'\n",
       "8. 'readr'\n",
       "9. 'tidyr'\n",
       "10. 'tibble'\n",
       "11. 'ggplot2'\n",
       "12. 'tidyverse'\n",
       "13. 'stats'\n",
       "14. 'graphics'\n",
       "15. 'grDevices'\n",
       "16. 'utils'\n",
       "17. 'datasets'\n",
       "18. 'methods'\n",
       "19. 'base'\n",
       "\n",
       "\n",
       "\n",
       "5. 1. 'tmap'\n",
       "2. 'sf'\n",
       "3. 'lubridate'\n",
       "4. 'forcats'\n",
       "5. 'stringr'\n",
       "6. 'dplyr'\n",
       "7. 'purrr'\n",
       "8. 'readr'\n",
       "9. 'tidyr'\n",
       "10. 'tibble'\n",
       "11. 'ggplot2'\n",
       "12. 'tidyverse'\n",
       "13. 'stats'\n",
       "14. 'graphics'\n",
       "15. 'grDevices'\n",
       "16. 'utils'\n",
       "17. 'datasets'\n",
       "18. 'methods'\n",
       "19. 'base'\n",
       "\n",
       "\n",
       "\n",
       "\n",
       "\n"
      ],
      "text/plain": [
       "[[1]]\n",
       " [1] \"lubridate\" \"forcats\"   \"stringr\"   \"dplyr\"     \"purrr\"     \"readr\"    \n",
       " [7] \"tidyr\"     \"tibble\"    \"ggplot2\"   \"tidyverse\" \"stats\"     \"graphics\" \n",
       "[13] \"grDevices\" \"utils\"     \"datasets\"  \"methods\"   \"base\"     \n",
       "\n",
       "[[2]]\n",
       " [1] \"sf\"        \"lubridate\" \"forcats\"   \"stringr\"   \"dplyr\"     \"purrr\"    \n",
       " [7] \"readr\"     \"tidyr\"     \"tibble\"    \"ggplot2\"   \"tidyverse\" \"stats\"    \n",
       "[13] \"graphics\"  \"grDevices\" \"utils\"     \"datasets\"  \"methods\"   \"base\"     \n",
       "\n",
       "[[3]]\n",
       " [1] \"tmap\"      \"sf\"        \"lubridate\" \"forcats\"   \"stringr\"   \"dplyr\"    \n",
       " [7] \"purrr\"     \"readr\"     \"tidyr\"     \"tibble\"    \"ggplot2\"   \"tidyverse\"\n",
       "[13] \"stats\"     \"graphics\"  \"grDevices\" \"utils\"     \"datasets\"  \"methods\"  \n",
       "[19] \"base\"     \n",
       "\n",
       "[[4]]\n",
       " [1] \"tmap\"      \"sf\"        \"lubridate\" \"forcats\"   \"stringr\"   \"dplyr\"    \n",
       " [7] \"purrr\"     \"readr\"     \"tidyr\"     \"tibble\"    \"ggplot2\"   \"tidyverse\"\n",
       "[13] \"stats\"     \"graphics\"  \"grDevices\" \"utils\"     \"datasets\"  \"methods\"  \n",
       "[19] \"base\"     \n",
       "\n",
       "[[5]]\n",
       " [1] \"tmap\"      \"sf\"        \"lubridate\" \"forcats\"   \"stringr\"   \"dplyr\"    \n",
       " [7] \"purrr\"     \"readr\"     \"tidyr\"     \"tibble\"    \"ggplot2\"   \"tidyverse\"\n",
       "[13] \"stats\"     \"graphics\"  \"grDevices\" \"utils\"     \"datasets\"  \"methods\"  \n",
       "[19] \"base\"     \n"
      ]
     },
     "metadata": {},
     "output_type": "display_data"
    }
   ],
   "source": [
    "#LIBRERIAS----\n",
    "libraries <- c(\"tidyverse\",\n",
    "               \"sf\", \n",
    "               \"tmap\", \n",
    "               \"utils\", \n",
    "               \"readr\")\n",
    "\n",
    "\n",
    "installed_packages <- rownames(installed.packages())\n",
    "libraries_to_install <- setdiff(libraries, installed_packages)\n",
    "\n",
    "if (length(libraries_to_install) > 0) {\n",
    "  install.packages(libraries_to_install)\n",
    "}\n",
    "\n",
    "lapply(libraries, library, character.only = TRUE)"
   ]
  },
  {
   "cell_type": "code",
   "execution_count": 4,
   "id": "ae2968d4",
   "metadata": {
    "vscode": {
     "languageId": "r"
    }
   },
   "outputs": [
    {
     "name": "stdout",
     "output_type": "stream",
     "text": [
      "Reading layer `iecm_colonias_cdmx' from data source \n",
      "  `https://gitlab.com/claudiodanielpc/colonias_mx/-/raw/main/iecm_colonias_cdmx.geojson' \n",
      "  using driver `GeoJSON'\n",
      "Simple feature collection with 1837 features and 10 fields\n",
      "Geometry type: MULTIPOLYGON\n",
      "Dimension:     XY\n",
      "Bounding box:  xmin: -99.35109 ymin: 19.12742 xmax: -98.94565 ymax: 19.59378\n",
      "Geodetic CRS:  WGS 84\n"
     ]
    },
    {
     "name": "stderr",
     "output_type": "stream",
     "text": [
      "Warning message:\n",
      "\"attribute variables are assumed to be spatially constant throughout all geometries\"\n",
      "Warning message:\n",
      "\"attribute variables are assumed to be spatially constant throughout all geometries\"\n"
     ]
    }
   ],
   "source": [
    "##SITIO DE INTERÉS\n",
    "sitio <- st_as_sf(data.frame(lon = -99.172436, lat = 19.438515), \n",
    "                  coords = c(\"lon\", \"lat\"), \n",
    "                  crs = 4326)|>\n",
    "  st_transform(32614)\n",
    "\n",
    "\n",
    "#st_write(sitio, \"sitio.geojson\")\n",
    "\n",
    "buffer<- sitio|>\n",
    "  st_buffer(500)|>\n",
    "  mutate(sitio = \"zona influencia\", \n",
    "         distancia = 500)\n",
    "  \n",
    "##COLONIAS Y ZONA DE INTERÉS ----\n",
    "colonias <- st_read(\"https://gitlab.com/claudiodanielpc/colonias_mx/-/raw/main/iecm_colonias_cdmx.geojson\")|>\n",
    "  st_transform(32614)|>\n",
    "  select(UT, CVEUT, DEMARCACIO)\n",
    "\n",
    "colonia_sitio<-sitio|>\n",
    "  st_intersection(colonias)\n",
    "\n",
    "colonias_interes<-buffer|>\n",
    "  st_intersection(colonias)|>\n",
    "  st_drop_geometry()|>\n",
    "  as.data.frame()\n",
    "\n",
    "zona_interes <- colonias %>%\n",
    "  filter(CVEUT %in% colonias_interes$CVEUT) %>%\n",
    "  mutate(area = as.numeric(st_area(geometry)) / 10000)\n",
    "\n",
    "  #st_write(zona_interes, \"zona_interes.geojson\")"
   ]
  },
  {
   "cell_type": "code",
   "execution_count": 3,
   "id": "0f82e073",
   "metadata": {
    "vscode": {
     "languageId": "r"
    }
   },
   "outputs": [
    {
     "data": {
      "image/png": "[encoded data removed]",
      "text/plain": [
       "Plot with title \"area\""
      ]
     },
     "metadata": {
      "image/png": {
       "height": 420,
       "width": 420
      }
     },
     "output_type": "display_data"
    }
   ],
   "source": [
    "plot(zona_interes)"
   ]
  },
  {
   "cell_type": "code",
   "execution_count": 21,
   "id": "60636478",
   "metadata": {
    "vscode": {
     "languageId": "r"
    }
   },
   "outputs": [
    {
     "name": "stderr",
     "output_type": "stream",
     "text": [
      "\u001b[1mRows: \u001b[22m\u001b[34m237\u001b[39m \u001b[1mColumns: \u001b[22m\u001b[34m10\u001b[39m\n",
      "\u001b[36m──\u001b[39m \u001b[1mColumn specification\u001b[22m \u001b[36m────────────────────────────────────────────────────────\u001b[39m\n",
      "\u001b[1mDelimiter:\u001b[22m \",\"\n",
      "\u001b[31mchr\u001b[39m  (2): oferta, fuente\n",
      "\u001b[32mdbl\u001b[39m  (7): precio, mts, bathrooms, recamaras, lat, lon, precio_m2\n",
      "\u001b[34mdttm\u001b[39m (1): fecha_consulta\n",
      "\n",
      "\u001b[36mℹ\u001b[39m Use `spec()` to retrieve the full column specification for this data.\n",
      "\u001b[36mℹ\u001b[39m Specify the column types or set `show_col_types = FALSE` to quiet this message.\n",
      "Warning message:\n",
      "\"attribute variables are assumed to be spatially constant throughout all geometries\"\n"
     ]
    }
   ],
   "source": [
    "renta_de_vivienda <- read_csv(\"C:/Users/brenp/Documents/GitHub/VARIOS/renta_veronica_easyaviso.csv\")|>\n",
    "mutate(latitud = lat,\n",
    "       longitud = lon)|>\n",
    "       st_as_sf(coords = c(\"lon\", \"lat\"), crs = 4326)|>\n",
    "       st_transform(32614)|>\n",
    "       st_intersection(zona_interes)"
   ]
  },
  {
   "cell_type": "code",
   "execution_count": 22,
   "id": "7cda52a3",
   "metadata": {
    "vscode": {
     "languageId": "r"
    }
   },
   "outputs": [
    {
     "name": "stderr",
     "output_type": "stream",
     "text": [
      "Warning message:\n",
      "\"plotting the first 9 out of 14 attributes; use max.plot = 14 to plot all\"\n"
     ]
    },
    {
     "name": "stdout",
     "output_type": "stream",
     "text": [
      "sf [193 × 15] (S3: sf/tbl_df/tbl/data.frame)\n",
      " $ oferta        : chr [1:193] \"penthouse en renta con roof garden privado\" \"moderno loft con terraza cerca del angel de la independencia\" \"departamento en rio panuco 118 cuauhtemoc\" \"renta departamento en reforma\" ...\n",
      " $ precio        : num [1:193] 39000 30000 15000 21000 33000 ...\n",
      " $ mts           : num [1:193] 240 134 50 45 85 98 100 127 44 74 ...\n",
      " $ bathrooms     : num [1:193] 2 NA NA NA 2 2 2 NA NA 2 ...\n",
      " $ recamaras     : num [1:193] 2 NA NA NA 2 NA 2 NA NA 2 ...\n",
      " $ fuente        : chr [1:193] \"easyaviso\" \"easyaviso\" \"easyaviso\" \"easyaviso\" ...\n",
      " $ fecha_consulta: POSIXct[1:193], format: \"2025-05-07 12:28:03\" \"2025-05-07 12:28:03\" ...\n",
      " $ precio_m2     : num [1:193] 162 224 300 467 388 ...\n",
      " $ latitud       : num [1:193] 19.4 19.4 19.4 19.4 19.4 ...\n",
      " $ longitud      : num [1:193] -99.2 -99.2 -99.2 -99.2 -99.2 ...\n",
      " $ UT            : chr [1:193] \"CUAUHTEMOC\" \"CUAUHTEMOC\" \"CUAUHTEMOC\" \"CUAUHTEMOC\" ...\n",
      " $ CVEUT         : chr [1:193] \"15-009\" \"15-009\" \"15-009\" \"15-009\" ...\n",
      " $ DEMARCACIO    : chr [1:193] \"CUAUHTEMOC\" \"CUAUHTEMOC\" \"CUAUHTEMOC\" \"CUAUHTEMOC\" ...\n",
      " $ area          : num [1:193] 124 124 124 124 124 ...\n",
      " $ geometry      :sfc_POINT of length 193; first list element:  'XY' num [1:2] 483055 2148537\n",
      " - attr(*, \"sf_column\")= chr \"geometry\"\n",
      " - attr(*, \"agr\")= Factor w/ 3 levels \"constant\",\"aggregate\",..: NA NA NA NA NA NA NA NA NA NA ...\n",
      "  ..- attr(*, \"names\")= chr [1:14] \"oferta\" \"precio\" \"mts\" \"bathrooms\" ...\n"
     ]
    },
    {
     "data": {
      "image/png": "[encoded data removed]",
      "text/plain": [
       "Plot with title \"latitud\""
      ]
     },
     "metadata": {
      "image/png": {
       "height": 420,
       "width": 420
      }
     },
     "output_type": "display_data"
    }
   ],
   "source": [
    "plot(renta_de_vivienda)\n",
    "str(renta_de_vivienda)"
   ]
  },
  {
   "cell_type": "code",
   "execution_count": null,
   "id": "5880e8eb",
   "metadata": {
    "vscode": {
     "languageId": "r"
    }
   },
   "outputs": [],
   "source": [
    "#write.csv(renta_de_vivienda, \"C:/Users/brenp/Documents/GitHub/VARIOS/renta_veronica.csv\")"
   ]
  },
  {
   "cell_type": "code",
   "execution_count": 34,
   "id": "a167cc88",
   "metadata": {
    "vscode": {
     "languageId": "r"
    }
   },
   "outputs": [
    {
     "name": "stderr",
     "output_type": "stream",
     "text": [
      "\u001b[1mRows: \u001b[22m\u001b[34m173\u001b[39m \u001b[1mColumns: \u001b[22m\u001b[34m17\u001b[39m\n",
      "\u001b[36m──\u001b[39m \u001b[1mColumn specification\u001b[22m \u001b[36m────────────────────────────────────────────────────────\u001b[39m\n",
      "\u001b[1mDelimiter:\u001b[22m \",\"\n",
      "\u001b[31mchr\u001b[39m  (6): oferta, fuente, UT, CVEUT, DEMARCACIO, Unnamed: 16\n",
      "\u001b[32mdbl\u001b[39m  (8): Unnamed: 0, precio, mts, bathrooms, recamaras, precio_m2, latitud,...\n",
      "\u001b[33mlgl\u001b[39m  (2): Unnamed: 14, Unnamed: 15\n",
      "\u001b[34mtime\u001b[39m (1): fecha_consulta\n",
      "\n",
      "\u001b[36mℹ\u001b[39m Use `spec()` to retrieve the full column specification for this data.\n",
      "\u001b[36mℹ\u001b[39m Specify the column types or set `show_col_types = FALSE` to quiet this message.\n"
     ]
    },
    {
     "data": {
      "text/html": [
       "173"
      ],
      "text/latex": [
       "173"
      ],
      "text/markdown": [
       "173"
      ],
      "text/plain": [
       "[1] 173"
      ]
     },
     "metadata": {},
     "output_type": "display_data"
    }
   ],
   "source": [
    "renta_de_vivienda_2 <- read_csv(\"C:/Users/brenp/Documents/GitHub/VARIOS/renta_veronica_limpio.csv\")|>\n",
    "       st_as_sf(coords = c(\"longitud\", \"latitud\"), crs = 4326)|>\n",
    "       st_transform(32614)\n",
    "\n",
    "\n",
    " nrow(renta_de_vivienda_2)      "
   ]
  },
  {
   "cell_type": "code",
   "execution_count": 29,
   "id": "e01a91b5",
   "metadata": {
    "vscode": {
     "languageId": "r"
    }
   },
   "outputs": [],
   "source": [
    "precios_colonias <- renta_de_vivienda_2|>\n",
    "    group_by(CVEUT)|>\n",
    "    summarise(precio_promedio_col = mean(precio, na.rm = TRUE))|>\n",
    "    st_drop_geometry()|>\n",
    "    as.data.frame()"
   ]
  },
  {
   "cell_type": "code",
   "execution_count": 32,
   "id": "28624027",
   "metadata": {
    "vscode": {
     "languageId": "r"
    }
   },
   "outputs": [
    {
     "name": "stdout",
     "output_type": "stream",
     "text": [
      "Writing layer `precios_colonias' to data source \n",
      "  `C:/Users/brenp/Desktop/PREDIO MH/precios_colonias.geojson' using driver `GeoJSON'\n",
      "Writing 5 features with 5 fields and geometry type Multi Polygon.\n"
     ]
    }
   ],
   "source": [
    "precios_colonias_poligonos <- zona_interes|>\n",
    "    left_join(precios_colonias, by = \"CVEUT\")\n",
    "\n",
    "\n",
    "st_write(precios_colonias_poligonos, \"C:/Users/brenp/Desktop/PREDIO MH/precios_colonias.geojson\")"
   ]
  },
  {
   "cell_type": "code",
   "execution_count": 33,
   "id": "7d1552c3",
   "metadata": {
    "vscode": {
     "languageId": "r"
    }
   },
   "outputs": [
    {
     "name": "stderr",
     "output_type": "stream",
     "text": [
      "Warning message:\n",
      "\"attribute variables are assumed to be spatially constant throughout all geometries\"\n"
     ]
    },
    {
     "data": {
      "text/html": [
       "<table class=\"dataframe\">\n",
       "<caption>A data.frame: 1 × 2</caption>\n",
       "<thead>\n",
       "\t<tr><th scope=col>sitio</th><th scope=col>precio_promedio_buffer</th></tr>\n",
       "\t<tr><th scope=col>&lt;chr&gt;</th><th scope=col>&lt;dbl&gt;</th></tr>\n",
       "</thead>\n",
       "<tbody>\n",
       "\t<tr><td>zona influencia</td><td>32250</td></tr>\n",
       "</tbody>\n",
       "</table>\n"
      ],
      "text/latex": [
       "A data.frame: 1 × 2\n",
       "\\begin{tabular}{ll}\n",
       " sitio & precio\\_promedio\\_buffer\\\\\n",
       " <chr> & <dbl>\\\\\n",
       "\\hline\n",
       "\t zona influencia & 32250\\\\\n",
       "\\end{tabular}\n"
      ],
      "text/markdown": [
       "\n",
       "A data.frame: 1 × 2\n",
       "\n",
       "| sitio &lt;chr&gt; | precio_promedio_buffer &lt;dbl&gt; |\n",
       "|---|---|\n",
       "| zona influencia | 32250 |\n",
       "\n"
      ],
      "text/plain": [
       "  sitio           precio_promedio_buffer\n",
       "1 zona influencia 32250                 "
      ]
     },
     "metadata": {},
     "output_type": "display_data"
    }
   ],
   "source": [
    "buffer<- sitio|>\n",
    "  st_buffer(250)|>\n",
    "  mutate(sitio = \"zona influencia\", \n",
    "         distancia = 500)\n",
    "\n",
    "precios_buffer<-renta_de_vivienda_2|>\n",
    "    st_intersection(buffer)|>\n",
    "    group_by(sitio)|>\n",
    "    summarise(precio_promedio_buffer = mean(precio, na.rm = TRUE))|>\n",
    "    st_drop_geometry()|>\n",
    "    as.data.frame()\n",
    "\n",
    "precios_buffer"
   ]
  },
  {
   "cell_type": "code",
   "execution_count": null,
   "id": "b9e5278a",
   "metadata": {
    "vscode": {
     "languageId": "r"
    }
   },
   "outputs": [],
   "source": [
    "hist(predios$vus, breaks = 10,                     \n",
    "     main = \"Distribución de VUS\",\n",
    "     xlab = \"Valor de VUS\",\n",
    "     col = \"gray\")\n",
    "abline(v = mean(predios$vus, na.rm = TRUE), col = \"red\", lwd = 2, lty = 2)\n",
    "abline(v = median(predios$vus, na.rm = TRUE), col = \"green\", lwd = 2, lty = 2)\n",
    "legend(\"topright\", legend = c(\"Media\", \"Mediana\"),col = c(\"red\", \"green\"),lwd = 2)\n"
   ]
  },
  {
   "cell_type": "code",
   "execution_count": null,
   "id": "1b438c11",
   "metadata": {
    "vscode": {
     "languageId": "r"
    }
   },
   "outputs": [],
   "source": [
    "##DATOS DE VIVIENDA EN LAS COLONIAS\n",
    "##PRINCIPALES RESULTADOS POR MANZANA CENSO DE POBLACIÓN Y VIVIENDA 2020\n",
    "url <- \"https://www.inegi.org.mx/contenidos/programas/ccpv/2020/microdatos/ageb_manzana/RESAGEBURB_09_2020_xlsx.zip\"\n",
    "temp_zip <- tempfile(fileext = \".zip\")\n",
    "temp_dir <- tempdir()\n",
    "options(timeout = 800)\n",
    "download.file(url, temp_zip, mode = \"wb\")\n",
    "unzip(temp_zip, exdir = temp_dir)\n",
    "\n",
    "RESAGEBURB_09XLSX20_BASE <- list.files(temp_dir, pattern =\"RESAGEBURB_09XLSX20.xlsx\", full.names = TRUE, recursive = TRUE)\n",
    "RESAGEBURB_09XLSX20<- readxl::read_excel(RESAGEBURB_09XLSX20_BASE)|>\n",
    "  mutate(CVEGEO = paste0(ENTIDAD, MUN, LOC, AGEB, MZA),\n",
    "         CVE_MUNI = paste0(ENTIDAD, MUN))|>\n",
    "  mutate_all(~ gsub(\"//*\", \"\", .)) |> \n",
    "  mutate(across(9:230, ~ as.numeric(., na.rm = TRUE)))\n",
    "\n",
    "##MANZANAS DEL MARCO GEOESTADISTICO NACIONAL 2020----\n",
    "url <- \"https://www.inegi.org.mx/contenidos/productos/prod_serv/contenidos/espanol/bvinegi/productos/geografia/marcogeo/889463807469/09_ciudaddemexico.zip\"\n",
    "temp_zip <- tempfile(fileext = \".zip\")     \n",
    "temp_dir <- tempdir()                       \n",
    "options(timeout = 1000)                      \n",
    "download.file(url, temp_zip, mode = \"wb\")\n",
    "related_files <- paste0(\"conjunto_de_datos/09m\", c(\".shp\", \".shx\", \".dbf\", \".prj\"))\n",
    "unzip(temp_zip, files = related_files, exdir = temp_dir)\n",
    "shp_file_path <- file.path(temp_dir, related_files[1])\n",
    "\n",
    "manzanas <- st_read(shp_file_path, quiet = TRUE)|>\n",
    "  st_transform(crs = 32614)|>\n",
    "  st_centroid()|>\n",
    "  st_intersection(zona_interes)\n",
    "\n",
    "manzanas_censo_2020<- manzanas|>\n",
    "  left_join(RESAGEBURB_09XLSX20, by = \"CVEGEO\")\n",
    "\n",
    "#st_write(manzanas_censo_2020, \"C:/Users/brenp/Desktop/PREDIO MH/manzanas_censo_2020.geojson\")\n",
    "\n",
    "##VIVIENDA TOTAL---\n",
    "vivienda_total <- manzanas_censo_2020 |>\n",
    "  st_drop_geometry()|>\n",
    "  as.data.frame()|>\n",
    "  group_by(UT) |>\n",
    "  summarise(POB_TOTAL = sum(POBTOT, na.rm = TRUE),\n",
    "            VIVIENDA_TOTAL = sum(VIVTOT, na.rm = TRUE),\n",
    "            TOT_VIVPARHAB = sum(TVIVPARHAB, na.rm = TRUE),\n",
    "            TOT_VIPAR = sum(TVIVPAR, na.rm = TRUE),\n",
    "            TOT_VIV_DES = sum(VIVPAR_DES, na.rm = TRUE),\n",
    "            PRC_VIV_DES = round(TOT_VIV_DES * 100 / TOT_VIPAR, 1))\n",
    "\n",
    "# Calcular totales generales\n",
    "totales <- manzanas_censo_2020 |>\n",
    "  mutate(zona = \"total\")|>\n",
    "  group_by(zona)|>\n",
    "  summarise(POB_TOTAL = sum(POBTOT, na.rm = TRUE),\n",
    "            VIVIENDA_TOTAL = sum(VIVTOT, na.rm = TRUE),\n",
    "            TOT_VIVPARHAB = sum(TVIVPARHAB, na.rm = TRUE),\n",
    "            TOT_VIPAR = sum(TVIVPAR, na.rm = TRUE),\n",
    "            TOT_VIV_DES = sum(VIVPAR_DES, na.rm = TRUE),\n",
    "            PRC_VIV_DES = round(TOT_VIV_DES * 100 / TOT_VIPAR, 1))\n",
    "\n",
    "# Unir con los datos originales\n",
    "tabla_completa <- bind_rows(vivienda_total, totales)|>\n",
    "  st_drop_geometry()|>\n",
    "  as.data.frame()|>\n",
    "  left_join(zona_interes, by = \"UT\")|>\n",
    "  mutate(dens_pob = POB_TOTAL/area)\n",
    "\n",
    "print(tabla_completa)"
   ]
  },
  {
   "cell_type": "code",
   "execution_count": null,
   "id": "2d3bbf80",
   "metadata": {
    "vscode": {
     "languageId": "r"
    }
   },
   "outputs": [],
   "source": [
    "##DATOS DE AIRBNB----\n",
    "relacion_viv_airbnb <- read.csv(\"C:/Users/brenp/Documents/GitHub/airbnb_stuff/clasificacion_colonias_tensionadas.csv\")|>\n",
    "  #select(cveut, ut, relvivairbnb)|>\n",
    "  filter(cveut %in%zona_interes$CVEUT)\n",
    "\n",
    "#LA BASE SE FILTRA POR LOS DATOS DE UNIDADES COMPLETAS EN RENTA\n",
    "url <- \"https://data.insideairbnb.com/mexico/df/mexico-city/2024-12-27/data/listings.csv.gz\"\n",
    "\n",
    "airbnb_base<-read_csv(url, col_types = cols(.default = col_character()))|>\n",
    "  mutate(price = as.numeric(gsub(\"[$,]\", \"\", price)),\n",
    "         latitude= as.numeric(latitude), \n",
    "         longitude= as.numeric(longitude))|>\n",
    "  rename(ID_AIRBNB=id)|>\n",
    "  filter(room_type == \"Entire home/apt\")|>\n",
    "  st_as_sf(coords = c(\"longitude\", \"latitude\"), crs = 4326)|>\n",
    "  st_transform(crs = 32614)|>\n",
    "  st_intersection(zona_interes)\n",
    "\n",
    "#st_write(airbnb_base, \"airbnb_base_zona.geojson\")\n"
   ]
  },
  {
   "cell_type": "code",
   "execution_count": null,
   "id": "a5f46384",
   "metadata": {
    "vscode": {
     "languageId": "r"
    }
   },
   "outputs": [],
   "source": [
    "##AREA DE INFLUENCIA DE LÍNEAS/ESTACIONES DE TRANSPORTE MASIVO ----\n",
    "##METRO\n",
    "url<- \"https://datos.cdmx.gob.mx/dataset/1b014317-ddb1-46c7-ac79-7330c652abe3/resource/288b10dd-4f21-4338-b1ed-239487820512/download/stcmetro_shp.zip\"\n",
    "temp_zip <- tempfile(fileext = \".zip\")     \n",
    "temp_dir <- tempdir()\n",
    "\n",
    "download.file(url, temp_zip, mode = \"wb\")\n",
    "\n",
    "related_files <- paste0(\"stcmetro_shp/STC_Metro_lineas_utm14n\", c(\".shp\", \".shx\", \".dbf\", \".prj\"))\n",
    "unzip(temp_zip, files = related_files, exdir = temp_dir)\n",
    "shp_file_path <- file.path(temp_dir, related_files[1])\n",
    "\n",
    "metro_linea <- st_read(shp_file_path, quiet = TRUE)|>\n",
    "  st_intersection(zona_interes)|>\n",
    "  mutate(SISTEMA = \"Metro\")|>\n",
    "  select(SISTEMA, RUTA)\n",
    "\n",
    "##METROBUS\n",
    "url<-\"https://datos.cdmx.gob.mx/dataset/63a08f93-e959-430f-8dc4-bf07182401e6/resource/66cd5773-d83f-4a80-8c15-8ab34851e046/download/mb_shp.zip\"\n",
    "temp_zip <- tempfile(fileext = \".zip\")     \n",
    "temp_dir <- tempdir()\n",
    "\n",
    "download.file(url, temp_zip, mode = \"wb\")\n",
    "\n",
    "related_files <- paste0(\"mb_shp/Metrobus_lineas\", c(\".shp\", \".shx\", \".dbf\", \".prj\"))\n",
    "unzip(temp_zip, files = related_files, exdir = temp_dir)\n",
    "shp_file_path <- file.path(temp_dir, related_files[1])\n",
    "\n",
    "metrobus_lineas <- st_read(shp_file_path, quiet = TRUE)|>\n",
    "  st_transform(crs = 32614)|>\n",
    "  st_intersection(zona_interes)|>\n",
    "  mutate(SISTEMA = \"Metrobus\")|>\n",
    "  select(SISTEMA, RUTA)\n",
    "\n",
    "related_files <- paste0(\"mb_shp/Metrobus_estaciones\", c(\".shp\", \".shx\", \".dbf\", \".prj\"))\n",
    "unzip(temp_zip, files = related_files, exdir = temp_dir)\n",
    "shp_file_path <- file.path(temp_dir, related_files[1])\n",
    "\n",
    "metrobus_punto <- st_read(shp_file_path, quiet = TRUE)|>\n",
    "  st_transform(crs = 32614)|>\n",
    "  st_intersection(zona_interes)|>\n",
    "  mutate(SISTEMA = \"Metrobus\")|>\n",
    "  select(SISTEMA, LINEA, NOMBRE)\n",
    "\n",
    "##sistema de transporte electrico\n",
    "url <- \"https://datos.cdmx.gob.mx/dataset/6a3bc652-a775-41a0-aeb6-05d31ee40b59/resource/c7a1b906-92ff-4525-9b0c-f166ea731f95/download/ste_shp.zip\"\n",
    "temp_zip <- tempfile(fileext = \".zip\")     \n",
    "temp_dir <- tempdir()\n",
    "download.file(url, temp_zip, mode = \"wb\")\n",
    "\n",
    "##ESTACIONES DE TRANSPORTE ELECTRICO (TROLEBUS)\n",
    "related_files <- paste0(\"ste_shp/ste_trolebus_shp/STE_Trolebus_Paradas\", c(\".shp\", \".shx\", \".dbf\", \".prj\"))\n",
    "unzip(temp_zip, files = related_files, exdir = temp_dir)\n",
    "shp_file_path <- file.path(temp_dir, related_files[1])\n",
    "\n",
    "trole<- st_read(shp_file_path, quiet = TRUE)|>\n",
    "  st_transform(crs = 32614)|>\n",
    "  mutate(SISTEMA = \"TROLEBUS\")|>\n",
    "  st_intersection(zona_interes)|>\n",
    "  select(SISTEMA, LINEA, NOMBRE)\n",
    "\n",
    "##TROLEBUS LINEAS\n",
    "related_files <- paste0(\"ste_shp/ste_trolebus_shp/STE_Trolebus_Lineas\", c(\".shp\", \".shx\", \".dbf\", \".prj\"))\n",
    "unzip(temp_zip, files = related_files, exdir = temp_dir)\n",
    "shp_file_path <- file.path(temp_dir, related_files[1])\n",
    "\n",
    "trole_lineas<- st_read(shp_file_path, quiet = TRUE)|>\n",
    "  st_transform(crs = 32614)|>\n",
    "  mutate(SISTEMA = \"TROLEBUS\")|>\n",
    "  st_intersection(zona_interes)|>\n",
    "  select(SISTEMA, RUTA)\n",
    "\n",
    "##TRANSPORTE CONCESIONADO \n",
    "url <- \"https://datos.cdmx.gob.mx/dataset/rutas-y-corredores-del-transporte-publico-concesionado/resource/6e0ec632-49bd-4f7b-a8f8-2afb44464ae1\"\n",
    "temp_zip <- tempfile(fileext = \".zip\")     \n",
    "temp_dir <- tempdir()\n",
    "download.file(url, temp_zip, mode = \"wb\")\n",
    "\n",
    "related_files <- paste0(\"concesionado_shp/concesionado_rutas\", c(\".shp\", \".shx\", \".dbf\", \".prj\"))\n",
    "unzip(temp_zip, files = related_files, exdir = temp_dir)\n",
    "shp_file_path <- file.path(temp_dir, related_files[1])\n",
    "camion_lineas<- st_read(shp_file_path, quiet = TRUE)|>\n",
    "  st_transform(crs = 32614)|>\n",
    "  mutate(SISTEMA = \"Transporte concesionado\")|>\n",
    "  st_intersection(zona_interes)|>\n",
    "  select(SISTEMA, RUTA)\n",
    "\n",
    "##PARADAS DE TRANSPORTE CONCESIONADO\n",
    "related_files <- paste0(\"concesionado_shp/concesionado_paradas\", c(\".shp\", \".shx\", \".dbf\", \".prj\"))\n",
    "unzip(temp_zip, files = related_files, exdir = temp_dir)\n",
    "shp_file_path <- file.path(temp_dir, related_files[1])\n",
    "\n",
    "camion_puntos<- st_read(shp_file_path, quiet = TRUE)|>\n",
    "  st_transform(crs = 32614)|>\n",
    "  mutate(SISTEMA = \"Transporte concesionado\")|>\n",
    "  st_intersection(zona_interes)|>\n",
    "  select(SISTEMA, RUTA)\n",
    "\n",
    "##UNIR DATOS DE TRANSPORTE PÚBLICO\n",
    "#LINEAS DE TRANSPORTE PÚBLICO\n",
    "stpm_lineas <-metro_linea|>\n",
    "  bind_rows(trole_lineas, metrobus_lineas, camion_lineas)\n",
    "\n",
    "##ESTACIONES DE TRANSPORTE PÚBLICO\n",
    "stpm_puntos <- metrobus_punto|>\n",
    "  bind_rows(trole, camion_puntos)\n",
    "\n",
    "\n",
    "#st_write(stpm_lineas, \"stpm_lineas.geojson\")\n",
    "#st_write(stpm_puntos, \"stpm_puntos.geojson\")"
   ]
  },
  {
   "cell_type": "code",
   "execution_count": null,
   "id": "73bcca7a",
   "metadata": {
    "vscode": {
     "languageId": "r"
    }
   },
   "outputs": [],
   "source": [
    "#ESPACIO PÚBLICO----\n",
    "ep <- st_read(\"https://datos.cdmx.gob.mx/dataset/33f7efb2-540a-41e5-a7b2-f5c83e030b54/resource/e443a870-08d2-42ad-843f-ac4e0eb5541e/download/inventario-de-reas-verdes-en-la-ciudad-de-mxico..json\") |>\n",
    "  st_transform(crs = 32614) |>\n",
    "  filter(categoria_ %in% c(\"Parques, arboledas y alamedas\", \"Plazas y jardines\", \"Forestación urbana\", \"Áreas verdes complementarias o ligadas a la red vial\"))|>\n",
    "  st_intersection(zona_interes)\n",
    "\n",
    "ep_tipo <-ep|>\n",
    "  group_by(categoria_)|>\n",
    "  summarise(cuenta = n())\n",
    "\n",
    "#st_write(ep,\"ep.geojson\")\n",
    "\n",
    "#EQUIPAMIENTO DE ABASTO (MERCADOS PÚBLICOS)----\n",
    "mercados<-st_read(\"https://datos.cdmx.gob.mx/dataset/6e008c6b-197c-49f2-899f-47b9a406596c/resource/39a74f11-55c5-4abf-aaf2-3558a9a281f7/download/mercados-pblicos.json\")|>\n",
    "  st_transform(crs = 32614)|>\n",
    "  st_intersection(zona_interes)\n",
    "\n",
    "\n",
    "#st_write(mercados,\"mercados.geojson\")\n",
    "\n",
    "##EQUIPAMIENTO DE EDUCACIÓN\n",
    "escuelas<-readxl:: read_excel(\"C:/Users/brenp/Downloads/concentrado_escuelas.xlsx\") |>\n",
    "  rename(LON = \"Ubicación de la escuela-localidad al Oeste del Meridiano de Greenwich, expresada en grados\", \n",
    "         LAT = \"Ubicación de la escuela-localidad al norte del Ecuador, expresada en grados\") |>\n",
    "  mutate(coordenadas = paste0(LON, \",\", LAT))|>\n",
    "  mutate(LAT = as.numeric(LAT),LON = as.numeric(LON))|>\n",
    "  filter(!is.na(LAT) & !is.na(LON))|>\n",
    "  st_as_sf(coords = c(\"LON\", \"LAT\"), crs = 4326)|>\n",
    "  st_transform(32614)|>\n",
    "  st_intersection(zona_interes)\n",
    "\n",
    "#st_write(escuelas,\"escuelas.geojson\")\n",
    "\n",
    "\n",
    "nivel<-escuelas|>\n",
    "  group_by(Nivel.educativo)|>\n",
    "  summarise(cuenta = n())|>\n",
    "  st_drop_geometry()|>\n",
    "  as.data.frame()\n"
   ]
  },
  {
   "cell_type": "code",
   "execution_count": 5,
   "id": "4f9b5b78",
   "metadata": {
    "vscode": {
     "languageId": "r"
    }
   },
   "outputs": [
    {
     "name": "stdout",
     "output_type": "stream",
     "text": [
      "Reading layer `catastro2021_CIUDADDEMEXICO' from data source \n",
      "  `C:\\Users\\brenp\\Desktop\\AIRBNB\\csv_catastro\\catastro2021_CIUDADDEMEXICO.shp' \n",
      "  using driver `ESRI Shapefile'\n",
      "Simple feature collection with 1089684 features and 15 fields\n",
      "Geometry type: POLYGON\n",
      "Dimension:     XY\n",
      "Bounding box:  xmin: 463005.3 ymin: 2111471 xmax: 505542.1 ymax: 2166407\n",
      "Projected CRS: WGS 84 / UTM zone 14N\n"
     ]
    },
    {
     "name": "stderr",
     "output_type": "stream",
     "text": [
      "Warning message:\n",
      "\"attribute variables are assumed to be spatially constant throughout all geometries\"\n"
     ]
    },
    {
     "name": "stdout",
     "output_type": "stream",
     "text": [
      "Reading layer `puntos_predios' from data source \n",
      "  `C:\\Users\\brenp\\Desktop\\INDICADORES PLAN GENERAL CDMX\\TEMPORALES\\puntos_cdmx_predios.gpkg' \n",
      "  using driver `GPKG'\n",
      "Simple feature collection with 1215066 features and 17 fields\n",
      "Geometry type: POINT\n",
      "Dimension:     XY\n",
      "Bounding box:  xmin: 462953.9 ymin: 2106620 xmax: 505997.9 ymax: 2165946\n",
      "Projected CRS: WGS 84 / UTM zone 14N\n"
     ]
    },
    {
     "name": "stderr",
     "output_type": "stream",
     "text": [
      "Warning message:\n",
      "\"attribute variables are assumed to be spatially constant throughout all geometries\"\n"
     ]
    }
   ],
   "source": [
    "##USO DE SUELO\n",
    "predios <- st_read(\"C:/Users/brenp/Desktop/AIRBNB/csv_catastro/catastro2021_CIUDADDEMEXICO.shp\")|>\n",
    "  st_transform(32614)|>\n",
    "  st_intersection(zona_interes)|>\n",
    "  mutate(id_predio = row_number())\n",
    "\n",
    "puntos_predios <- st_read(\"C:/Users/brenp/Desktop/INDICADORES PLAN GENERAL CDMX/TEMPORALES/puntos_cdmx_predios.gpkg\")|>\n",
    "  mutate(cta_cat = str_extract(liga_ciuda, \"(?<=cuentaCatastral=)[^&]+\"))|>\n",
    "  st_transform(32614)|>\n",
    "  st_intersection(zona_interes)\n"
   ]
  },
  {
   "cell_type": "code",
   "execution_count": null,
   "id": "0a7ac367",
   "metadata": {
    "vscode": {
     "languageId": "r"
    }
   },
   "outputs": [],
   "source": [
    "plot(predios)\n",
    "\n",
    "plot(puntos_predios)"
   ]
  },
  {
   "cell_type": "code",
   "execution_count": 6,
   "id": "f7a30934",
   "metadata": {
    "vscode": {
     "languageId": "r"
    }
   },
   "outputs": [
    {
     "data": {
      "text/html": [
       "4393"
      ],
      "text/latex": [
       "4393"
      ],
      "text/markdown": [
       "4393"
      ],
      "text/plain": [
       "[1] 4393"
      ]
     },
     "metadata": {},
     "output_type": "display_data"
    },
    {
     "data": {
      "text/html": [
       "4245"
      ],
      "text/latex": [
       "4245"
      ],
      "text/markdown": [
       "4245"
      ],
      "text/plain": [
       "[1] 4245"
      ]
     },
     "metadata": {},
     "output_type": "display_data"
    }
   ],
   "source": [
    "nrow(puntos_predios)\n",
    "nrow(predios)"
   ]
  },
  {
   "cell_type": "code",
   "execution_count": null,
   "id": "9621c9e6",
   "metadata": {
    "vscode": {
     "languageId": "r"
    }
   },
   "outputs": [],
   "source": [
    "predios_datos <- predios |>\n",
    "  st_join(puntos_predios, left = TRUE) |>\n",
    "  group_by(id_predio) |>\n",
    "  slice(1) |>\n",
    "  ungroup()|>\n",
    "  mutate(ent = \"09\")\n",
    "\n",
    "# str(predios_datos)\n",
    "# nrow(predios)\n",
    "# colnames(predios_datos)\n",
    "# unique(predios_datos$uso_descri)\n",
    "\n",
    "\n",
    "predios_datos_fil <-predios_datos|>\n",
    "  filter(uso_descri %in% c(\n",
    "                            'Habitacional Tipo B.',\n",
    "                            'Habitacional Tipo A.',\n",
    "                            'Habitacional Plurifamiliar y/o Oficinas con Comercio.',\n",
    "                            'Habitacional Tipo C.',\n",
    "                            'Habitacional Plurifamiliar y/o Oficinas sin Servicios.',\n",
    "                            'Habitacional /Comercial.',\n",
    "                            'Habitacional con Comercio solo en P.B.',\n",
    "                            'Habitacional Plurifamiliar y/o Oficinas y/o Servicios Turísticos con Comercio en P.B.',\n",
    "                            'Habitacional Mixto',\n",
    "                            'Habitacional',\n",
    "                            'Habitacional con Oficinas',\n",
    "                            'Habitacional con Comercio en Planta Baja'))|>\n",
    "  group_by(UT.x)|>\n",
    "  summarise(precio_m2 = mean(vus, na.rm = TRUE),\n",
    "            precio_m2_max = max(vus, na.rm = TRUE),\n",
    "            precio_m2_min = min(vus, na.rm = TRUE))\n",
    "\n",
    "predios_datos_fil\n",
    "\n",
    "predios_datos_fil_total <-predios_datos|>\n",
    "  filter(uso_descri %in% c(\n",
    "                            'Habitacional Tipo B.',\n",
    "                            'Habitacional Tipo A.',\n",
    "                            'Habitacional Plurifamiliar y/o Oficinas con Comercio.',\n",
    "                            'Habitacional Tipo C.',\n",
    "                            'Habitacional Plurifamiliar y/o Oficinas sin Servicios.',\n",
    "                            'Habitacional /Comercial.',\n",
    "                            'Habitacional con Comercio solo en P.B.',\n",
    "                            'Habitacional Plurifamiliar y/o Oficinas y/o Servicios Turísticos con Comercio en P.B.',\n",
    "                            'Habitacional Mixto',\n",
    "                            'Habitacional',\n",
    "                            'Habitacional con Oficinas',\n",
    "                            'Habitacional con Comercio en Planta Baja'))|>\n",
    "  group_by(ent)|>\n",
    "  summarise(precio_m2 = mean(vus, na.rm = TRUE),\n",
    "            precio_m2_max = max(vus, na.rm = TRUE),\n",
    "            precio_m2_min = min(vus, na.rm = TRUE))\n",
    "\n",
    "head(predios_datos_fil_total)"
   ]
  },
  {
   "cell_type": "code",
   "execution_count": 15,
   "id": "12a0c940",
   "metadata": {
    "vscode": {
     "languageId": "r"
    }
   },
   "outputs": [
    {
     "name": "stdout",
     "output_type": "stream",
     "text": [
      "Writing layer `predios_datos_fil' to data source \n",
      "  `C:/Users/brenp/Desktop/PREDIO MH/predios_datos_fil.geojson' using driver `GeoJSON'\n",
      "Writing 4157 features with 43 fields and geometry type Polygon.\n"
     ]
    }
   ],
   "source": [
    "predios_datos_fil <-predios_datos|>\n",
    "  filter(uso_descri %in% c(\n",
    "                            'Habitacional Tipo B.',\n",
    "                            'Habitacional Tipo A.',\n",
    "                            'Habitacional Plurifamiliar y/o Oficinas con Comercio.',\n",
    "                            'Habitacional Tipo C.',\n",
    "                            'Habitacional Plurifamiliar y/o Oficinas sin Servicios.',\n",
    "                            'Habitacional /Comercial.',\n",
    "                            'Habitacional con Comercio solo en P.B.',\n",
    "                            'Habitacional Plurifamiliar y/o Oficinas y/o Servicios Turísticos con Comercio en P.B.',\n",
    "                            'Habitacional Mixto',\n",
    "                            'Habitacional',\n",
    "                            'Habitacional con Oficinas',\n",
    "                            'Habitacional con Comercio en Planta Baja'))\n",
    "\n",
    "st_write(predios_datos_fil, \"C:/Users/brenp/Desktop/PREDIO MH/predios_datos_fil.geojson\")"
   ]
  },
  {
   "cell_type": "code",
   "execution_count": null,
   "id": "73902bb1",
   "metadata": {
    "vscode": {
     "languageId": "r"
    }
   },
   "outputs": [],
   "source": [
    "hist(predios$vus, breaks = 10,                     \n",
    "     main = \"Distribución de VUS\",\n",
    "     xlab = \"Valor de VUS\",\n",
    "     col = \"gray\")\n",
    "abline(v = mean(predios$vus, na.rm = TRUE), col = \"red\", lwd = 2, lty = 2)\n",
    "abline(v = median(predios$vus, na.rm = TRUE), col = \"green\", lwd = 2, lty = 2)\n",
    "legend(\"topright\", legend = c(\"Media\", \"Mediana\"),col = c(\"red\", \"green\"),lwd = 2)\n"
   ]
  }
 ],
 "metadata": {
  "kernelspec": {
   "display_name": "R",
   "language": "R",
   "name": "ir"
  },
  "language_info": {
   "codemirror_mode": "r",
   "file_extension": ".r",
   "mimetype": "text/x-r-source",
   "name": "R",
   "pygments_lexer": "r",
   "version": "4.4.3"
  }
 },
 "nbformat": 4,
 "nbformat_minor": 5
}
