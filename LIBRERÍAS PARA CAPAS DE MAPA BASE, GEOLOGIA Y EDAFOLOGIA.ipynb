{
 "cells": [
  {
   "cell_type": "code",
   "execution_count": null,
   "id": "225f94ec-55d7-487f-a805-46e7f3a25355",
   "metadata": {},
   "outputs": [],
   "source": [
    "#LIBRERÍAS PARA CAPAS DE MAPA BASE, GEOLOGIA Y EDAFOLOGIA\n",
    "import subprocess\n",
    "import sys\n",
    "\n",
    "def install(package):\n",
    "    subprocess.check_call([sys.executable, \"-m\", \"pip\", \"install\", package])\n",
    "\n",
    "# Instalar pip si no está instalado\n",
    "try:\n",
    "    subprocess.check_call([sys.executable, \"-m\", \"ensurepip\"])\n",
    "except subprocess.CalledProcessError:\n",
    "    print(\"Error al intentar instalar pip\")\n",
    "\n",
    "# Instalar librerías\n",
    "install(\"geopandas\")\n",
    "install(\"shapely\")\n",
    "install(\"gdal\")\n",
    "install(\"numpy\")\n",
    "install(\"requests\")\n",
    "install(\"pandas\")\n",
    "install(\"selenium\")\n",
    "\n",
    "# Librerías estándar que no requieren instalación\n",
    "# 'copy', 'os', 'math', 'urllib', 'time', 'zipfile', 'warnings'"
   ]
  }
 ],
 "metadata": {
  "kernelspec": {
   "display_name": "Python [conda env:geo_env] *",
   "language": "python",
   "name": "conda-env-geo_env-py"
  },
  "language_info": {
   "codemirror_mode": {
    "name": "ipython",
    "version": 3
   },
   "file_extension": ".py",
   "mimetype": "text/x-python",
   "name": "python",
   "nbconvert_exporter": "python",
   "pygments_lexer": "ipython3",
   "version": "3.8.19"
  }
 },
 "nbformat": 4,
 "nbformat_minor": 5
}
