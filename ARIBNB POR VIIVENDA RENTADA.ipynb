{
 "cells": [
  {
   "cell_type": "markdown",
   "id": "61b7d59e",
   "metadata": {},
   "source": [
    "**RELACIÓN DE VIVIENDAS EN RENTA Y VIVIENDAS COMO ALOJAMIENTOS DE RENTA A CORTO PLAZO**"
   ]
  },
  {
   "cell_type": "code",
   "execution_count": 43,
   "id": "5e0b7251",
   "metadata": {
    "vscode": {
     "languageId": "r"
    }
   },
   "outputs": [
    {
     "data": {
      "text/html": [
       "<ol>\n",
       "\t<li><style>\n",
       ".list-inline {list-style: none; margin:0; padding: 0}\n",
       ".list-inline>li {display: inline-block}\n",
       ".list-inline>li:not(:last-child)::after {content: \"\\00b7\"; padding: 0 .5ex}\n",
       "</style>\n",
       "<ol class=list-inline><li>'srvyr'</li><li>'lubridate'</li><li>'forcats'</li><li>'stringr'</li><li>'dplyr'</li><li>'purrr'</li><li>'readr'</li><li>'tidyr'</li><li>'tibble'</li><li>'ggplot2'</li><li>'tidyverse'</li><li>'stats'</li><li>'graphics'</li><li>'grDevices'</li><li>'utils'</li><li>'datasets'</li><li>'methods'</li><li>'base'</li></ol>\n",
       "</li>\n",
       "\t<li><style>\n",
       ".list-inline {list-style: none; margin:0; padding: 0}\n",
       ".list-inline>li {display: inline-block}\n",
       ".list-inline>li:not(:last-child)::after {content: \"\\00b7\"; padding: 0 .5ex}\n",
       "</style>\n",
       "<ol class=list-inline><li>'srvyr'</li><li>'lubridate'</li><li>'forcats'</li><li>'stringr'</li><li>'dplyr'</li><li>'purrr'</li><li>'readr'</li><li>'tidyr'</li><li>'tibble'</li><li>'ggplot2'</li><li>'tidyverse'</li><li>'stats'</li><li>'graphics'</li><li>'grDevices'</li><li>'utils'</li><li>'datasets'</li><li>'methods'</li><li>'base'</li></ol>\n",
       "</li>\n",
       "\t<li><style>\n",
       ".list-inline {list-style: none; margin:0; padding: 0}\n",
       ".list-inline>li {display: inline-block}\n",
       ".list-inline>li:not(:last-child)::after {content: \"\\00b7\"; padding: 0 .5ex}\n",
       "</style>\n",
       "<ol class=list-inline><li>'srvyr'</li><li>'lubridate'</li><li>'forcats'</li><li>'stringr'</li><li>'dplyr'</li><li>'purrr'</li><li>'readr'</li><li>'tidyr'</li><li>'tibble'</li><li>'ggplot2'</li><li>'tidyverse'</li><li>'stats'</li><li>'graphics'</li><li>'grDevices'</li><li>'utils'</li><li>'datasets'</li><li>'methods'</li><li>'base'</li></ol>\n",
       "</li>\n",
       "</ol>\n"
      ],
      "text/latex": [
       "\\begin{enumerate}\n",
       "\\item \\begin{enumerate*}\n",
       "\\item 'srvyr'\n",
       "\\item 'lubridate'\n",
       "\\item 'forcats'\n",
       "\\item 'stringr'\n",
       "\\item 'dplyr'\n",
       "\\item 'purrr'\n",
       "\\item 'readr'\n",
       "\\item 'tidyr'\n",
       "\\item 'tibble'\n",
       "\\item 'ggplot2'\n",
       "\\item 'tidyverse'\n",
       "\\item 'stats'\n",
       "\\item 'graphics'\n",
       "\\item 'grDevices'\n",
       "\\item 'utils'\n",
       "\\item 'datasets'\n",
       "\\item 'methods'\n",
       "\\item 'base'\n",
       "\\end{enumerate*}\n",
       "\n",
       "\\item \\begin{enumerate*}\n",
       "\\item 'srvyr'\n",
       "\\item 'lubridate'\n",
       "\\item 'forcats'\n",
       "\\item 'stringr'\n",
       "\\item 'dplyr'\n",
       "\\item 'purrr'\n",
       "\\item 'readr'\n",
       "\\item 'tidyr'\n",
       "\\item 'tibble'\n",
       "\\item 'ggplot2'\n",
       "\\item 'tidyverse'\n",
       "\\item 'stats'\n",
       "\\item 'graphics'\n",
       "\\item 'grDevices'\n",
       "\\item 'utils'\n",
       "\\item 'datasets'\n",
       "\\item 'methods'\n",
       "\\item 'base'\n",
       "\\end{enumerate*}\n",
       "\n",
       "\\item \\begin{enumerate*}\n",
       "\\item 'srvyr'\n",
       "\\item 'lubridate'\n",
       "\\item 'forcats'\n",
       "\\item 'stringr'\n",
       "\\item 'dplyr'\n",
       "\\item 'purrr'\n",
       "\\item 'readr'\n",
       "\\item 'tidyr'\n",
       "\\item 'tibble'\n",
       "\\item 'ggplot2'\n",
       "\\item 'tidyverse'\n",
       "\\item 'stats'\n",
       "\\item 'graphics'\n",
       "\\item 'grDevices'\n",
       "\\item 'utils'\n",
       "\\item 'datasets'\n",
       "\\item 'methods'\n",
       "\\item 'base'\n",
       "\\end{enumerate*}\n",
       "\n",
       "\\end{enumerate}\n"
      ],
      "text/markdown": [
       "1. 1. 'srvyr'\n",
       "2. 'lubridate'\n",
       "3. 'forcats'\n",
       "4. 'stringr'\n",
       "5. 'dplyr'\n",
       "6. 'purrr'\n",
       "7. 'readr'\n",
       "8. 'tidyr'\n",
       "9. 'tibble'\n",
       "10. 'ggplot2'\n",
       "11. 'tidyverse'\n",
       "12. 'stats'\n",
       "13. 'graphics'\n",
       "14. 'grDevices'\n",
       "15. 'utils'\n",
       "16. 'datasets'\n",
       "17. 'methods'\n",
       "18. 'base'\n",
       "\n",
       "\n",
       "\n",
       "2. 1. 'srvyr'\n",
       "2. 'lubridate'\n",
       "3. 'forcats'\n",
       "4. 'stringr'\n",
       "5. 'dplyr'\n",
       "6. 'purrr'\n",
       "7. 'readr'\n",
       "8. 'tidyr'\n",
       "9. 'tibble'\n",
       "10. 'ggplot2'\n",
       "11. 'tidyverse'\n",
       "12. 'stats'\n",
       "13. 'graphics'\n",
       "14. 'grDevices'\n",
       "15. 'utils'\n",
       "16. 'datasets'\n",
       "17. 'methods'\n",
       "18. 'base'\n",
       "\n",
       "\n",
       "\n",
       "3. 1. 'srvyr'\n",
       "2. 'lubridate'\n",
       "3. 'forcats'\n",
       "4. 'stringr'\n",
       "5. 'dplyr'\n",
       "6. 'purrr'\n",
       "7. 'readr'\n",
       "8. 'tidyr'\n",
       "9. 'tibble'\n",
       "10. 'ggplot2'\n",
       "11. 'tidyverse'\n",
       "12. 'stats'\n",
       "13. 'graphics'\n",
       "14. 'grDevices'\n",
       "15. 'utils'\n",
       "16. 'datasets'\n",
       "17. 'methods'\n",
       "18. 'base'\n",
       "\n",
       "\n",
       "\n",
       "\n",
       "\n"
      ],
      "text/plain": [
       "[[1]]\n",
       " [1] \"srvyr\"     \"lubridate\" \"forcats\"   \"stringr\"   \"dplyr\"     \"purrr\"    \n",
       " [7] \"readr\"     \"tidyr\"     \"tibble\"    \"ggplot2\"   \"tidyverse\" \"stats\"    \n",
       "[13] \"graphics\"  \"grDevices\" \"utils\"     \"datasets\"  \"methods\"   \"base\"     \n",
       "\n",
       "[[2]]\n",
       " [1] \"srvyr\"     \"lubridate\" \"forcats\"   \"stringr\"   \"dplyr\"     \"purrr\"    \n",
       " [7] \"readr\"     \"tidyr\"     \"tibble\"    \"ggplot2\"   \"tidyverse\" \"stats\"    \n",
       "[13] \"graphics\"  \"grDevices\" \"utils\"     \"datasets\"  \"methods\"   \"base\"     \n",
       "\n",
       "[[3]]\n",
       " [1] \"srvyr\"     \"lubridate\" \"forcats\"   \"stringr\"   \"dplyr\"     \"purrr\"    \n",
       " [7] \"readr\"     \"tidyr\"     \"tibble\"    \"ggplot2\"   \"tidyverse\" \"stats\"    \n",
       "[13] \"graphics\"  \"grDevices\" \"utils\"     \"datasets\"  \"methods\"   \"base\"     \n"
      ]
     },
     "metadata": {},
     "output_type": "display_data"
    }
   ],
   "source": [
    "#LIBRERIAS (instalación y carga)\n",
    "libraries <- c(\"tidyverse\",\n",
    "               \"readr\", \n",
    "               \"srvyr\")\n",
    "installed_packages <- rownames(installed.packages())\n",
    "libraries_to_install <- setdiff(libraries, installed_packages)\n",
    "\n",
    "if (length(libraries_to_install) > 0) {\n",
    "  install.packages(libraries_to_install)}\n",
    "\n",
    "lapply(libraries, library, character.only = TRUE)"
   ]
  },
  {
   "cell_type": "code",
   "execution_count": 44,
   "id": "25198017",
   "metadata": {
    "vscode": {
     "languageId": "r"
    }
   },
   "outputs": [],
   "source": [
    "#Función para leer los datos de la Encuesta Nacional de Ingresos y Gastos de los Hogares (ENIGH) \n",
    "leer_enigh <- function(anio)\n",
    "{ \n",
    "  #URL de descarga los datos de viviendas para los años 2018, 2020 y 2022\n",
    "    urls <- list(\"2018\" = \"https://en.www.inegi.org.mx/contenidos/programas/enigh/nc/2018/microdatos/enigh2018_ns_viviendas_csv.zip\",\n",
    "                \"2020\" = \"https://en.www.inegi.org.mx/contenidos/programas/enigh/nc/2020/microdatos/enigh2020_ns_viviendas_csv.zip\",\n",
    "                \"2022\" = \"https://en.www.inegi.org.mx/contenidos/programas/enigh/nc/2022/microdatos/enigh2022_ns_viviendas_csv.zip\"\n",
    "                )\n",
    "  \n",
    "    # Archivo y directorio temporales\n",
    "    temp_zip <- tempfile(fileext = \".zip\")\n",
    "    temp_dir <- tempdir()\n",
    "    options(timeout = 800)\n",
    "  \n",
    "    # Descargar y descomprimir\n",
    "    download.file(urls[[as.character(anio)]], temp_zip, mode = \"wb\")\n",
    "    unzip(temp_zip, exdir = temp_dir)\n",
    "  \n",
    "    # Buscar el archivo de viviendas\n",
    "    enigh_viviendas <- list.files(temp_dir, pattern = \"viviendas.csv\", \n",
    "                                    full.names = TRUE, recursive = TRUE)\n",
    "  \n",
    "    # Leer el archivo como caracteres por defecto\n",
    "    viviendas <- read_csv(enigh_viviendas, col_types = cols(.default = col_character()))\n",
    "\n",
    "    unlink(temp_zip)\n",
    "    unlink(list.files(temp_dir, full.names = TRUE), recursive = TRUE)\n",
    "    \n",
    "    return(viviendas)\n",
    "}\n"
   ]
  },
  {
   "cell_type": "code",
   "execution_count": 45,
   "id": "546619e3",
   "metadata": {
    "vscode": {
     "languageId": "r"
    }
   },
   "outputs": [],
   "source": [
    "viviendas_2022 <- leer_enigh(2022)|>\n",
    "  mutate(cve_ent = substr(folioviv, 1,2))|>\n",
    "  filter(cve_ent == \"09\")|>\n",
    "  mutate(viv_rentada = ifelse(is.na(renta) | renta < 0, \"No rentada\", \"Rentada\"),\n",
    "        factor = as.numeric(factor))\n",
    "\n",
    "viviendas_2020 <- leer_enigh(2020)|>\n",
    "  mutate(cve_ent = substr(folioviv, 1,2))|>\n",
    "  filter(cve_ent == \"09\")|>\n",
    "  mutate(viv_rentada = ifelse(is.na(renta) | renta < 0, \"No rentada\", \"Rentada\"),\n",
    "        factor = as.numeric(factor))\n",
    "        \n",
    "viviendas_2018 <- leer_enigh(2018)|>\n",
    "  mutate(cve_ent = substr(folioviv, 1,2))|>\n",
    "  filter(cve_ent == \"09\")|>\n",
    "  mutate(viv_rentada = ifelse(is.na(renta) | renta < 0, \"No rentada\", \"Rentada\"),\n",
    "        factor = as.numeric(factor))"
   ]
  },
  {
   "cell_type": "code",
   "execution_count": 46,
   "id": "7d92e29e",
   "metadata": {
    "vscode": {
     "languageId": "r"
    }
   },
   "outputs": [
    {
     "data": {
      "text/html": [
       "<table class=\"dataframe\">\n",
       "<caption>A tibble: 6 × 66</caption>\n",
       "<thead>\n",
       "\t<tr><th scope=col>folioviv</th><th scope=col>tipo_viv</th><th scope=col>mat_pared</th><th scope=col>mat_techos</th><th scope=col>mat_pisos</th><th scope=col>antiguedad</th><th scope=col>antigua_ne</th><th scope=col>cocina</th><th scope=col>cocina_dor</th><th scope=col>cuart_dorm</th><th scope=col>⋯</th><th scope=col>tot_hog</th><th scope=col>ubica_geo</th><th scope=col>tam_loc</th><th scope=col>est_socio</th><th scope=col>est_dis</th><th scope=col>upm</th><th scope=col>factor</th><th scope=col>procaptar</th><th scope=col>cve_ent</th><th scope=col>viv_rentada</th></tr>\n",
       "\t<tr><th scope=col>&lt;chr&gt;</th><th scope=col>&lt;chr&gt;</th><th scope=col>&lt;chr&gt;</th><th scope=col>&lt;chr&gt;</th><th scope=col>&lt;chr&gt;</th><th scope=col>&lt;chr&gt;</th><th scope=col>&lt;chr&gt;</th><th scope=col>&lt;chr&gt;</th><th scope=col>&lt;chr&gt;</th><th scope=col>&lt;chr&gt;</th><th scope=col>⋯</th><th scope=col>&lt;chr&gt;</th><th scope=col>&lt;chr&gt;</th><th scope=col>&lt;chr&gt;</th><th scope=col>&lt;chr&gt;</th><th scope=col>&lt;chr&gt;</th><th scope=col>&lt;chr&gt;</th><th scope=col>&lt;dbl&gt;</th><th scope=col>&lt;chr&gt;</th><th scope=col>&lt;chr&gt;</th><th scope=col>&lt;chr&gt;</th></tr>\n",
       "</thead>\n",
       "<tbody>\n",
       "\t<tr><td>0900006901</td><td>2</td><td>8</td><td>10</td><td>2</td><td>50</td><td>NA</td><td>1</td><td>2</td><td>3</td><td>⋯</td><td>1</td><td>09002</td><td>1</td><td>3</td><td>141</td><td>0003071</td><td>1578</td><td>0</td><td>09</td><td>No rentada</td></tr>\n",
       "\t<tr><td>0900006902</td><td>1</td><td>8</td><td>10</td><td>3</td><td>NA</td><td>1 </td><td>1</td><td>2</td><td>3</td><td>⋯</td><td>1</td><td>09002</td><td>1</td><td>3</td><td>141</td><td>0003071</td><td>1578</td><td>0</td><td>09</td><td>No rentada</td></tr>\n",
       "\t<tr><td>0900006903</td><td>1</td><td>8</td><td>10</td><td>2</td><td>40</td><td>NA</td><td>1</td><td>2</td><td>2</td><td>⋯</td><td>1</td><td>09002</td><td>1</td><td>3</td><td>141</td><td>0003071</td><td>1578</td><td>0</td><td>09</td><td>No rentada</td></tr>\n",
       "\t<tr><td>0900006904</td><td>1</td><td>8</td><td>10</td><td>3</td><td>46</td><td>NA</td><td>1</td><td>2</td><td>3</td><td>⋯</td><td>1</td><td>09002</td><td>1</td><td>3</td><td>141</td><td>0003071</td><td>1578</td><td>0</td><td>09</td><td>No rentada</td></tr>\n",
       "\t<tr><td>0900006905</td><td>1</td><td>8</td><td>10</td><td>3</td><td>45</td><td>NA</td><td>1</td><td>2</td><td>3</td><td>⋯</td><td>1</td><td>09002</td><td>1</td><td>3</td><td>141</td><td>0003071</td><td>1578</td><td>0</td><td>09</td><td>No rentada</td></tr>\n",
       "\t<tr><td>0900006906</td><td>1</td><td>8</td><td>10</td><td>2</td><td>NA</td><td>1 </td><td>1</td><td>2</td><td>3</td><td>⋯</td><td>1</td><td>09002</td><td>1</td><td>3</td><td>141</td><td>0003071</td><td>1578</td><td>0</td><td>09</td><td>Rentada   </td></tr>\n",
       "</tbody>\n",
       "</table>\n"
      ],
      "text/latex": [
       "A tibble: 6 × 66\n",
       "\\begin{tabular}{lllllllllllllllllllll}\n",
       " folioviv & tipo\\_viv & mat\\_pared & mat\\_techos & mat\\_pisos & antiguedad & antigua\\_ne & cocina & cocina\\_dor & cuart\\_dorm & ⋯ & tot\\_hog & ubica\\_geo & tam\\_loc & est\\_socio & est\\_dis & upm & factor & procaptar & cve\\_ent & viv\\_rentada\\\\\n",
       " <chr> & <chr> & <chr> & <chr> & <chr> & <chr> & <chr> & <chr> & <chr> & <chr> & ⋯ & <chr> & <chr> & <chr> & <chr> & <chr> & <chr> & <dbl> & <chr> & <chr> & <chr>\\\\\n",
       "\\hline\n",
       "\t 0900006901 & 2 & 8 & 10 & 2 & 50 & NA & 1 & 2 & 3 & ⋯ & 1 & 09002 & 1 & 3 & 141 & 0003071 & 1578 & 0 & 09 & No rentada\\\\\n",
       "\t 0900006902 & 1 & 8 & 10 & 3 & NA & 1  & 1 & 2 & 3 & ⋯ & 1 & 09002 & 1 & 3 & 141 & 0003071 & 1578 & 0 & 09 & No rentada\\\\\n",
       "\t 0900006903 & 1 & 8 & 10 & 2 & 40 & NA & 1 & 2 & 2 & ⋯ & 1 & 09002 & 1 & 3 & 141 & 0003071 & 1578 & 0 & 09 & No rentada\\\\\n",
       "\t 0900006904 & 1 & 8 & 10 & 3 & 46 & NA & 1 & 2 & 3 & ⋯ & 1 & 09002 & 1 & 3 & 141 & 0003071 & 1578 & 0 & 09 & No rentada\\\\\n",
       "\t 0900006905 & 1 & 8 & 10 & 3 & 45 & NA & 1 & 2 & 3 & ⋯ & 1 & 09002 & 1 & 3 & 141 & 0003071 & 1578 & 0 & 09 & No rentada\\\\\n",
       "\t 0900006906 & 1 & 8 & 10 & 2 & NA & 1  & 1 & 2 & 3 & ⋯ & 1 & 09002 & 1 & 3 & 141 & 0003071 & 1578 & 0 & 09 & Rentada   \\\\\n",
       "\\end{tabular}\n"
      ],
      "text/markdown": [
       "\n",
       "A tibble: 6 × 66\n",
       "\n",
       "| folioviv &lt;chr&gt; | tipo_viv &lt;chr&gt; | mat_pared &lt;chr&gt; | mat_techos &lt;chr&gt; | mat_pisos &lt;chr&gt; | antiguedad &lt;chr&gt; | antigua_ne &lt;chr&gt; | cocina &lt;chr&gt; | cocina_dor &lt;chr&gt; | cuart_dorm &lt;chr&gt; | ⋯ ⋯ | tot_hog &lt;chr&gt; | ubica_geo &lt;chr&gt; | tam_loc &lt;chr&gt; | est_socio &lt;chr&gt; | est_dis &lt;chr&gt; | upm &lt;chr&gt; | factor &lt;dbl&gt; | procaptar &lt;chr&gt; | cve_ent &lt;chr&gt; | viv_rentada &lt;chr&gt; |\n",
       "|---|---|---|---|---|---|---|---|---|---|---|---|---|---|---|---|---|---|---|---|---|\n",
       "| 0900006901 | 2 | 8 | 10 | 2 | 50 | NA | 1 | 2 | 3 | ⋯ | 1 | 09002 | 1 | 3 | 141 | 0003071 | 1578 | 0 | 09 | No rentada |\n",
       "| 0900006902 | 1 | 8 | 10 | 3 | NA | 1  | 1 | 2 | 3 | ⋯ | 1 | 09002 | 1 | 3 | 141 | 0003071 | 1578 | 0 | 09 | No rentada |\n",
       "| 0900006903 | 1 | 8 | 10 | 2 | 40 | NA | 1 | 2 | 2 | ⋯ | 1 | 09002 | 1 | 3 | 141 | 0003071 | 1578 | 0 | 09 | No rentada |\n",
       "| 0900006904 | 1 | 8 | 10 | 3 | 46 | NA | 1 | 2 | 3 | ⋯ | 1 | 09002 | 1 | 3 | 141 | 0003071 | 1578 | 0 | 09 | No rentada |\n",
       "| 0900006905 | 1 | 8 | 10 | 3 | 45 | NA | 1 | 2 | 3 | ⋯ | 1 | 09002 | 1 | 3 | 141 | 0003071 | 1578 | 0 | 09 | No rentada |\n",
       "| 0900006906 | 1 | 8 | 10 | 2 | NA | 1  | 1 | 2 | 3 | ⋯ | 1 | 09002 | 1 | 3 | 141 | 0003071 | 1578 | 0 | 09 | Rentada    |\n",
       "\n"
      ],
      "text/plain": [
       "  folioviv   tipo_viv mat_pared mat_techos mat_pisos antiguedad antigua_ne\n",
       "1 0900006901 2        8         10         2         50         NA        \n",
       "2 0900006902 1        8         10         3         NA         1         \n",
       "3 0900006903 1        8         10         2         40         NA        \n",
       "4 0900006904 1        8         10         3         46         NA        \n",
       "5 0900006905 1        8         10         3         45         NA        \n",
       "6 0900006906 1        8         10         2         NA         1         \n",
       "  cocina cocina_dor cuart_dorm ⋯ tot_hog ubica_geo tam_loc est_socio est_dis\n",
       "1 1      2          3          ⋯ 1       09002     1       3         141    \n",
       "2 1      2          3          ⋯ 1       09002     1       3         141    \n",
       "3 1      2          2          ⋯ 1       09002     1       3         141    \n",
       "4 1      2          3          ⋯ 1       09002     1       3         141    \n",
       "5 1      2          3          ⋯ 1       09002     1       3         141    \n",
       "6 1      2          3          ⋯ 1       09002     1       3         141    \n",
       "  upm     factor procaptar cve_ent viv_rentada\n",
       "1 0003071 1578   0         09      No rentada \n",
       "2 0003071 1578   0         09      No rentada \n",
       "3 0003071 1578   0         09      No rentada \n",
       "4 0003071 1578   0         09      No rentada \n",
       "5 0003071 1578   0         09      No rentada \n",
       "6 0003071 1578   0         09      Rentada    "
      ]
     },
     "metadata": {},
     "output_type": "display_data"
    },
    {
     "data": {
      "text/html": [
       "<style>\n",
       ".list-inline {list-style: none; margin:0; padding: 0}\n",
       ".list-inline>li {display: inline-block}\n",
       ".list-inline>li:not(:last-child)::after {content: \"\\00b7\"; padding: 0 .5ex}\n",
       "</style>\n",
       "<ol class=list-inline><li>'No rentada'</li><li>'Rentada'</li></ol>\n"
      ],
      "text/latex": [
       "\\begin{enumerate*}\n",
       "\\item 'No rentada'\n",
       "\\item 'Rentada'\n",
       "\\end{enumerate*}\n"
      ],
      "text/markdown": [
       "1. 'No rentada'\n",
       "2. 'Rentada'\n",
       "\n",
       "\n"
      ],
      "text/plain": [
       "[1] \"No rentada\" \"Rentada\"   "
      ]
     },
     "metadata": {},
     "output_type": "display_data"
    },
    {
     "data": {
      "text/html": [
       "<table class=\"dataframe\">\n",
       "<caption>A tibble: 6 × 66</caption>\n",
       "<thead>\n",
       "\t<tr><th scope=col>folioviv</th><th scope=col>tipo_viv</th><th scope=col>mat_pared</th><th scope=col>mat_techos</th><th scope=col>mat_pisos</th><th scope=col>antiguedad</th><th scope=col>antigua_ne</th><th scope=col>cocina</th><th scope=col>cocina_dor</th><th scope=col>cuart_dorm</th><th scope=col>⋯</th><th scope=col>tot_hog</th><th scope=col>ubica_geo</th><th scope=col>tam_loc</th><th scope=col>est_socio</th><th scope=col>est_dis</th><th scope=col>upm</th><th scope=col>factor</th><th scope=col>procaptar</th><th scope=col>cve_ent</th><th scope=col>viv_rentada</th></tr>\n",
       "\t<tr><th scope=col>&lt;chr&gt;</th><th scope=col>&lt;chr&gt;</th><th scope=col>&lt;chr&gt;</th><th scope=col>&lt;chr&gt;</th><th scope=col>&lt;chr&gt;</th><th scope=col>&lt;chr&gt;</th><th scope=col>&lt;chr&gt;</th><th scope=col>&lt;chr&gt;</th><th scope=col>&lt;chr&gt;</th><th scope=col>&lt;chr&gt;</th><th scope=col>⋯</th><th scope=col>&lt;chr&gt;</th><th scope=col>&lt;chr&gt;</th><th scope=col>&lt;chr&gt;</th><th scope=col>&lt;chr&gt;</th><th scope=col>&lt;chr&gt;</th><th scope=col>&lt;chr&gt;</th><th scope=col>&lt;dbl&gt;</th><th scope=col>&lt;chr&gt;</th><th scope=col>&lt;chr&gt;</th><th scope=col>&lt;chr&gt;</th></tr>\n",
       "</thead>\n",
       "<tbody>\n",
       "\t<tr><td>0900063901</td><td>2</td><td>8</td><td>10</td><td>3</td><td>30</td><td>NA</td><td>1</td><td>2</td><td>2</td><td>⋯</td><td>1</td><td>09002</td><td>1</td><td>3</td><td>140</td><td>0003048</td><td>1351</td><td>0</td><td>09</td><td>No rentada</td></tr>\n",
       "\t<tr><td>0900063902</td><td>2</td><td>8</td><td>10</td><td>3</td><td>35</td><td>NA</td><td>1</td><td>2</td><td>2</td><td>⋯</td><td>1</td><td>09002</td><td>1</td><td>3</td><td>140</td><td>0003048</td><td>1351</td><td>0</td><td>09</td><td>No rentada</td></tr>\n",
       "\t<tr><td>0900063903</td><td>&amp;</td><td>6</td><td>10</td><td>3</td><td>NA</td><td>1 </td><td>1</td><td>2</td><td>2</td><td>⋯</td><td>1</td><td>09002</td><td>1</td><td>3</td><td>140</td><td>0003048</td><td>1351</td><td>0</td><td>09</td><td><span style=white-space:pre-wrap>Rentada   </span></td></tr>\n",
       "\t<tr><td>0900063904</td><td>2</td><td>8</td><td>10</td><td>3</td><td>35</td><td>NA</td><td>1</td><td>2</td><td>2</td><td>⋯</td><td>1</td><td>09002</td><td>1</td><td>3</td><td>140</td><td>0003048</td><td>1351</td><td>0</td><td>09</td><td>No rentada</td></tr>\n",
       "\t<tr><td>0900063905</td><td>2</td><td>8</td><td>10</td><td>3</td><td>20</td><td>NA</td><td>1</td><td>2</td><td>2</td><td>⋯</td><td>1</td><td>09002</td><td>1</td><td>3</td><td>140</td><td>0003048</td><td>1351</td><td>0</td><td>09</td><td>No rentada</td></tr>\n",
       "\t<tr><td>0900063906</td><td>2</td><td>8</td><td>10</td><td>3</td><td>NA</td><td>1 </td><td>1</td><td>2</td><td>2</td><td>⋯</td><td>1</td><td>09002</td><td>1</td><td>3</td><td>140</td><td>0003048</td><td>1351</td><td>0</td><td>09</td><td>No rentada</td></tr>\n",
       "</tbody>\n",
       "</table>\n"
      ],
      "text/latex": [
       "A tibble: 6 × 66\n",
       "\\begin{tabular}{lllllllllllllllllllll}\n",
       " folioviv & tipo\\_viv & mat\\_pared & mat\\_techos & mat\\_pisos & antiguedad & antigua\\_ne & cocina & cocina\\_dor & cuart\\_dorm & ⋯ & tot\\_hog & ubica\\_geo & tam\\_loc & est\\_socio & est\\_dis & upm & factor & procaptar & cve\\_ent & viv\\_rentada\\\\\n",
       " <chr> & <chr> & <chr> & <chr> & <chr> & <chr> & <chr> & <chr> & <chr> & <chr> & ⋯ & <chr> & <chr> & <chr> & <chr> & <chr> & <chr> & <dbl> & <chr> & <chr> & <chr>\\\\\n",
       "\\hline\n",
       "\t 0900063901 & 2 & 8 & 10 & 3 & 30 & NA & 1 & 2 & 2 & ⋯ & 1 & 09002 & 1 & 3 & 140 & 0003048 & 1351 & 0 & 09 & No rentada\\\\\n",
       "\t 0900063902 & 2 & 8 & 10 & 3 & 35 & NA & 1 & 2 & 2 & ⋯ & 1 & 09002 & 1 & 3 & 140 & 0003048 & 1351 & 0 & 09 & No rentada\\\\\n",
       "\t 0900063903 & \\& & 6 & 10 & 3 & NA & 1  & 1 & 2 & 2 & ⋯ & 1 & 09002 & 1 & 3 & 140 & 0003048 & 1351 & 0 & 09 & Rentada   \\\\\n",
       "\t 0900063904 & 2 & 8 & 10 & 3 & 35 & NA & 1 & 2 & 2 & ⋯ & 1 & 09002 & 1 & 3 & 140 & 0003048 & 1351 & 0 & 09 & No rentada\\\\\n",
       "\t 0900063905 & 2 & 8 & 10 & 3 & 20 & NA & 1 & 2 & 2 & ⋯ & 1 & 09002 & 1 & 3 & 140 & 0003048 & 1351 & 0 & 09 & No rentada\\\\\n",
       "\t 0900063906 & 2 & 8 & 10 & 3 & NA & 1  & 1 & 2 & 2 & ⋯ & 1 & 09002 & 1 & 3 & 140 & 0003048 & 1351 & 0 & 09 & No rentada\\\\\n",
       "\\end{tabular}\n"
      ],
      "text/markdown": [
       "\n",
       "A tibble: 6 × 66\n",
       "\n",
       "| folioviv &lt;chr&gt; | tipo_viv &lt;chr&gt; | mat_pared &lt;chr&gt; | mat_techos &lt;chr&gt; | mat_pisos &lt;chr&gt; | antiguedad &lt;chr&gt; | antigua_ne &lt;chr&gt; | cocina &lt;chr&gt; | cocina_dor &lt;chr&gt; | cuart_dorm &lt;chr&gt; | ⋯ ⋯ | tot_hog &lt;chr&gt; | ubica_geo &lt;chr&gt; | tam_loc &lt;chr&gt; | est_socio &lt;chr&gt; | est_dis &lt;chr&gt; | upm &lt;chr&gt; | factor &lt;dbl&gt; | procaptar &lt;chr&gt; | cve_ent &lt;chr&gt; | viv_rentada &lt;chr&gt; |\n",
       "|---|---|---|---|---|---|---|---|---|---|---|---|---|---|---|---|---|---|---|---|---|\n",
       "| 0900063901 | 2 | 8 | 10 | 3 | 30 | NA | 1 | 2 | 2 | ⋯ | 1 | 09002 | 1 | 3 | 140 | 0003048 | 1351 | 0 | 09 | No rentada |\n",
       "| 0900063902 | 2 | 8 | 10 | 3 | 35 | NA | 1 | 2 | 2 | ⋯ | 1 | 09002 | 1 | 3 | 140 | 0003048 | 1351 | 0 | 09 | No rentada |\n",
       "| 0900063903 | &amp; | 6 | 10 | 3 | NA | 1  | 1 | 2 | 2 | ⋯ | 1 | 09002 | 1 | 3 | 140 | 0003048 | 1351 | 0 | 09 | Rentada    |\n",
       "| 0900063904 | 2 | 8 | 10 | 3 | 35 | NA | 1 | 2 | 2 | ⋯ | 1 | 09002 | 1 | 3 | 140 | 0003048 | 1351 | 0 | 09 | No rentada |\n",
       "| 0900063905 | 2 | 8 | 10 | 3 | 20 | NA | 1 | 2 | 2 | ⋯ | 1 | 09002 | 1 | 3 | 140 | 0003048 | 1351 | 0 | 09 | No rentada |\n",
       "| 0900063906 | 2 | 8 | 10 | 3 | NA | 1  | 1 | 2 | 2 | ⋯ | 1 | 09002 | 1 | 3 | 140 | 0003048 | 1351 | 0 | 09 | No rentada |\n",
       "\n"
      ],
      "text/plain": [
       "  folioviv   tipo_viv mat_pared mat_techos mat_pisos antiguedad antigua_ne\n",
       "1 0900063901 2        8         10         3         30         NA        \n",
       "2 0900063902 2        8         10         3         35         NA        \n",
       "3 0900063903 &        6         10         3         NA         1         \n",
       "4 0900063904 2        8         10         3         35         NA        \n",
       "5 0900063905 2        8         10         3         20         NA        \n",
       "6 0900063906 2        8         10         3         NA         1         \n",
       "  cocina cocina_dor cuart_dorm ⋯ tot_hog ubica_geo tam_loc est_socio est_dis\n",
       "1 1      2          2          ⋯ 1       09002     1       3         140    \n",
       "2 1      2          2          ⋯ 1       09002     1       3         140    \n",
       "3 1      2          2          ⋯ 1       09002     1       3         140    \n",
       "4 1      2          2          ⋯ 1       09002     1       3         140    \n",
       "5 1      2          2          ⋯ 1       09002     1       3         140    \n",
       "6 1      2          2          ⋯ 1       09002     1       3         140    \n",
       "  upm     factor procaptar cve_ent viv_rentada\n",
       "1 0003048 1351   0         09      No rentada \n",
       "2 0003048 1351   0         09      No rentada \n",
       "3 0003048 1351   0         09      Rentada    \n",
       "4 0003048 1351   0         09      No rentada \n",
       "5 0003048 1351   0         09      No rentada \n",
       "6 0003048 1351   0         09      No rentada "
      ]
     },
     "metadata": {},
     "output_type": "display_data"
    },
    {
     "data": {
      "text/html": [
       "<style>\n",
       ".list-inline {list-style: none; margin:0; padding: 0}\n",
       ".list-inline>li {display: inline-block}\n",
       ".list-inline>li:not(:last-child)::after {content: \"\\00b7\"; padding: 0 .5ex}\n",
       "</style>\n",
       "<ol class=list-inline><li>'No rentada'</li><li>'Rentada'</li></ol>\n"
      ],
      "text/latex": [
       "\\begin{enumerate*}\n",
       "\\item 'No rentada'\n",
       "\\item 'Rentada'\n",
       "\\end{enumerate*}\n"
      ],
      "text/markdown": [
       "1. 'No rentada'\n",
       "2. 'Rentada'\n",
       "\n",
       "\n"
      ],
      "text/plain": [
       "[1] \"No rentada\" \"Rentada\"   "
      ]
     },
     "metadata": {},
     "output_type": "display_data"
    },
    {
     "data": {
      "text/html": [
       "<table class=\"dataframe\">\n",
       "<caption>A tibble: 6 × 66</caption>\n",
       "<thead>\n",
       "\t<tr><th scope=col>folioviv</th><th scope=col>tipo_viv</th><th scope=col>mat_pared</th><th scope=col>mat_techos</th><th scope=col>mat_pisos</th><th scope=col>antiguedad</th><th scope=col>antigua_ne</th><th scope=col>cocina</th><th scope=col>cocina_dor</th><th scope=col>cuart_dorm</th><th scope=col>⋯</th><th scope=col>tot_hog</th><th scope=col>ubica_geo</th><th scope=col>tam_loc</th><th scope=col>est_socio</th><th scope=col>est_dis</th><th scope=col>upm</th><th scope=col>factor</th><th scope=col>procaptar</th><th scope=col>cve_ent</th><th scope=col>viv_rentada</th></tr>\n",
       "\t<tr><th scope=col>&lt;chr&gt;</th><th scope=col>&lt;chr&gt;</th><th scope=col>&lt;chr&gt;</th><th scope=col>&lt;chr&gt;</th><th scope=col>&lt;chr&gt;</th><th scope=col>&lt;chr&gt;</th><th scope=col>&lt;chr&gt;</th><th scope=col>&lt;chr&gt;</th><th scope=col>&lt;chr&gt;</th><th scope=col>&lt;chr&gt;</th><th scope=col>⋯</th><th scope=col>&lt;chr&gt;</th><th scope=col>&lt;chr&gt;</th><th scope=col>&lt;chr&gt;</th><th scope=col>&lt;chr&gt;</th><th scope=col>&lt;chr&gt;</th><th scope=col>&lt;chr&gt;</th><th scope=col>&lt;dbl&gt;</th><th scope=col>&lt;chr&gt;</th><th scope=col>&lt;chr&gt;</th><th scope=col>&lt;chr&gt;</th></tr>\n",
       "</thead>\n",
       "<tbody>\n",
       "\t<tr><td>0900063901</td><td>2</td><td>8</td><td>10</td><td>3</td><td>30</td><td>NA</td><td>1</td><td>2</td><td>2</td><td>⋯</td><td>1</td><td>09002</td><td>1</td><td>3</td><td>138</td><td>0002526</td><td>1547</td><td>0</td><td>09</td><td>No rentada</td></tr>\n",
       "\t<tr><td>0900063902</td><td>2</td><td>8</td><td>10</td><td>3</td><td>30</td><td>NA</td><td>1</td><td>2</td><td>2</td><td>⋯</td><td>1</td><td>09002</td><td>1</td><td>3</td><td>138</td><td>0002526</td><td>1547</td><td>0</td><td>09</td><td>No rentada</td></tr>\n",
       "\t<tr><td>0900063904</td><td>2</td><td>8</td><td>10</td><td>3</td><td>14</td><td>NA</td><td>1</td><td>2</td><td>2</td><td>⋯</td><td>1</td><td>09002</td><td>1</td><td>3</td><td>138</td><td>0002526</td><td>1547</td><td>0</td><td>09</td><td>Rentada   </td></tr>\n",
       "\t<tr><td>0900063905</td><td>2</td><td>8</td><td>10</td><td>3</td><td>14</td><td>NA</td><td>1</td><td>2</td><td>2</td><td>⋯</td><td>1</td><td>09002</td><td>1</td><td>3</td><td>138</td><td>0002526</td><td>1547</td><td>0</td><td>09</td><td>No rentada</td></tr>\n",
       "\t<tr><td>0900063906</td><td>2</td><td>8</td><td>10</td><td>3</td><td>14</td><td>NA</td><td>1</td><td>2</td><td>2</td><td>⋯</td><td>1</td><td>09002</td><td>1</td><td>3</td><td>138</td><td>0002526</td><td>1547</td><td>0</td><td>09</td><td>Rentada   </td></tr>\n",
       "\t<tr><td>0900083001</td><td>1</td><td>8</td><td>10</td><td>3</td><td>15</td><td>NA</td><td>1</td><td>2</td><td>3</td><td>⋯</td><td>1</td><td>09002</td><td>1</td><td>4</td><td>139</td><td>0002527</td><td>2079</td><td>0</td><td>09</td><td>No rentada</td></tr>\n",
       "</tbody>\n",
       "</table>\n"
      ],
      "text/latex": [
       "A tibble: 6 × 66\n",
       "\\begin{tabular}{lllllllllllllllllllll}\n",
       " folioviv & tipo\\_viv & mat\\_pared & mat\\_techos & mat\\_pisos & antiguedad & antigua\\_ne & cocina & cocina\\_dor & cuart\\_dorm & ⋯ & tot\\_hog & ubica\\_geo & tam\\_loc & est\\_socio & est\\_dis & upm & factor & procaptar & cve\\_ent & viv\\_rentada\\\\\n",
       " <chr> & <chr> & <chr> & <chr> & <chr> & <chr> & <chr> & <chr> & <chr> & <chr> & ⋯ & <chr> & <chr> & <chr> & <chr> & <chr> & <chr> & <dbl> & <chr> & <chr> & <chr>\\\\\n",
       "\\hline\n",
       "\t 0900063901 & 2 & 8 & 10 & 3 & 30 & NA & 1 & 2 & 2 & ⋯ & 1 & 09002 & 1 & 3 & 138 & 0002526 & 1547 & 0 & 09 & No rentada\\\\\n",
       "\t 0900063902 & 2 & 8 & 10 & 3 & 30 & NA & 1 & 2 & 2 & ⋯ & 1 & 09002 & 1 & 3 & 138 & 0002526 & 1547 & 0 & 09 & No rentada\\\\\n",
       "\t 0900063904 & 2 & 8 & 10 & 3 & 14 & NA & 1 & 2 & 2 & ⋯ & 1 & 09002 & 1 & 3 & 138 & 0002526 & 1547 & 0 & 09 & Rentada   \\\\\n",
       "\t 0900063905 & 2 & 8 & 10 & 3 & 14 & NA & 1 & 2 & 2 & ⋯ & 1 & 09002 & 1 & 3 & 138 & 0002526 & 1547 & 0 & 09 & No rentada\\\\\n",
       "\t 0900063906 & 2 & 8 & 10 & 3 & 14 & NA & 1 & 2 & 2 & ⋯ & 1 & 09002 & 1 & 3 & 138 & 0002526 & 1547 & 0 & 09 & Rentada   \\\\\n",
       "\t 0900083001 & 1 & 8 & 10 & 3 & 15 & NA & 1 & 2 & 3 & ⋯ & 1 & 09002 & 1 & 4 & 139 & 0002527 & 2079 & 0 & 09 & No rentada\\\\\n",
       "\\end{tabular}\n"
      ],
      "text/markdown": [
       "\n",
       "A tibble: 6 × 66\n",
       "\n",
       "| folioviv &lt;chr&gt; | tipo_viv &lt;chr&gt; | mat_pared &lt;chr&gt; | mat_techos &lt;chr&gt; | mat_pisos &lt;chr&gt; | antiguedad &lt;chr&gt; | antigua_ne &lt;chr&gt; | cocina &lt;chr&gt; | cocina_dor &lt;chr&gt; | cuart_dorm &lt;chr&gt; | ⋯ ⋯ | tot_hog &lt;chr&gt; | ubica_geo &lt;chr&gt; | tam_loc &lt;chr&gt; | est_socio &lt;chr&gt; | est_dis &lt;chr&gt; | upm &lt;chr&gt; | factor &lt;dbl&gt; | procaptar &lt;chr&gt; | cve_ent &lt;chr&gt; | viv_rentada &lt;chr&gt; |\n",
       "|---|---|---|---|---|---|---|---|---|---|---|---|---|---|---|---|---|---|---|---|---|\n",
       "| 0900063901 | 2 | 8 | 10 | 3 | 30 | NA | 1 | 2 | 2 | ⋯ | 1 | 09002 | 1 | 3 | 138 | 0002526 | 1547 | 0 | 09 | No rentada |\n",
       "| 0900063902 | 2 | 8 | 10 | 3 | 30 | NA | 1 | 2 | 2 | ⋯ | 1 | 09002 | 1 | 3 | 138 | 0002526 | 1547 | 0 | 09 | No rentada |\n",
       "| 0900063904 | 2 | 8 | 10 | 3 | 14 | NA | 1 | 2 | 2 | ⋯ | 1 | 09002 | 1 | 3 | 138 | 0002526 | 1547 | 0 | 09 | Rentada    |\n",
       "| 0900063905 | 2 | 8 | 10 | 3 | 14 | NA | 1 | 2 | 2 | ⋯ | 1 | 09002 | 1 | 3 | 138 | 0002526 | 1547 | 0 | 09 | No rentada |\n",
       "| 0900063906 | 2 | 8 | 10 | 3 | 14 | NA | 1 | 2 | 2 | ⋯ | 1 | 09002 | 1 | 3 | 138 | 0002526 | 1547 | 0 | 09 | Rentada    |\n",
       "| 0900083001 | 1 | 8 | 10 | 3 | 15 | NA | 1 | 2 | 3 | ⋯ | 1 | 09002 | 1 | 4 | 139 | 0002527 | 2079 | 0 | 09 | No rentada |\n",
       "\n"
      ],
      "text/plain": [
       "  folioviv   tipo_viv mat_pared mat_techos mat_pisos antiguedad antigua_ne\n",
       "1 0900063901 2        8         10         3         30         NA        \n",
       "2 0900063902 2        8         10         3         30         NA        \n",
       "3 0900063904 2        8         10         3         14         NA        \n",
       "4 0900063905 2        8         10         3         14         NA        \n",
       "5 0900063906 2        8         10         3         14         NA        \n",
       "6 0900083001 1        8         10         3         15         NA        \n",
       "  cocina cocina_dor cuart_dorm ⋯ tot_hog ubica_geo tam_loc est_socio est_dis\n",
       "1 1      2          2          ⋯ 1       09002     1       3         138    \n",
       "2 1      2          2          ⋯ 1       09002     1       3         138    \n",
       "3 1      2          2          ⋯ 1       09002     1       3         138    \n",
       "4 1      2          2          ⋯ 1       09002     1       3         138    \n",
       "5 1      2          2          ⋯ 1       09002     1       3         138    \n",
       "6 1      2          3          ⋯ 1       09002     1       4         139    \n",
       "  upm     factor procaptar cve_ent viv_rentada\n",
       "1 0002526 1547   0         09      No rentada \n",
       "2 0002526 1547   0         09      No rentada \n",
       "3 0002526 1547   0         09      Rentada    \n",
       "4 0002526 1547   0         09      No rentada \n",
       "5 0002526 1547   0         09      Rentada    \n",
       "6 0002527 2079   0         09      No rentada "
      ]
     },
     "metadata": {},
     "output_type": "display_data"
    },
    {
     "data": {
      "text/html": [
       "<style>\n",
       ".list-inline {list-style: none; margin:0; padding: 0}\n",
       ".list-inline>li {display: inline-block}\n",
       ".list-inline>li:not(:last-child)::after {content: \"\\00b7\"; padding: 0 .5ex}\n",
       "</style>\n",
       "<ol class=list-inline><li>'No rentada'</li><li>'Rentada'</li></ol>\n"
      ],
      "text/latex": [
       "\\begin{enumerate*}\n",
       "\\item 'No rentada'\n",
       "\\item 'Rentada'\n",
       "\\end{enumerate*}\n"
      ],
      "text/markdown": [
       "1. 'No rentada'\n",
       "2. 'Rentada'\n",
       "\n",
       "\n"
      ],
      "text/plain": [
       "[1] \"No rentada\" \"Rentada\"   "
      ]
     },
     "metadata": {},
     "output_type": "display_data"
    }
   ],
   "source": [
    "head(viviendas_2022)    \n",
    "unique(viviendas_2022$viv_rentada)             \n",
    "\n",
    "head(viviendas_2020)    \n",
    "unique(viviendas_2020$viv_rentada)  \n",
    "\n",
    "head(viviendas_2018)    \n",
    "unique(viviendas_2018$viv_rentada)                                        "
   ]
  },
  {
   "cell_type": "code",
   "execution_count": 47,
   "id": "aad50062",
   "metadata": {
    "vscode": {
     "languageId": "r"
    }
   },
   "outputs": [
    {
     "data": {
      "text/html": [
       "<table class=\"dataframe\">\n",
       "<caption>A tibble: 1 × 5</caption>\n",
       "<thead>\n",
       "\t<tr><th scope=col>viv_rentada</th><th scope=col>tot_renta22</th><th scope=col>tot_renta22_cv</th><th scope=col>porcentaje</th><th scope=col>porcentaje_cv</th></tr>\n",
       "\t<tr><th scope=col>&lt;chr&gt;</th><th scope=col>&lt;dbl&gt;</th><th scope=col>&lt;dbl&gt;</th><th scope=col>&lt;dbl&gt;</th><th scope=col>&lt;dbl&gt;</th></tr>\n",
       "</thead>\n",
       "<tbody>\n",
       "\t<tr><td>Rentada</td><td>681204</td><td>0.04449348</td><td>23.1077</td><td>4.467825</td></tr>\n",
       "</tbody>\n",
       "</table>\n"
      ],
      "text/latex": [
       "A tibble: 1 × 5\n",
       "\\begin{tabular}{lllll}\n",
       " viv\\_rentada & tot\\_renta22 & tot\\_renta22\\_cv & porcentaje & porcentaje\\_cv\\\\\n",
       " <chr> & <dbl> & <dbl> & <dbl> & <dbl>\\\\\n",
       "\\hline\n",
       "\t Rentada & 681204 & 0.04449348 & 23.1077 & 4.467825\\\\\n",
       "\\end{tabular}\n"
      ],
      "text/markdown": [
       "\n",
       "A tibble: 1 × 5\n",
       "\n",
       "| viv_rentada &lt;chr&gt; | tot_renta22 &lt;dbl&gt; | tot_renta22_cv &lt;dbl&gt; | porcentaje &lt;dbl&gt; | porcentaje_cv &lt;dbl&gt; |\n",
       "|---|---|---|---|---|\n",
       "| Rentada | 681204 | 0.04449348 | 23.1077 | 4.467825 |\n",
       "\n"
      ],
      "text/plain": [
       "  viv_rentada tot_renta22 tot_renta22_cv porcentaje porcentaje_cv\n",
       "1 Rentada     681204      0.04449348     23.1077    4.467825     "
      ]
     },
     "metadata": {},
     "output_type": "display_data"
    },
    {
     "data": {
      "text/html": [
       "<table class=\"dataframe\">\n",
       "<caption>A tibble: 1 × 5</caption>\n",
       "<thead>\n",
       "\t<tr><th scope=col>viv_rentada</th><th scope=col>tot_renta20</th><th scope=col>tot_renta20_cv</th><th scope=col>porcentaje</th><th scope=col>porcentaje_cv</th></tr>\n",
       "\t<tr><th scope=col>&lt;chr&gt;</th><th scope=col>&lt;dbl&gt;</th><th scope=col>&lt;dbl&gt;</th><th scope=col>&lt;dbl&gt;</th><th scope=col>&lt;dbl&gt;</th></tr>\n",
       "</thead>\n",
       "<tbody>\n",
       "\t<tr><td>Rentada</td><td>585836</td><td>0.05102828</td><td>21.64027</td><td>4.968355</td></tr>\n",
       "</tbody>\n",
       "</table>\n"
      ],
      "text/latex": [
       "A tibble: 1 × 5\n",
       "\\begin{tabular}{lllll}\n",
       " viv\\_rentada & tot\\_renta20 & tot\\_renta20\\_cv & porcentaje & porcentaje\\_cv\\\\\n",
       " <chr> & <dbl> & <dbl> & <dbl> & <dbl>\\\\\n",
       "\\hline\n",
       "\t Rentada & 585836 & 0.05102828 & 21.64027 & 4.968355\\\\\n",
       "\\end{tabular}\n"
      ],
      "text/markdown": [
       "\n",
       "A tibble: 1 × 5\n",
       "\n",
       "| viv_rentada &lt;chr&gt; | tot_renta20 &lt;dbl&gt; | tot_renta20_cv &lt;dbl&gt; | porcentaje &lt;dbl&gt; | porcentaje_cv &lt;dbl&gt; |\n",
       "|---|---|---|---|---|\n",
       "| Rentada | 585836 | 0.05102828 | 21.64027 | 4.968355 |\n",
       "\n"
      ],
      "text/plain": [
       "  viv_rentada tot_renta20 tot_renta20_cv porcentaje porcentaje_cv\n",
       "1 Rentada     585836      0.05102828     21.64027   4.968355     "
      ]
     },
     "metadata": {},
     "output_type": "display_data"
    },
    {
     "data": {
      "text/html": [
       "<table class=\"dataframe\">\n",
       "<caption>A tibble: 1 × 5</caption>\n",
       "<thead>\n",
       "\t<tr><th scope=col>viv_rentada</th><th scope=col>tot_renta18</th><th scope=col>tot_renta18_cv</th><th scope=col>porcentaje</th><th scope=col>porcentaje_cv</th></tr>\n",
       "\t<tr><th scope=col>&lt;chr&gt;</th><th scope=col>&lt;dbl&gt;</th><th scope=col>&lt;dbl&gt;</th><th scope=col>&lt;dbl&gt;</th><th scope=col>&lt;dbl&gt;</th></tr>\n",
       "</thead>\n",
       "<tbody>\n",
       "\t<tr><td>Rentada</td><td>694623</td><td>0.05102003</td><td>25.49647</td><td>4.873633</td></tr>\n",
       "</tbody>\n",
       "</table>\n"
      ],
      "text/latex": [
       "A tibble: 1 × 5\n",
       "\\begin{tabular}{lllll}\n",
       " viv\\_rentada & tot\\_renta18 & tot\\_renta18\\_cv & porcentaje & porcentaje\\_cv\\\\\n",
       " <chr> & <dbl> & <dbl> & <dbl> & <dbl>\\\\\n",
       "\\hline\n",
       "\t Rentada & 694623 & 0.05102003 & 25.49647 & 4.873633\\\\\n",
       "\\end{tabular}\n"
      ],
      "text/markdown": [
       "\n",
       "A tibble: 1 × 5\n",
       "\n",
       "| viv_rentada &lt;chr&gt; | tot_renta18 &lt;dbl&gt; | tot_renta18_cv &lt;dbl&gt; | porcentaje &lt;dbl&gt; | porcentaje_cv &lt;dbl&gt; |\n",
       "|---|---|---|---|---|\n",
       "| Rentada | 694623 | 0.05102003 | 25.49647 | 4.873633 |\n",
       "\n"
      ],
      "text/plain": [
       "  viv_rentada tot_renta18 tot_renta18_cv porcentaje porcentaje_cv\n",
       "1 Rentada     694623      0.05102003     25.49647   4.873633     "
      ]
     },
     "metadata": {},
     "output_type": "display_data"
    }
   ],
   "source": [
    "options(survey.lonely.psu = \"certainty\")  \n",
    "\n",
    "dm_2022 <- viviendas_2022|>\n",
    "  as_survey_design(strata=est_dis,\n",
    "                   weights = factor,\n",
    "                   ids=upm,\n",
    "                   nest=TRUE)\n",
    "\n",
    "tot_viv_renta_2022 <- dm_2022 |>\n",
    "  group_by(viv_rentada)|>\n",
    "  summarise(tot_renta22 = survey_total(vartype = \"cv\"),\n",
    "            porcentaje = survey_prop(vartype = \"cv\")*100)|>\n",
    "  filter(viv_rentada == \"Rentada\")\n",
    "\n",
    "tot_viv_renta_2022\n",
    "\n",
    "\n",
    "dm_2020 <- viviendas_2020|>\n",
    "  as_survey_design(strata=est_dis,\n",
    "                   weights = factor,\n",
    "                   ids=upm,\n",
    "                   nest=TRUE)\n",
    "\n",
    "tot_viv_renta_2020 <- dm_2020 |>\n",
    "  group_by(viv_rentada)|>\n",
    "  summarise(tot_renta20 = survey_total(vartype = \"cv\"),\n",
    "            porcentaje = survey_prop(vartype = \"cv\")*100)|>\n",
    "  filter(viv_rentada == \"Rentada\")\n",
    "\n",
    "tot_viv_renta_2020\n",
    "\n",
    "dm_2018 <- viviendas_2018|>\n",
    "  as_survey_design(strata=est_dis,\n",
    "                   weights = factor,\n",
    "                   ids=upm,\n",
    "                   nest=TRUE)\n",
    "\n",
    "tot_viv_renta_2018 <- dm_2018 |>\n",
    "  group_by(viv_rentada)|>\n",
    "  summarise(tot_renta18 = survey_total(vartype = \"cv\"),\n",
    "            porcentaje = survey_prop(vartype = \"cv\")*100)|>\n",
    "  filter(viv_rentada == \"Rentada\")\n",
    "\n",
    "tot_viv_renta_2018"
   ]
  },
  {
   "cell_type": "code",
   "execution_count": 48,
   "id": "071e06eb",
   "metadata": {
    "vscode": {
     "languageId": "r"
    }
   },
   "outputs": [
    {
     "data": {
      "text/html": [
       "<table class=\"dataframe\">\n",
       "<caption>A tibble: 1 × 2</caption>\n",
       "<thead>\n",
       "\t<tr><th scope=col>room_type</th><th scope=col>total_listings</th></tr>\n",
       "\t<tr><th scope=col>&lt;chr&gt;</th><th scope=col>&lt;int&gt;</th></tr>\n",
       "</thead>\n",
       "<tbody>\n",
       "\t<tr><td>Entire home/apt</td><td>17430</td></tr>\n",
       "</tbody>\n",
       "</table>\n"
      ],
      "text/latex": [
       "A tibble: 1 × 2\n",
       "\\begin{tabular}{ll}\n",
       " room\\_type & total\\_listings\\\\\n",
       " <chr> & <int>\\\\\n",
       "\\hline\n",
       "\t Entire home/apt & 17430\\\\\n",
       "\\end{tabular}\n"
      ],
      "text/markdown": [
       "\n",
       "A tibble: 1 × 2\n",
       "\n",
       "| room_type &lt;chr&gt; | total_listings &lt;int&gt; |\n",
       "|---|---|\n",
       "| Entire home/apt | 17430 |\n",
       "\n"
      ],
      "text/plain": [
       "  room_type       total_listings\n",
       "1 Entire home/apt 17430         "
      ]
     },
     "metadata": {},
     "output_type": "display_data"
    }
   ],
   "source": [
    "#DATOS AIRBNB (corte de la información a diciembre 2024)\n",
    "url <- \"https://data.insideairbnb.com/mexico/df/mexico-city/2024-12-27/data/listings.csv.gz\"\n",
    "\n",
    "airbnb_base<-read_csv(url, col_types = cols(.default = col_character()))|>            #Carga de la base                                                          \n",
    "  mutate(latitude= as.numeric(latitude),                                                                                                    \n",
    "         longitude= as.numeric(longitude))|>                                          #Convertir a numerico los campos de latitud y longitud\n",
    "  group_by(room_type)|>\n",
    "  summarise(total_listings = n())|>\n",
    "  filter(room_type == \"Entire home/apt\")\n",
    "\n",
    "airbnb_base"
   ]
  },
  {
   "cell_type": "code",
   "execution_count": 50,
   "id": "68848d54",
   "metadata": {
    "vscode": {
     "languageId": "r"
    }
   },
   "outputs": [
    {
     "name": "stdout",
     "output_type": "stream",
     "text": [
      "ALOJAMIENTOS AIRBNB POR VIVIENDA RENTADA EN CIUDAD DE MÉXICO (ENIGH 2022): 0.02558705 \n",
      "ALOJAMIENTOS AIRBNB POR VIVIENDA RENTADA EN CIUDAD DE MÉXICO (ENIGH 2020): 0.02975235 \n",
      "ALOJAMIENTOS AIRBNB POR VIVIENDA RENTADA EN CIUDAD DE MÉXICO (ENIGH 2018): 0.02509275 \n"
     ]
    }
   ],
   "source": [
    "#Relación de vivienda airbnb y viviendas rentadas\n",
    "relacion_viviendas_2022 <- airbnb_base$total_listings/tot_viv_renta_2022$tot_renta22\n",
    "relacion_viviendas_2020 <- airbnb_base$total_listings/tot_viv_renta_2020$tot_renta20\n",
    "relacion_viviendas_2018 <- airbnb_base$total_listings/tot_viv_renta_2018$tot_renta18\n",
    "\n",
    "cat(\"ALOJAMIENTOS AIRBNB POR VIVIENDA RENTADA EN CIUDAD DE MÉXICO (ENIGH 2022):\", relacion_viviendas_2022, \"\\n\")\n",
    "cat(\"ALOJAMIENTOS AIRBNB POR VIVIENDA RENTADA EN CIUDAD DE MÉXICO (ENIGH 2020):\", relacion_viviendas_2020, \"\\n\")\n",
    "cat(\"ALOJAMIENTOS AIRBNB POR VIVIENDA RENTADA EN CIUDAD DE MÉXICO (ENIGH 2018):\", relacion_viviendas_2018, \"\\n\")"
   ]
  }
 ],
 "metadata": {
  "kernelspec": {
   "display_name": "R",
   "language": "R",
   "name": "ir"
  },
  "language_info": {
   "codemirror_mode": "r",
   "file_extension": ".r",
   "mimetype": "text/x-r-source",
   "name": "R",
   "pygments_lexer": "r",
   "version": "4.4.3"
  }
 },
 "nbformat": 4,
 "nbformat_minor": 5
}
