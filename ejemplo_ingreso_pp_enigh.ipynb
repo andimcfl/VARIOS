{
 "cells": [
  {
   "cell_type": "markdown",
   "metadata": {},
   "source": [
    "Estimación del ingreso trimestral por persona"
   ]
  },
  {
   "cell_type": "code",
   "execution_count": null,
   "metadata": {
    "vscode": {
     "languageId": "r"
    }
   },
   "outputs": [],
   "source": [
    "##LIBRERIAS\n",
    "librerias <- c(\"tidyverse\",\n",
    "               \"zip\",\n",
    "               \"readr\",\n",
    "               \"srvyr\")\n",
    "\n",
    "instalar <- rownames(installed.packages())\n",
    "instalar_librerias <- setdiff(librerias, instalar)\n",
    "\n",
    "if (length(instalar_librerias) > 0) {\n",
    "  install.packages(instalar_librerias)\n",
    "}\n",
    "\n",
    "lapply(librerias, library, character.only = TRUE)"
   ]
  },
  {
   "cell_type": "code",
   "execution_count": 3,
   "metadata": {
    "vscode": {
     "languageId": "r"
    }
   },
   "outputs": [],
   "source": [
    "#CREAR DIRECTORIO DE TRABAJO\n",
    "dir.create(\"ingreso_enigh\", showWarnings = FALSE)\n",
    "setwd(\"ingreso_enigh\")"
   ]
  },
  {
   "cell_type": "code",
   "execution_count": null,
   "metadata": {
    "vscode": {
     "languageId": "r"
    }
   },
   "outputs": [
    {
     "name": "stderr",
     "output_type": "stream",
     "text": [
      "\u001b[1m\u001b[22m`summarise()` has grouped output by 'folioviv', 'foliohog'. You can override\n",
      "using the `.groups` argument.\n"
     ]
    }
   ],
   "source": [
    "##CARGAR LA BASE DE INGRESOS DE LA ENCUESTA NACIONAL DE INGRESOS Y GASTOS DE LOS HOGARES 2022\n",
    "url <- \"https://www.inegi.org.mx/contenidos/programas/enigh/nc/2022/microdatos/enigh2022_ns_ingresos_csv.zip\"\n",
    "options(timeout = 500)\n",
    "download.file(url, 'enigh2022_ns_ingresos_csv.zip', mode = \"wb\")\n",
    "unzip('enigh2022_ns_ingresos_csv.zip', files = \"ingresos.csv\")\n",
    "ingreso_enigh <- read_csv(\"ingresos.csv\", show_col_types = FALSE)|>\n",
    "mutate(cve_ent = substr(folioviv, 1,2))|>\n",
    "select(folioviv,foliohog, numren, ing_tri)%>%\n",
    "group_by(folioviv, foliohog, numren)%>%\n",
    "summarise(ing_tri = sum(ing_tri, na.rm = TRUE))"
   ]
  },
  {
   "cell_type": "code",
   "execution_count": null,
   "metadata": {
    "vscode": {
     "languageId": "r"
    }
   },
   "outputs": [
    {
     "name": "stderr",
     "output_type": "stream",
     "text": [
      "Warning message:\n",
      "\"\u001b[1m\u001b[22mOne or more parsing issues, call `problems()` on your data frame for details,\n",
      "e.g.:\n",
      "  dat <- vroom(...)\n",
      "  problems(dat)\"\n"
     ]
    }
   ],
   "source": [
    "##DESCARGAR LA BASE DE POBLACIÓN DE LA ENCUESTA NACIONAL DE INGRESOS Y GASTOS DE LOS HOGARES 2022\n",
    "url<- \"https://www.inegi.org.mx/contenidos/programas/enigh/nc/2022/microdatos/enigh2022_ns_poblacion_csv.zip\"\n",
    "options(timeout = 500)\n",
    "download.file(url, 'enigh2022_ns_poblacion_csv.zip', mode = \"wb\")\n",
    "unzip('enigh2022_ns_poblacion_csv.zip', files = \"poblacion.csv\")\n",
    "poblacion_enigh<-read_csv(\"poblacion.csv\", show_col_types = FALSE)|>\n",
    "#OBTENER CLAVE DE ENTIDAD\n",
    "mutate(cve_ent = substr(folioviv, 1,2))|>\n",
    "#FILTRADO PARA LA CIUDAD DE MÉXICO\n",
    "filter(cve_ent == \"09\")|> \n",
    "#SELECCIÓN DE CAMPOS DE INTERÉS\n",
    "select(folioviv, foliohog, numren, nivelaprob, gradoaprob,upm, factor, est_dis, edad, cve_ent)|> \n",
    "mutate(gradoaprob = as.numeric(gradoaprob))|>\n",
    "#UNIR CON TABLA DE INGRESOS\n",
    "left_join(ingreso_enigh,by = c(\"folioviv\",\"foliohog\",\"numren\"))|>\n",
    "##ESTABLECER LOS AÑOS DE ESCOLARIDAD\n",
    "mutate(anos_escolaridad = case_when (nivelaprob %in% c(\"1\", \"0\") ~ 0,\n",
    "                        #PRIMARIA\n",
    "                        nivelaprob==\"2\" ~ gradoaprob, \n",
    "                        #SECUNDARIA\n",
    "                        nivelaprob==\"3\" ~ gradoaprob+6, \n",
    "                        #PREPARATORIA\n",
    "                        nivelaprob==\"4\" ~ gradoaprob+9, \n",
    "                        #LICENCIATURA O EQUIVALENTE\n",
    "                        nivelaprob %in% c(\"5\",\"6\",\"7\") ~ gradoaprob+12, \n",
    "                        #POSGRADO\n",
    "                        nivelaprob %in% c(\"8\",\"9\") ~ gradoaprob+17), \n",
    "        #INGRESO MENSUAL\n",
    "        ing_mensual = ing_tri/3)\n"
   ]
  },
  {
   "cell_type": "code",
   "execution_count": 6,
   "metadata": {
    "vscode": {
     "languageId": "r"
    }
   },
   "outputs": [],
   "source": [
    "##ESTABLECER EL DISEÑO MUESTRAL\n",
    "dm<-poblacion_enigh|>\n",
    "as_survey_design(weights = factor,\n",
    "                id=upm,\n",
    "                strata=est_dis)"
   ]
  },
  {
   "cell_type": "code",
   "execution_count": 7,
   "metadata": {
    "vscode": {
     "languageId": "r"
    }
   },
   "outputs": [
    {
     "data": {
      "text/html": [
       "<table class=\"dataframe\">\n",
       "<caption>A tibble: 24 × 3</caption>\n",
       "<thead>\n",
       "\t<tr><th scope=col>anos_escolaridad</th><th scope=col>igproes</th><th scope=col>igproes_cv</th></tr>\n",
       "\t<tr><th scope=col>&lt;dbl&gt;</th><th scope=col>&lt;dbl&gt;</th><th scope=col>&lt;dbl&gt;</th></tr>\n",
       "</thead>\n",
       "<tbody>\n",
       "\t<tr><td> 0</td><td> 1772.8630</td><td>0.09573637</td></tr>\n",
       "\t<tr><td> 1</td><td> 1697.9391</td><td>0.22483675</td></tr>\n",
       "\t<tr><td> 2</td><td> 2189.7338</td><td>0.11842374</td></tr>\n",
       "\t<tr><td> 3</td><td> 2848.3375</td><td>0.11748765</td></tr>\n",
       "\t<tr><td> 4</td><td> 2222.0659</td><td>0.13863855</td></tr>\n",
       "\t<tr><td> 5</td><td> 2708.7470</td><td>0.16479705</td></tr>\n",
       "\t<tr><td> 6</td><td> 4952.2518</td><td>0.04269781</td></tr>\n",
       "\t<tr><td> 7</td><td> 2449.5479</td><td>0.14418367</td></tr>\n",
       "\t<tr><td> 8</td><td> 3536.9337</td><td>0.08650728</td></tr>\n",
       "\t<tr><td> 9</td><td> 6234.2033</td><td>0.02890526</td></tr>\n",
       "\t<tr><td>10</td><td> 5419.7331</td><td>0.11400775</td></tr>\n",
       "\t<tr><td>11</td><td> 6550.3021</td><td>0.08386538</td></tr>\n",
       "\t<tr><td>12</td><td> 9322.1962</td><td>0.03708316</td></tr>\n",
       "\t<tr><td>13</td><td> 7391.8662</td><td>0.13883695</td></tr>\n",
       "\t<tr><td>14</td><td> 8430.6500</td><td>0.08075140</td></tr>\n",
       "\t<tr><td>15</td><td> 9729.0897</td><td>0.04543897</td></tr>\n",
       "\t<tr><td>16</td><td>17080.1182</td><td>0.05239993</td></tr>\n",
       "\t<tr><td>17</td><td>18693.8956</td><td>0.06253792</td></tr>\n",
       "\t<tr><td>18</td><td>23693.1213</td><td>0.22554881</td></tr>\n",
       "\t<tr><td>19</td><td>37140.7297</td><td>0.11131924</td></tr>\n",
       "\t<tr><td>20</td><td>40187.7259</td><td>0.28904289</td></tr>\n",
       "\t<tr><td>21</td><td>55526.6065</td><td>0.22097062</td></tr>\n",
       "\t<tr><td>22</td><td>70831.6472</td><td>0.35936763</td></tr>\n",
       "\t<tr><td>NA</td><td>  860.1776</td><td>0.15317228</td></tr>\n",
       "</tbody>\n",
       "</table>\n"
      ],
      "text/latex": [
       "A tibble: 24 × 3\n",
       "\\begin{tabular}{lll}\n",
       " anos\\_escolaridad & igproes & igproes\\_cv\\\\\n",
       " <dbl> & <dbl> & <dbl>\\\\\n",
       "\\hline\n",
       "\t  0 &  1772.8630 & 0.09573637\\\\\n",
       "\t  1 &  1697.9391 & 0.22483675\\\\\n",
       "\t  2 &  2189.7338 & 0.11842374\\\\\n",
       "\t  3 &  2848.3375 & 0.11748765\\\\\n",
       "\t  4 &  2222.0659 & 0.13863855\\\\\n",
       "\t  5 &  2708.7470 & 0.16479705\\\\\n",
       "\t  6 &  4952.2518 & 0.04269781\\\\\n",
       "\t  7 &  2449.5479 & 0.14418367\\\\\n",
       "\t  8 &  3536.9337 & 0.08650728\\\\\n",
       "\t  9 &  6234.2033 & 0.02890526\\\\\n",
       "\t 10 &  5419.7331 & 0.11400775\\\\\n",
       "\t 11 &  6550.3021 & 0.08386538\\\\\n",
       "\t 12 &  9322.1962 & 0.03708316\\\\\n",
       "\t 13 &  7391.8662 & 0.13883695\\\\\n",
       "\t 14 &  8430.6500 & 0.08075140\\\\\n",
       "\t 15 &  9729.0897 & 0.04543897\\\\\n",
       "\t 16 & 17080.1182 & 0.05239993\\\\\n",
       "\t 17 & 18693.8956 & 0.06253792\\\\\n",
       "\t 18 & 23693.1213 & 0.22554881\\\\\n",
       "\t 19 & 37140.7297 & 0.11131924\\\\\n",
       "\t 20 & 40187.7259 & 0.28904289\\\\\n",
       "\t 21 & 55526.6065 & 0.22097062\\\\\n",
       "\t 22 & 70831.6472 & 0.35936763\\\\\n",
       "\t NA &   860.1776 & 0.15317228\\\\\n",
       "\\end{tabular}\n"
      ],
      "text/markdown": [
       "\n",
       "A tibble: 24 × 3\n",
       "\n",
       "| anos_escolaridad &lt;dbl&gt; | igproes &lt;dbl&gt; | igproes_cv &lt;dbl&gt; |\n",
       "|---|---|---|\n",
       "|  0 |  1772.8630 | 0.09573637 |\n",
       "|  1 |  1697.9391 | 0.22483675 |\n",
       "|  2 |  2189.7338 | 0.11842374 |\n",
       "|  3 |  2848.3375 | 0.11748765 |\n",
       "|  4 |  2222.0659 | 0.13863855 |\n",
       "|  5 |  2708.7470 | 0.16479705 |\n",
       "|  6 |  4952.2518 | 0.04269781 |\n",
       "|  7 |  2449.5479 | 0.14418367 |\n",
       "|  8 |  3536.9337 | 0.08650728 |\n",
       "|  9 |  6234.2033 | 0.02890526 |\n",
       "| 10 |  5419.7331 | 0.11400775 |\n",
       "| 11 |  6550.3021 | 0.08386538 |\n",
       "| 12 |  9322.1962 | 0.03708316 |\n",
       "| 13 |  7391.8662 | 0.13883695 |\n",
       "| 14 |  8430.6500 | 0.08075140 |\n",
       "| 15 |  9729.0897 | 0.04543897 |\n",
       "| 16 | 17080.1182 | 0.05239993 |\n",
       "| 17 | 18693.8956 | 0.06253792 |\n",
       "| 18 | 23693.1213 | 0.22554881 |\n",
       "| 19 | 37140.7297 | 0.11131924 |\n",
       "| 20 | 40187.7259 | 0.28904289 |\n",
       "| 21 | 55526.6065 | 0.22097062 |\n",
       "| 22 | 70831.6472 | 0.35936763 |\n",
       "| NA |   860.1776 | 0.15317228 |\n",
       "\n"
      ],
      "text/plain": [
       "   anos_escolaridad igproes    igproes_cv\n",
       "1   0                1772.8630 0.09573637\n",
       "2   1                1697.9391 0.22483675\n",
       "3   2                2189.7338 0.11842374\n",
       "4   3                2848.3375 0.11748765\n",
       "5   4                2222.0659 0.13863855\n",
       "6   5                2708.7470 0.16479705\n",
       "7   6                4952.2518 0.04269781\n",
       "8   7                2449.5479 0.14418367\n",
       "9   8                3536.9337 0.08650728\n",
       "10  9                6234.2033 0.02890526\n",
       "11 10                5419.7331 0.11400775\n",
       "12 11                6550.3021 0.08386538\n",
       "13 12                9322.1962 0.03708316\n",
       "14 13                7391.8662 0.13883695\n",
       "15 14                8430.6500 0.08075140\n",
       "16 15                9729.0897 0.04543897\n",
       "17 16               17080.1182 0.05239993\n",
       "18 17               18693.8956 0.06253792\n",
       "19 18               23693.1213 0.22554881\n",
       "20 19               37140.7297 0.11131924\n",
       "21 20               40187.7259 0.28904289\n",
       "22 21               55526.6065 0.22097062\n",
       "23 22               70831.6472 0.35936763\n",
       "24 NA                 860.1776 0.15317228"
      ]
     },
     "metadata": {},
     "output_type": "display_data"
    }
   ],
   "source": [
    "##APROXIMACIÓN DEL INGRESO MENSUAL DE ACUEERDO AL GRADO DE ESCOLARIDAD\n",
    "graproes<-dm|>\n",
    "group_by(anos_escolaridad)|>\n",
    "summarise(igproes=survey_mean(ing_mensual,na.rm = TRUE, vartype = \"cv\"))\n",
    "graproes"
   ]
  }
 ],
 "metadata": {
  "kernelspec": {
   "display_name": "R",
   "language": "R",
   "name": "ir"
  },
  "language_info": {
   "codemirror_mode": "r",
   "file_extension": ".r",
   "mimetype": "text/x-r-source",
   "name": "R",
   "pygments_lexer": "r",
   "version": "4.4.3"
  }
 },
 "nbformat": 4,
 "nbformat_minor": 2
}
