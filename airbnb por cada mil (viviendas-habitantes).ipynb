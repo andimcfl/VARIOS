{
 "cells": [
  {
   "cell_type": "markdown",
   "id": "61b7d59e",
   "metadata": {},
   "source": [
    "**PORCENTAJE DE AGEBs URBANAS CON MÁS DEL 30% DE VIVIENDA DESTINADA A ALOJAMIENTOS DE RENTA A CORTO PLAZO**"
   ]
  },
  {
   "cell_type": "code",
   "execution_count": null,
   "id": "5e0b7251",
   "metadata": {
    "vscode": {
     "languageId": "r"
    }
   },
   "outputs": [],
   "source": [
    "#LIBRERIAS (instalación y carga)\n",
    "libraries <- c(\"tidyverse\",\n",
    "               #\"sf\", \n",
    "               \"readr\")\n",
    "installed_packages <- rownames(installed.packages())\n",
    "libraries_to_install <- setdiff(libraries, installed_packages)\n",
    "\n",
    "if (length(libraries_to_install) > 0) {\n",
    "  install.packages(libraries_to_install)}\n",
    "\n",
    "lapply(libraries, library, character.only = TRUE)"
   ]
  },
  {
   "cell_type": "code",
   "execution_count": null,
   "id": "038c452b",
   "metadata": {
    "vscode": {
     "languageId": "r"
    }
   },
   "outputs": [],
   "source": [
    "# #Áreas geoestadísticas básicas (AGEB) de la Ciudad de México del Marco Geoestadístico Nacional 2020\n",
    "# url <- \"https://www.inegi.org.mx/contenidos/productos/prod_serv/contenidos/espanol/bvinegi/productos/geografia/marcogeo/889463807469/09_ciudaddemexico.zip\"\n",
    "\n",
    "# temp_zip <- tempfile(fileext = \".zip\")                                                  #Archivo temporal para descargar el zip    \n",
    "# temp_dir <- tempdir()                                                                   #Directorio temporal para descomprimir el zip\n",
    "\n",
    "# options(timeout = 8000)                                                                 #Tiempo de espera para la descarga \n",
    "\n",
    "# download.file(url, temp_zip, mode = \"wb\")                                               #Descarga el archivo zip en el directorio temporal\n",
    "\n",
    "# related_files <- paste0(\"conjunto_de_datos/09a\", c(\".shp\", \".shx\", \".dbf\", \".prj\"))     #Busqueda de los archivos shp dentro del zip\n",
    "\n",
    "# unzip(temp_zip, files = related_files, exdir = temp_dir)                                #Descomprime el zip en el directorio temporal\n",
    "\n",
    "# shp_file_path <- file.path(temp_dir, related_files[1])                                  #Ruta del archivo shp\n",
    "\n",
    "# ageb_2020 <- st_read(shp_file_path, quiet = TRUE)|>                                     #Carga el shapefile de las AGEBS\n",
    "#   st_transform(crs = 32614)                                                             #Transformación el sistema de coordenadas a WGS84 UTM 14N\n"
   ]
  },
  {
   "cell_type": "code",
   "execution_count": null,
   "id": "fe5d7faf",
   "metadata": {
    "vscode": {
     "languageId": "r"
    }
   },
   "outputs": [],
   "source": [
    "##PRINCIPALES RESULTADOS POR MANZANA CENSO DE POBLACIÓN Y VIVIENDA 2020 \n",
    "url <- \"https://www.inegi.org.mx/contenidos/programas/ccpv/2020/microdatos/ageb_manzana/RESAGEBURB_09_2020_xlsx.zip\"\n",
    "\n",
    "temp_zip <- tempfile(fileext = \".zip\")                                       #Archivo temporal para descargar el zip\n",
    "temp_dir <- tempdir()                                                        #Directorio temporal para descomprimir el zip\n",
    "\n",
    "options(timeout = 800)                                                       #Tiempo de espera para la descarga\n",
    "\n",
    "download.file(url, temp_zip, mode = \"wb\")                                    #Descarga el archivo zip en el directorio temporal\n",
    "\n",
    "unzip(temp_zip, exdir = temp_dir)                                            #Descomprime el zip en el directorio temporal\n",
    "\n",
    "RESAGEBURB_09XLSX20_BASE <- list.files(temp_dir, \n",
    "                                       pattern =\"RESAGEBURB_09XLSX20.xlsx\", \n",
    "                                       full.names = TRUE, recursive = TRUE)  #Descomprime el archivo xlsx en el directorio temporal\n",
    "\n",
    "RESAGEBURB_09XLSX20<- readxl::read_excel(RESAGEBURB_09XLSX20_BASE)|>       \n",
    "  mutate(CVEGEO = paste0(ENTIDAD, MUN, LOC, AGEB)|>                          #Cargar el arcchivo xlsx y crear la variable CVEGEO\n",
    "  mutate_all(~ gsub(\"\\\\*\", \"\", .)) |>                                        #Elimitnar asteriscos\n",
    "  mutate(across(9:230, ~ as.numeric(., na.rm = TRUE)))|>                     #Cambiar a numérico las variables de la 9 a la 230\n",
    "  filter(NOM_LOC == \"Total AGEB urbana\")                                     #Filtrar por el total de las AGEB"
   ]
  },
  {
   "cell_type": "code",
   "execution_count": null,
   "id": "b0555af2",
   "metadata": {
    "vscode": {
     "languageId": "r"
    }
   },
   "outputs": [],
   "source": [
    "# pob<-ageb_2020|>\n",
    "#   left_join(RESAGEBURB_09XLSX20, by = \"CVEGEO\")"
   ]
  },
  {
   "cell_type": "code",
   "execution_count": null,
   "id": "071e06eb",
   "metadata": {
    "vscode": {
     "languageId": "r"
    }
   },
   "outputs": [],
   "source": [
    "#DATOS AIRBNB (corte de la información a diciembre 2024)\n",
    "url <- \"https://data.insideairbnb.com/mexico/df/mexico-city/2024-12-27/data/listings.csv.gz\"\n",
    "\n",
    "airbnb_base<-read_csv(url, col_types = cols(.default = col_character()))|>            #Carga de la base                                                          \n",
    "  mutate(latitude= as.numeric(latitude),                                                                                                    \n",
    "         longitude= as.numeric(longitude))|>                                          #Convertir a numerico los campos de latitud y longitud\n",
    "  filter(room_type == \"Entire home/apt\")|>                                            #Seleccionar el tipo de alojamiento (aquellos que son propiedades completas)\n",
    "  st_as_sf(coords = c(\"longitude\", \"latitude\"), crs = 4326)|>                         #Transformar a objeto espacial                  \n",
    "  st_transform(crs = 32614)|>                                                         #Convertir a WGS 84 UTM zona 14N\n",
    "  mutate(airbnb = 1)|>\n",
    "  st_join(ageb_2020, join = st_within, left = TRUE)|>                                 #Unir la base de airbnb con la de las AGEBS\n",
    "  st_drop_geometry()|>                                                                #Eliminar la geometría\n",
    "  group_by(CVEGEO)|>                                                                  #Agrupar por CVEGEO\n",
    "  summarise(unidades_airbnb = sum(airbnb))                                            #Contar el número de airbnbs por CVEGEO"
   ]
  },
  {
   "cell_type": "code",
   "execution_count": null,
   "id": "68848d54",
   "metadata": {
    "vscode": {
     "languageId": "r"
    }
   },
   "outputs": [],
   "source": [
    "#Cálculo de la población total por AGEBS\n",
    "total_airbn<-sum(airbnb_base$unidades_airbnb)                                        #Total de unidades completas de airbnb\n",
    "total_vivparhab<-sum(RESAGEBURB_09XLSX20$TVIVPARHAB, na.rm = TRUE)                   #Total de viviendas particulares habitadas                                            \n",
    "pobl_tot <-sum(RESAGEBURB_09XLSX20$POBTOT, na.rm = TRUE)                             #Total de población total"
   ]
  },
  {
   "cell_type": "code",
   "execution_count": null,
   "id": "51967a7c",
   "metadata": {
    "vscode": {
     "languageId": "r"
    }
   },
   "outputs": [
    {
     "name": "stdout",
     "output_type": "stream",
     "text": [
      "NÚMERO DE ALOJAMIENTOS AIRBNB POR CADA MIL VIVIENDAS PARTICULARES HABITADAS EN LA CIUDAD DE MÉXICO: 6.362199 \n"
     ]
    },
    {
     "name": "stdout",
     "output_type": "stream",
     "text": [
      "NÚMERO DE ALOJAMIENTOS AIRBNB POR CADA MIL HABITANTES EN LA CIUDAD DE MÉXICO: 1.905828 \n"
     ]
    }
   ],
   "source": [
    "airbnb_por_mil_viv = total_airbn/total_vivparhab*1000 \n",
    "cat(\"ALOJAMIENTOS AIRBNB POR CADA MIL VIVIENDAS PARTICULARES HABITADAS EN LA CIUDAD DE MÉXICO:\", airbnb_por_mil_viv, \"\\n\")\n",
    "airbnb_por_mil_hab<-total_airbn/pobl_tot*1000\n",
    "cat(\"ALOJAMIENTOS AIRBNB POR CADA MIL HABITANTES EN LA CIUDAD DE MÉXICO:\", airbnb_por_mil_hab, \"\\n\")"
   ]
  }
 ],
 "metadata": {
  "kernelspec": {
   "display_name": "R",
   "language": "R",
   "name": "ir"
  },
  "language_info": {
   "codemirror_mode": "r",
   "file_extension": ".r",
   "mimetype": "text/x-r-source",
   "name": "R",
   "pygments_lexer": "r",
   "version": "4.4.3"
  }
 },
 "nbformat": 4,
 "nbformat_minor": 5
}
