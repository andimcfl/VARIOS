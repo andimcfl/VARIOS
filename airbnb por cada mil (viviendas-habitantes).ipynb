{
 "cells": [
  {
   "cell_type": "markdown",
   "id": "61b7d59e",
   "metadata": {},
   "source": [
    "**PORCENTAJE DE AGEBs URBANAS CON MÁS DEL 30% DE VIVIENDA DESTINADA A ALOJAMIENTOS DE RENTA A CORTO PLAZO**"
   ]
  },
  {
   "cell_type": "code",
   "execution_count": 4,
   "id": "5e0b7251",
   "metadata": {
    "vscode": {
     "languageId": "r"
    }
   },
   "outputs": [
    {
     "name": "stderr",
     "output_type": "stream",
     "text": [
      "Linking to GEOS 3.13.0, GDAL 3.10.1, PROJ 9.5.1; sf_use_s2() is TRUE\n",
      "\n"
     ]
    },
    {
     "data": {
      "text/html": [
       "<ol>\n",
       "\t<li><style>\n",
       ".list-inline {list-style: none; margin:0; padding: 0}\n",
       ".list-inline>li {display: inline-block}\n",
       ".list-inline>li:not(:last-child)::after {content: \"\\00b7\"; padding: 0 .5ex}\n",
       "</style>\n",
       "<ol class=list-inline><li>'lubridate'</li><li>'forcats'</li><li>'stringr'</li><li>'dplyr'</li><li>'purrr'</li><li>'readr'</li><li>'tidyr'</li><li>'tibble'</li><li>'ggplot2'</li><li>'tidyverse'</li><li>'stats'</li><li>'graphics'</li><li>'grDevices'</li><li>'utils'</li><li>'datasets'</li><li>'methods'</li><li>'base'</li></ol>\n",
       "</li>\n",
       "\t<li><style>\n",
       ".list-inline {list-style: none; margin:0; padding: 0}\n",
       ".list-inline>li {display: inline-block}\n",
       ".list-inline>li:not(:last-child)::after {content: \"\\00b7\"; padding: 0 .5ex}\n",
       "</style>\n",
       "<ol class=list-inline><li>'sf'</li><li>'lubridate'</li><li>'forcats'</li><li>'stringr'</li><li>'dplyr'</li><li>'purrr'</li><li>'readr'</li><li>'tidyr'</li><li>'tibble'</li><li>'ggplot2'</li><li>'tidyverse'</li><li>'stats'</li><li>'graphics'</li><li>'grDevices'</li><li>'utils'</li><li>'datasets'</li><li>'methods'</li><li>'base'</li></ol>\n",
       "</li>\n",
       "\t<li><style>\n",
       ".list-inline {list-style: none; margin:0; padding: 0}\n",
       ".list-inline>li {display: inline-block}\n",
       ".list-inline>li:not(:last-child)::after {content: \"\\00b7\"; padding: 0 .5ex}\n",
       "</style>\n",
       "<ol class=list-inline><li>'sf'</li><li>'lubridate'</li><li>'forcats'</li><li>'stringr'</li><li>'dplyr'</li><li>'purrr'</li><li>'readr'</li><li>'tidyr'</li><li>'tibble'</li><li>'ggplot2'</li><li>'tidyverse'</li><li>'stats'</li><li>'graphics'</li><li>'grDevices'</li><li>'utils'</li><li>'datasets'</li><li>'methods'</li><li>'base'</li></ol>\n",
       "</li>\n",
       "</ol>\n"
      ],
      "text/latex": [
       "\\begin{enumerate}\n",
       "\\item \\begin{enumerate*}\n",
       "\\item 'lubridate'\n",
       "\\item 'forcats'\n",
       "\\item 'stringr'\n",
       "\\item 'dplyr'\n",
       "\\item 'purrr'\n",
       "\\item 'readr'\n",
       "\\item 'tidyr'\n",
       "\\item 'tibble'\n",
       "\\item 'ggplot2'\n",
       "\\item 'tidyverse'\n",
       "\\item 'stats'\n",
       "\\item 'graphics'\n",
       "\\item 'grDevices'\n",
       "\\item 'utils'\n",
       "\\item 'datasets'\n",
       "\\item 'methods'\n",
       "\\item 'base'\n",
       "\\end{enumerate*}\n",
       "\n",
       "\\item \\begin{enumerate*}\n",
       "\\item 'sf'\n",
       "\\item 'lubridate'\n",
       "\\item 'forcats'\n",
       "\\item 'stringr'\n",
       "\\item 'dplyr'\n",
       "\\item 'purrr'\n",
       "\\item 'readr'\n",
       "\\item 'tidyr'\n",
       "\\item 'tibble'\n",
       "\\item 'ggplot2'\n",
       "\\item 'tidyverse'\n",
       "\\item 'stats'\n",
       "\\item 'graphics'\n",
       "\\item 'grDevices'\n",
       "\\item 'utils'\n",
       "\\item 'datasets'\n",
       "\\item 'methods'\n",
       "\\item 'base'\n",
       "\\end{enumerate*}\n",
       "\n",
       "\\item \\begin{enumerate*}\n",
       "\\item 'sf'\n",
       "\\item 'lubridate'\n",
       "\\item 'forcats'\n",
       "\\item 'stringr'\n",
       "\\item 'dplyr'\n",
       "\\item 'purrr'\n",
       "\\item 'readr'\n",
       "\\item 'tidyr'\n",
       "\\item 'tibble'\n",
       "\\item 'ggplot2'\n",
       "\\item 'tidyverse'\n",
       "\\item 'stats'\n",
       "\\item 'graphics'\n",
       "\\item 'grDevices'\n",
       "\\item 'utils'\n",
       "\\item 'datasets'\n",
       "\\item 'methods'\n",
       "\\item 'base'\n",
       "\\end{enumerate*}\n",
       "\n",
       "\\end{enumerate}\n"
      ],
      "text/markdown": [
       "1. 1. 'lubridate'\n",
       "2. 'forcats'\n",
       "3. 'stringr'\n",
       "4. 'dplyr'\n",
       "5. 'purrr'\n",
       "6. 'readr'\n",
       "7. 'tidyr'\n",
       "8. 'tibble'\n",
       "9. 'ggplot2'\n",
       "10. 'tidyverse'\n",
       "11. 'stats'\n",
       "12. 'graphics'\n",
       "13. 'grDevices'\n",
       "14. 'utils'\n",
       "15. 'datasets'\n",
       "16. 'methods'\n",
       "17. 'base'\n",
       "\n",
       "\n",
       "\n",
       "2. 1. 'sf'\n",
       "2. 'lubridate'\n",
       "3. 'forcats'\n",
       "4. 'stringr'\n",
       "5. 'dplyr'\n",
       "6. 'purrr'\n",
       "7. 'readr'\n",
       "8. 'tidyr'\n",
       "9. 'tibble'\n",
       "10. 'ggplot2'\n",
       "11. 'tidyverse'\n",
       "12. 'stats'\n",
       "13. 'graphics'\n",
       "14. 'grDevices'\n",
       "15. 'utils'\n",
       "16. 'datasets'\n",
       "17. 'methods'\n",
       "18. 'base'\n",
       "\n",
       "\n",
       "\n",
       "3. 1. 'sf'\n",
       "2. 'lubridate'\n",
       "3. 'forcats'\n",
       "4. 'stringr'\n",
       "5. 'dplyr'\n",
       "6. 'purrr'\n",
       "7. 'readr'\n",
       "8. 'tidyr'\n",
       "9. 'tibble'\n",
       "10. 'ggplot2'\n",
       "11. 'tidyverse'\n",
       "12. 'stats'\n",
       "13. 'graphics'\n",
       "14. 'grDevices'\n",
       "15. 'utils'\n",
       "16. 'datasets'\n",
       "17. 'methods'\n",
       "18. 'base'\n",
       "\n",
       "\n",
       "\n",
       "\n",
       "\n"
      ],
      "text/plain": [
       "[[1]]\n",
       " [1] \"lubridate\" \"forcats\"   \"stringr\"   \"dplyr\"     \"purrr\"     \"readr\"    \n",
       " [7] \"tidyr\"     \"tibble\"    \"ggplot2\"   \"tidyverse\" \"stats\"     \"graphics\" \n",
       "[13] \"grDevices\" \"utils\"     \"datasets\"  \"methods\"   \"base\"     \n",
       "\n",
       "[[2]]\n",
       " [1] \"sf\"        \"lubridate\" \"forcats\"   \"stringr\"   \"dplyr\"     \"purrr\"    \n",
       " [7] \"readr\"     \"tidyr\"     \"tibble\"    \"ggplot2\"   \"tidyverse\" \"stats\"    \n",
       "[13] \"graphics\"  \"grDevices\" \"utils\"     \"datasets\"  \"methods\"   \"base\"     \n",
       "\n",
       "[[3]]\n",
       " [1] \"sf\"        \"lubridate\" \"forcats\"   \"stringr\"   \"dplyr\"     \"purrr\"    \n",
       " [7] \"readr\"     \"tidyr\"     \"tibble\"    \"ggplot2\"   \"tidyverse\" \"stats\"    \n",
       "[13] \"graphics\"  \"grDevices\" \"utils\"     \"datasets\"  \"methods\"   \"base\"     \n"
      ]
     },
     "metadata": {},
     "output_type": "display_data"
    }
   ],
   "source": [
    "#LIBRERIAS (instalación y carga)\n",
    "libraries <- c(\"tidyverse\",\n",
    "               \"sf\", \n",
    "               \"readr\")\n",
    "installed_packages <- rownames(installed.packages())\n",
    "libraries_to_install <- setdiff(libraries, installed_packages)\n",
    "\n",
    "if (length(libraries_to_install) > 0) {\n",
    "  install.packages(libraries_to_install)}\n",
    "\n",
    "lapply(libraries, library, character.only = TRUE)"
   ]
  },
  {
   "cell_type": "code",
   "execution_count": null,
   "id": "038c452b",
   "metadata": {
    "vscode": {
     "languageId": "r"
    }
   },
   "outputs": [],
   "source": [
    "# #Áreas geoestadísticas básicas (AGEB) de la Ciudad de México del Marco Geoestadístico Nacional 2020\n",
    "# url <- \"https://www.inegi.org.mx/contenidos/productos/prod_serv/contenidos/espanol/bvinegi/productos/geografia/marcogeo/889463807469/09_ciudaddemexico.zip\"\n",
    "\n",
    "# temp_zip <- tempfile(fileext = \".zip\")                                                  #Archivo temporal para descargar el zip    \n",
    "# temp_dir <- tempdir()                                                                   #Directorio temporal para descomprimir el zip\n",
    "\n",
    "# options(timeout = 8000)                                                                 #Tiempo de espera para la descarga \n",
    "\n",
    "# download.file(url, temp_zip, mode = \"wb\")                                               #Descarga el archivo zip en el directorio temporal\n",
    "\n",
    "# related_files <- paste0(\"conjunto_de_datos/09a\", c(\".shp\", \".shx\", \".dbf\", \".prj\"))     #Busqueda de los archivos shp dentro del zip\n",
    "\n",
    "# unzip(temp_zip, files = related_files, exdir = temp_dir)                                #Descomprime el zip en el directorio temporal\n",
    "\n",
    "# shp_file_path <- file.path(temp_dir, related_files[1])                                  #Ruta del archivo shp\n",
    "\n",
    "# ageb_2020 <- st_read(shp_file_path, quiet = TRUE)|>                                     #Carga el shapefile de las AGEBS\n",
    "#   st_transform(crs = 32614)                                                             #Transformación el sistema de coordenadas a WGS84 UTM 14N\n"
   ]
  },
  {
   "cell_type": "code",
   "execution_count": 2,
   "id": "fe5d7faf",
   "metadata": {
    "vscode": {
     "languageId": "r"
    }
   },
   "outputs": [
    {
     "name": "stderr",
     "output_type": "stream",
     "text": [
      "Warning message:\n",
      "\"\u001b[1m\u001b[22mThere were 217 warnings in `mutate()`.\n",
      "The first warning was:\n",
      "\u001b[1m\u001b[22m\u001b[36mℹ\u001b[39m In argument: `across(9:230, ~as.numeric(.))`.\n",
      "Caused by warning:\n",
      "\u001b[33m!\u001b[39m NAs introducidos por coerción\n",
      "\u001b[1m\u001b[22m\u001b[36mℹ\u001b[39m Run `dplyr::last_dplyr_warnings()` to see the 216 remaining warnings.\"\n"
     ]
    },
    {
     "data": {
      "text/html": [
       "<table class=\"dataframe\">\n",
       "<caption>A tibble: 1 × 5</caption>\n",
       "<thead>\n",
       "\t<tr><th scope=col>NOM_MUN</th><th scope=col>VIVTOT</th><th scope=col>TVIVPARHAB</th><th scope=col>TOTHOG</th><th scope=col>POBTOT</th></tr>\n",
       "\t<tr><th scope=col>&lt;chr&gt;</th><th scope=col>&lt;dbl&gt;</th><th scope=col>&lt;dbl&gt;</th><th scope=col>&lt;dbl&gt;</th><th scope=col>&lt;dbl&gt;</th></tr>\n",
       "</thead>\n",
       "<tbody>\n",
       "\t<tr><td>Total de la entidad Ciudad de México</td><td>3036239</td><td>2756319</td><td>2756319</td><td>9209944</td></tr>\n",
       "</tbody>\n",
       "</table>\n"
      ],
      "text/latex": [
       "A tibble: 1 × 5\n",
       "\\begin{tabular}{lllll}\n",
       " NOM\\_MUN & VIVTOT & TVIVPARHAB & TOTHOG & POBTOT\\\\\n",
       " <chr> & <dbl> & <dbl> & <dbl> & <dbl>\\\\\n",
       "\\hline\n",
       "\t Total de la entidad Ciudad de México & 3036239 & 2756319 & 2756319 & 9209944\\\\\n",
       "\\end{tabular}\n"
      ],
      "text/markdown": [
       "\n",
       "A tibble: 1 × 5\n",
       "\n",
       "| NOM_MUN &lt;chr&gt; | VIVTOT &lt;dbl&gt; | TVIVPARHAB &lt;dbl&gt; | TOTHOG &lt;dbl&gt; | POBTOT &lt;dbl&gt; |\n",
       "|---|---|---|---|---|\n",
       "| Total de la entidad Ciudad de México | 3036239 | 2756319 | 2756319 | 9209944 |\n",
       "\n"
      ],
      "text/plain": [
       "  NOM_MUN                              VIVTOT  TVIVPARHAB TOTHOG  POBTOT \n",
       "1 Total de la entidad Ciudad de México 3036239 2756319    2756319 9209944"
      ]
     },
     "metadata": {},
     "output_type": "display_data"
    }
   ],
   "source": [
    "## PRINCIPALES RESULTADOS POR MANZANA CENSO DE POBLACIÓN Y VIVIENDA 2020 \n",
    "\n",
    "url <- \"https://www.inegi.org.mx/contenidos/programas/ccpv/2020/microdatos/ageb_manzana/RESAGEBURB_09_2020_xlsx.zip\"\n",
    "\n",
    "temp_zip <- tempfile(fileext = \".zip\")        # Archivo temporal para descargar el zip\n",
    "temp_dir <- tempdir()                         # Directorio temporal para descomprimir el zip\n",
    "\n",
    "options(timeout = 800)                        # Tiempo de espera para la descarga\n",
    "\n",
    "download.file(url, temp_zip, mode = \"wb\")     # Descarga el archivo zip en el directorio temporal\n",
    "\n",
    "unzip(temp_zip, exdir = temp_dir)             # Descomprime el zip en el directorio temporal\n",
    "\n",
    "# Localiza el archivo Excel dentro del zip descomprimido\n",
    "RESAGEBURB_09XLSX20_BASE <- list.files(\n",
    "  temp_dir, \n",
    "  pattern = \"RESAGEBURB_09XLSX20.xlsx\", \n",
    "  full.names = TRUE, \n",
    "  recursive = TRUE\n",
    ")\n",
    "\n",
    "# Cargar el archivo Excel, limpiar y procesar\n",
    "library(readxl)\n",
    "library(dplyr)\n",
    "\n",
    "RESAGEBURB_09XLSX20 <- read_excel(RESAGEBURB_09XLSX20_BASE) |>\n",
    "  mutate(\n",
    "    CVEGEO = paste0(ENTIDAD, MUN, LOC, AGEB)  # Crear clave geográfica\n",
    "  ) |>\n",
    "  mutate_all(~ gsub(\"\\\\*\", \"\", .)) |>         # Eliminar asteriscos de todo el data frame\n",
    "  mutate(across(9:230, ~ as.numeric(.))) |>   # Convertir variables 9 a 230 en numéricas\n",
    "  filter(NOM_MUN == \"Total de la entidad Ciudad de México\")|>\n",
    "  select(NOM_MUN,VIVTOT, TVIVPARHAB, TOTHOG, POBTOT)\n",
    "\n",
    "RESAGEBURB_09XLSX20"
   ]
  },
  {
   "cell_type": "code",
   "execution_count": 4,
   "id": "10759dbb",
   "metadata": {
    "vscode": {
     "languageId": "r"
    }
   },
   "outputs": [
    {
     "data": {
      "text/html": [
       "0.574065480352502"
      ],
      "text/latex": [
       "0.574065480352502"
      ],
      "text/markdown": [
       "0.574065480352502"
      ],
      "text/plain": [
       "[1] 0.5740655"
      ]
     },
     "metadata": {},
     "output_type": "display_data"
    }
   ],
   "source": [
    "(17430/3036239)*100"
   ]
  },
  {
   "cell_type": "code",
   "execution_count": null,
   "id": "b0555af2",
   "metadata": {
    "vscode": {
     "languageId": "r"
    }
   },
   "outputs": [],
   "source": [
    "# pob<-ageb_2020|>\n",
    "#   left_join(RESAGEBURB_09XLSX20, by = \"CVEGEO\")"
   ]
  },
  {
   "cell_type": "code",
   "execution_count": null,
   "id": "071e06eb",
   "metadata": {
    "vscode": {
     "languageId": "r"
    }
   },
   "outputs": [
    {
     "data": {
      "text/html": [
       "<table class=\"dataframe\">\n",
       "<caption>A tibble: 1 × 2</caption>\n",
       "<thead>\n",
       "\t<tr><th scope=col>room_type</th><th scope=col>alojamientos</th></tr>\n",
       "\t<tr><th scope=col>&lt;chr&gt;</th><th scope=col>&lt;int&gt;</th></tr>\n",
       "</thead>\n",
       "<tbody>\n",
       "\t<tr><td>Entire home/apt</td><td>17430</td></tr>\n",
       "</tbody>\n",
       "</table>\n"
      ],
      "text/latex": [
       "A tibble: 1 × 2\n",
       "\\begin{tabular}{ll}\n",
       " room\\_type & alojamientos\\\\\n",
       " <chr> & <int>\\\\\n",
       "\\hline\n",
       "\t Entire home/apt & 17430\\\\\n",
       "\\end{tabular}\n"
      ],
      "text/markdown": [
       "\n",
       "A tibble: 1 × 2\n",
       "\n",
       "| room_type &lt;chr&gt; | alojamientos &lt;int&gt; |\n",
       "|---|---|\n",
       "| Entire home/apt | 17430 |\n",
       "\n"
      ],
      "text/plain": [
       "  room_type       alojamientos\n",
       "1 Entire home/apt 17430       "
      ]
     },
     "metadata": {},
     "output_type": "display_data"
    }
   ],
   "source": [
    "#DATOS AIRBNB (corte de la información a diciembre 2024)\n",
    "url <- \"https://data.insideairbnb.com/mexico/df/mexico-city/2024-12-27/data/listings.csv.gz\"\n",
    "\n",
    "airbnb_base<-read_csv(url, col_types = cols(.default = col_character()))|>            #Carga de la base                                                          \n",
    "  mutate(latitude= as.numeric(latitude),                                                                                                    \n",
    "         longitude= as.numeric(longitude))|>                                          #Convertir a numerico los campos de latitud y longitud\n",
    "  filter(room_type == \"Entire home/apt\")\n",
    "\n",
    "cuenta_airbnb <- airbnb_base|>\n",
    "group_by(room_type)|>\n",
    "summarise(alojamientos = n())\n",
    "\n",
    "cuenta_airbnb$alojamientos\n",
    "\n",
    "\n",
    "#                                              #Seleccionar el tipo de alojamiento (aquellos que son propiedades completas)\n",
    "#   st_as_sf(coords = c(\"longitude\", \"latitude\"), crs = 4326)|>                         #Transformar a objeto espacial                  \n",
    "#   st_transform(crs = 32614)|>                                                         #Convertir a WGS 84 UTM zona 14N\n",
    "#   mutate(airbnb = 1)|>\n",
    "#   st_join(ageb_2020, join = st_within, left = TRUE)|>                                 #Unir la base de airbnb con la de las AGEBS\n",
    "#   st_drop_geometry()|>                                                                #Eliminar la geometría\n",
    "#   group_by(CVEGEO)|>                                                                  #Agrupar por CVEGEO\n",
    "#   summarise(unidades_airbnb = sum(airbnb))                                            #Contar el número de airbnbs por CVEGEO"
   ]
  },
  {
   "cell_type": "code",
   "execution_count": 9,
   "id": "68848d54",
   "metadata": {
    "vscode": {
     "languageId": "r"
    }
   },
   "outputs": [
    {
     "data": {
      "text/html": [
       "17430"
      ],
      "text/latex": [
       "17430"
      ],
      "text/markdown": [
       "17430"
      ],
      "text/plain": [
       "[1] 17430"
      ]
     },
     "metadata": {},
     "output_type": "display_data"
    }
   ],
   "source": [
    "#Cálculo de la población total por AGEBS\n",
    "total_airbn<-cuenta_airbnb$alojamientos  \n",
    "total_airbn                                     \n",
    "total_vivparhab<-sum(RESAGEBURB_09XLSX20$TVIVPARHAB, na.rm = TRUE)                   #Total de viviendas particulares habitadas         \n",
    "total_vivtot<-sum(RESAGEBURB_09XLSX20$VIVTOT, na.rm = TRUE)                                    \n",
    "pobl_tot <-sum(RESAGEBURB_09XLSX20$POBTOT, na.rm = TRUE)                             #Total de población total"
   ]
  },
  {
   "cell_type": "code",
   "execution_count": null,
   "id": "51967a7c",
   "metadata": {
    "vscode": {
     "languageId": "r"
    }
   },
   "outputs": [
    {
     "name": "stdout",
     "output_type": "stream",
     "text": [
      "ALOJAMIENTOS AIRBNB POR CADA MIL VIVIENDAS PARTICULARES HABITADAS EN LA CIUDAD DE MÉXICO: 6.362199 \n",
      "ALOJAMIENTOS AIRBNB POR CADA MIL HABITANTES EN LA CIUDAD DE MÉXICO: 1.905828 \n",
      "ALOJAMIENTOS AIRBNB POR CADA MIL VIVIENDAS PARTICULARES HABITADAS EN LA CIUDAD DE MÉXICO: 6.362199 \n"
     ]
    }
   ],
   "source": [
    "airbnb_por_mil_viv = total_airbn/total_vivparhab*1000 \n",
    "cat(\"ALOJAMIENTOS AIRBNB POR CADA MIL VIVIENDAS PARTICULARES HABITADAS EN LA CIUDAD DE MÉXICO:\", airbnb_por_mil_viv, \"\\n\")\n",
    "airbnb_por_mil_hab<-total_airbn/pobl_tot*1000\n",
    "cat(\"ALOJAMIENTOS AIRBNB POR CADA MIL HABITANTES EN LA CIUDAD DE MÉXICO:\", airbnb_por_mil_hab, \"\\n\")\n"
   ]
  }
 ],
 "metadata": {
  "kernelspec": {
   "display_name": "R",
   "language": "R",
   "name": "ir"
  },
  "language_info": {
   "codemirror_mode": "r",
   "file_extension": ".r",
   "mimetype": "text/x-r-source",
   "name": "R",
   "pygments_lexer": "r",
   "version": "4.4.3"
  }
 },
 "nbformat": 4,
 "nbformat_minor": 5
}
