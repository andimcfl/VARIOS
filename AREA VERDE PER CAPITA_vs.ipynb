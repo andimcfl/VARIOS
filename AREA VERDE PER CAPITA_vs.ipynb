{
 "cells": [
  {
   "cell_type": "markdown",
   "id": "39fdbebd",
   "metadata": {},
   "source": [
    "## ÁREA VERDE URBANA PER CÁPITA"
   ]
  },
  {
   "cell_type": "code",
   "execution_count": null,
   "id": "afbf1f1a",
   "metadata": {
    "vscode": {
     "languageId": "r"
    }
   },
   "outputs": [],
   "source": [
    "#CARGAR LIBRERIAS\n",
    "libraries <- c(\"tidyverse\",\n",
    "               \"sf\",  \n",
    "               \"DBI\", \n",
    "               \"RSQLite\", \n",
    "               \"utils\", \n",
    "               \"readxl\")\n",
    "\n",
    "installed_packages <- rownames(installed.packages())\n",
    "libraries_to_install <- setdiff(libraries, installed_packages)\n",
    "\n",
    "if (length(libraries_to_install) > 0) {\n",
    "  install.packages(libraries_to_install)\n",
    "}\n",
    "\n",
    "lapply(libraries, library, character.only = TRUE)\n",
    "\n",
    "print (\"librerias cargadas\")"
   ]
  },
  {
   "cell_type": "markdown",
   "id": "99baec05",
   "metadata": {},
   "source": [
    "**Consideraciones Generales del Área Verde Definida**\n",
    "\n",
    "La definición del área verde parte de la *Ley Ambiental de la Ciudad de México*, publicada en la Gaceta Oficial de la Ciudad de México el *18 de julio de 2024*, que en su *artículo 4, fracción VIII*, establece como *Áreas Verdes* a:\n",
    "\n",
    "> \"Toda superficie cubierta de vegetación, natural o inducida, que se localice en la Ciudad de México.\"\n",
    "por lo tanto, en el presente indicador, se considera como área verde toda la vegetación arbolada, arbustiva, herbácea y agrícola.\n",
    "\n",
    "Fuente: Comisión Nacional para el Conocimiento y Uso de la Biodiversidad (CONABIO). 2024. *Áreas verdes 2017–2018 de la Ciudad de México*.  Escala: 1:4,000, Edición: 1,  Vigencia: 2020–2023. Proyecto: *Biodiversidad Urbana*, Ciudad de México.\n",
    "\n",
    "*Mantenimiento:* No"
   ]
  },
  {
   "cell_type": "code",
   "execution_count": null,
   "id": "b0b1fde7",
   "metadata": {
    "vscode": {
     "languageId": "r"
    }
   },
   "outputs": [],
   "source": [
    "##PRINCIPALES RESULTADOS POR MANZANA CENSO DE POBLACIÓN Y VIVIENDA 2020\n",
    "url <- \"https://www.inegi.org.mx/contenidos/programas/ccpv/2020/microdatos/ageb_manzana/RESAGEBURB_09_2020_xlsx.zip\"\n",
    "temp_zip <- tempfile(fileext = \".zip\")\n",
    "temp_dir <- tempdir()\n",
    "options(timeout = 800)\n",
    "download.file(url, temp_zip, mode = \"wb\")\n",
    "unzip(temp_zip, exdir = temp_dir)\n",
    "RESAGEBURB_09XLSX20_BASE <- list.files(temp_dir, pattern =\"RESAGEBURB_09XLSX20.xlsx\", full.names = TRUE, recursive = TRUE)\n",
    "RESAGEBURB_09XLSX20<- readxl::read_excel(RESAGEBURB_09XLSX20_BASE)|>\n",
    "  mutate(CVEGEO = paste0(ENTIDAD),\n",
    "         CVE_MUNI = paste0(ENTIDAD, MUN))|>\n",
    "  mutate_all(~ gsub(\"\\\\*\", \"\", .)) |> \n",
    "  mutate(across(9:230, ~ as.numeric(., na.rm = TRUE)))|>\n",
    "  filter(NOM_MUN == \"Total de la entidad Ciudad de México\")|>\n",
    "  select(CVEGEO, POBTOT)"
   ]
  },
  {
   "cell_type": "code",
   "execution_count": 4,
   "id": "43dd47b7",
   "metadata": {
    "vscode": {
     "languageId": "r"
    }
   },
   "outputs": [],
   "source": [
    "#ZONA URBANA DEFINIDA CON LAS AGEBS MARCO GEOESTADÍSTICO CDMX 2020\n",
    "url <- \"https://www.inegi.org.mx/contenidos/productos/prod_serv/contenidos/espanol/bvinegi/productos/geografia/marcogeo/889463807469/09_ciudaddemexico.zip\"\n",
    "temp_zip <- tempfile(fileext = \".zip\")     \n",
    "temp_dir <- tempdir()                       \n",
    "options(timeout = 1000)                      \n",
    "download.file(url, temp_zip, mode = \"wb\")\n",
    "related_files <- paste0(\"conjunto_de_datos/09a\", c(\".shp\", \".shx\", \".dbf\", \".prj\"))\n",
    "unzip(temp_zip, files = related_files, exdir = temp_dir)\n",
    "shp_file_path <- file.path(temp_dir, related_files[1])\n",
    "zona_urbana_ageb_2020 <- st_read(shp_file_path, quiet = TRUE)|>\n",
    "  st_transform(crs = 32614)|>\n",
    "  mutate(area = st_area(geometry))|>\n",
    "  group_by(CVE_ENT)|>\n",
    "  summarise(area_urbana = sum(area))\n"
   ]
  },
  {
   "cell_type": "code",
   "execution_count": null,
   "id": "31ee1625",
   "metadata": {
    "vscode": {
     "languageId": "r"
    }
   },
   "outputs": [],
   "source": [
    "directorio <- \"C:/Users/brenp/Desktop/PGOTDU_CDMX/ESPACIO PUBLICO\"\n",
    "setwd(directorio)\n",
    "getwd()"
   ]
  },
  {
   "cell_type": "code",
   "execution_count": null,
   "id": "d2d322e3",
   "metadata": {
    "vscode": {
     "languageId": "r"
    }
   },
   "outputs": [
    {
     "name": "stdout",
     "output_type": "stream",
     "text": [
      "Reading layer `avcdmx_1718' from data source \n",
      "  `C:\\Users\\brenp\\Desktop\\PGOTDU_CDMX\\ESPACIO PUBLICO\\avcdmx_1718\\avcdmx_1718.gdb' \n",
      "  using driver `OpenFileGDB'\n"
     ]
    },
    {
     "name": "stderr",
     "output_type": "stream",
     "text": [
      "Warning message in CPL_read_ogr(dsn, layer, query, as.character(options), quiet, :\n",
      "\"GDAL Message 1: organizePolygons() received a polygon with more than 100 parts. The processing may be really slow.  You can skip the processing by setting METHOD=SKIP, or only make it analyze counter-clock wise parts by setting METHOD=ONLY_CCW if you can assume that the outline of holes is counter-clock wise defined\"\n"
     ]
    },
    {
     "name": "stdout",
     "output_type": "stream",
     "text": [
      "Simple feature collection with 2129346 features and 11 fields\n",
      "Geometry type: MULTIPOLYGON\n",
      "Dimension:     XY\n",
      "Bounding box:  xmin: 461669.7 ymin: 2106221 xmax: 506246 ymax: 2166416\n",
      "Projected CRS: WGS 84 / UTM zone 14N\n"
     ]
    },
    {
     "name": "stderr",
     "output_type": "stream",
     "text": [
      "Warning message:\n",
      "\"attribute variables are assumed to be spatially constant throughout all geometries\"\n"
     ]
    },
    {
     "data": {
      "text/html": [
       "<table class=\"dataframe\">\n",
       "<caption>A tibble: 1 × 2</caption>\n",
       "<thead>\n",
       "\t<tr><th scope=col>CVEGEO</th><th scope=col>area_total</th></tr>\n",
       "\t<tr><th scope=col>&lt;chr&gt;</th><th scope=col>&lt;dbl&gt;</th></tr>\n",
       "</thead>\n",
       "<tbody>\n",
       "\t<tr><td>09</td><td>676939891</td></tr>\n",
       "</tbody>\n",
       "</table>\n"
      ],
      "text/latex": [
       "A tibble: 1 × 2\n",
       "\\begin{tabular}{ll}\n",
       " CVEGEO & area\\_total\\\\\n",
       " <chr> & <dbl>\\\\\n",
       "\\hline\n",
       "\t 09 & 676939891\\\\\n",
       "\\end{tabular}\n"
      ],
      "text/markdown": [
       "\n",
       "A tibble: 1 × 2\n",
       "\n",
       "| CVEGEO &lt;chr&gt; | area_total &lt;dbl&gt; |\n",
       "|---|---|\n",
       "| 09 | 676939891 |\n",
       "\n"
      ],
      "text/plain": [
       "  CVEGEO area_total\n",
       "1 09     676939891 "
      ]
     },
     "metadata": {},
     "output_type": "display_data"
    }
   ],
   "source": [
    "##Áreas verdes de la Ciudad de México (2017-2018)----\n",
    "# url <- \"http://www.conabio.gob.mx/informacion/gis/maps/ccl/avcdmxgw_c.zip\"\n",
    "# options(timeout = 5000)\n",
    "# download.file(url, 'avcdmxgw_c.zip', mode = \"wb\")\n",
    "\n",
    "# zip::unzip(\"avcdmxgw_c.zip\", exdir = \"avcdmx_1718\")\n",
    "\n",
    "##PARA LEER LA BASE DE DATOS, SE REALIZÓ UNA PREVIA TRANSFORMACIÓN DE LA BASE DE DATOS EN UN SISTEMA DE INFORMACIÓN GEOGRÁFICA PARA TRABAJARLA EN FORMATO .GDB\n",
    "\n",
    "acvdmx_gdbs<-st_read(\"avcdmx_1718/avcdmx_1718.gdb\")|>\n",
    "  mutate(CVEGEO = CVE_ENT)|>\n",
    "  st_intersection(zona_urbana_ageb_2020)|> \n",
    "  st_drop_geometry()|>\n",
    "  as.data.frame()|>\n",
    "  group_by(CVEGEO)|>\n",
    "  summarise(area_total = sum(Shape_Area))\n",
    "\n",
    "head(acvdmx_gdbs)"
   ]
  },
  {
   "cell_type": "code",
   "execution_count": 6,
   "id": "fe3eda40",
   "metadata": {
    "vscode": {
     "languageId": "r"
    }
   },
   "outputs": [],
   "source": [
    "##ÁREA VERDE PER CAPITA\n",
    "av_pc_2018<-acvdmx_gdbs|>\n",
    "  left_join(RESAGEBURB_09XLSX20, by = \"CVEGEO\")|>\n",
    "  mutate(AV_PC_18 = round(area_total/POBTOT,2))"
   ]
  },
  {
   "cell_type": "code",
   "execution_count": 7,
   "id": "7c72251f",
   "metadata": {
    "vscode": {
     "languageId": "r"
    }
   },
   "outputs": [
    {
     "name": "stdout",
     "output_type": "stream",
     "text": [
      "[1] \"Área verde per cápita:  73.5 m2/hab\"\n"
     ]
    }
   ],
   "source": [
    "print(paste(\"Área verde per cápita: \", av_pc_2018$AV_PC_18, \"m2/hab\"))"
   ]
  }
 ],
 "metadata": {
  "kernelspec": {
   "display_name": "R",
   "language": "R",
   "name": "ir"
  },
  "language_info": {
   "codemirror_mode": "r",
   "file_extension": ".r",
   "mimetype": "text/x-r-source",
   "name": "R",
   "pygments_lexer": "r",
   "version": "4.4.3"
  }
 },
 "nbformat": 4,
 "nbformat_minor": 5
}
