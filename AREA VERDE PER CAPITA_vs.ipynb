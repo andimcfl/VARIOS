{
 "cells": [
  {
   "cell_type": "markdown",
   "id": "39fdbebd",
   "metadata": {},
   "source": [
    "## ÁREA VERDE URBANA PER CÁPITA"
   ]
  },
  {
   "cell_type": "code",
   "execution_count": 1,
   "id": "afbf1f1a",
   "metadata": {
    "vscode": {
     "languageId": "r"
    }
   },
   "outputs": [
    {
     "name": "stderr",
     "output_type": "stream",
     "text": [
      "── \u001b[1mAttaching core tidyverse packages\u001b[22m ──────────────────────── tidyverse 2.0.0 ──\n",
      "\u001b[32m✔\u001b[39m \u001b[34mdplyr    \u001b[39m 1.1.4     \u001b[32m✔\u001b[39m \u001b[34mreadr    \u001b[39m 2.1.5\n",
      "\u001b[32m✔\u001b[39m \u001b[34mforcats  \u001b[39m 1.0.0     \u001b[32m✔\u001b[39m \u001b[34mstringr  \u001b[39m 1.5.1\n",
      "\u001b[32m✔\u001b[39m \u001b[34mggplot2  \u001b[39m 3.5.1     \u001b[32m✔\u001b[39m \u001b[34mtibble   \u001b[39m 3.2.1\n",
      "\u001b[32m✔\u001b[39m \u001b[34mlubridate\u001b[39m 1.9.4     \u001b[32m✔\u001b[39m \u001b[34mtidyr    \u001b[39m 1.3.1\n",
      "\u001b[32m✔\u001b[39m \u001b[34mpurrr    \u001b[39m 1.0.4     \n",
      "── \u001b[1mConflicts\u001b[22m ────────────────────────────────────────── tidyverse_conflicts() ──\n",
      "\u001b[31m✖\u001b[39m \u001b[34mdplyr\u001b[39m::\u001b[32mfilter()\u001b[39m masks \u001b[34mstats\u001b[39m::filter()\n",
      "\u001b[31m✖\u001b[39m \u001b[34mdplyr\u001b[39m::\u001b[32mlag()\u001b[39m    masks \u001b[34mstats\u001b[39m::lag()\n",
      "\u001b[36mℹ\u001b[39m Use the conflicted package (\u001b[3m\u001b[34m<http://conflicted.r-lib.org/>\u001b[39m\u001b[23m) to force all conflicts to become errors\n",
      "Linking to GEOS 3.13.0, GDAL 3.10.1, PROJ 9.5.1; sf_use_s2() is TRUE\n",
      "\n"
     ]
    },
    {
     "data": {
      "text/html": [
       "<ol>\n",
       "\t<li><style>\n",
       ".list-inline {list-style: none; margin:0; padding: 0}\n",
       ".list-inline>li {display: inline-block}\n",
       ".list-inline>li:not(:last-child)::after {content: \"\\00b7\"; padding: 0 .5ex}\n",
       "</style>\n",
       "<ol class=list-inline><li>'lubridate'</li><li>'forcats'</li><li>'stringr'</li><li>'dplyr'</li><li>'purrr'</li><li>'readr'</li><li>'tidyr'</li><li>'tibble'</li><li>'ggplot2'</li><li>'tidyverse'</li><li>'stats'</li><li>'graphics'</li><li>'grDevices'</li><li>'utils'</li><li>'datasets'</li><li>'methods'</li><li>'base'</li></ol>\n",
       "</li>\n",
       "\t<li><style>\n",
       ".list-inline {list-style: none; margin:0; padding: 0}\n",
       ".list-inline>li {display: inline-block}\n",
       ".list-inline>li:not(:last-child)::after {content: \"\\00b7\"; padding: 0 .5ex}\n",
       "</style>\n",
       "<ol class=list-inline><li>'sf'</li><li>'lubridate'</li><li>'forcats'</li><li>'stringr'</li><li>'dplyr'</li><li>'purrr'</li><li>'readr'</li><li>'tidyr'</li><li>'tibble'</li><li>'ggplot2'</li><li>'tidyverse'</li><li>'stats'</li><li>'graphics'</li><li>'grDevices'</li><li>'utils'</li><li>'datasets'</li><li>'methods'</li><li>'base'</li></ol>\n",
       "</li>\n",
       "\t<li><style>\n",
       ".list-inline {list-style: none; margin:0; padding: 0}\n",
       ".list-inline>li {display: inline-block}\n",
       ".list-inline>li:not(:last-child)::after {content: \"\\00b7\"; padding: 0 .5ex}\n",
       "</style>\n",
       "<ol class=list-inline><li>'DBI'</li><li>'sf'</li><li>'lubridate'</li><li>'forcats'</li><li>'stringr'</li><li>'dplyr'</li><li>'purrr'</li><li>'readr'</li><li>'tidyr'</li><li>'tibble'</li><li>'ggplot2'</li><li>'tidyverse'</li><li>'stats'</li><li>'graphics'</li><li>'grDevices'</li><li>'utils'</li><li>'datasets'</li><li>'methods'</li><li>'base'</li></ol>\n",
       "</li>\n",
       "\t<li><style>\n",
       ".list-inline {list-style: none; margin:0; padding: 0}\n",
       ".list-inline>li {display: inline-block}\n",
       ".list-inline>li:not(:last-child)::after {content: \"\\00b7\"; padding: 0 .5ex}\n",
       "</style>\n",
       "<ol class=list-inline><li>'RSQLite'</li><li>'DBI'</li><li>'sf'</li><li>'lubridate'</li><li>'forcats'</li><li>'stringr'</li><li>'dplyr'</li><li>'purrr'</li><li>'readr'</li><li>'tidyr'</li><li>'tibble'</li><li>'ggplot2'</li><li>'tidyverse'</li><li>'stats'</li><li>'graphics'</li><li>'grDevices'</li><li>'utils'</li><li>'datasets'</li><li>'methods'</li><li>'base'</li></ol>\n",
       "</li>\n",
       "\t<li><style>\n",
       ".list-inline {list-style: none; margin:0; padding: 0}\n",
       ".list-inline>li {display: inline-block}\n",
       ".list-inline>li:not(:last-child)::after {content: \"\\00b7\"; padding: 0 .5ex}\n",
       "</style>\n",
       "<ol class=list-inline><li>'RSQLite'</li><li>'DBI'</li><li>'sf'</li><li>'lubridate'</li><li>'forcats'</li><li>'stringr'</li><li>'dplyr'</li><li>'purrr'</li><li>'readr'</li><li>'tidyr'</li><li>'tibble'</li><li>'ggplot2'</li><li>'tidyverse'</li><li>'stats'</li><li>'graphics'</li><li>'grDevices'</li><li>'utils'</li><li>'datasets'</li><li>'methods'</li><li>'base'</li></ol>\n",
       "</li>\n",
       "\t<li><style>\n",
       ".list-inline {list-style: none; margin:0; padding: 0}\n",
       ".list-inline>li {display: inline-block}\n",
       ".list-inline>li:not(:last-child)::after {content: \"\\00b7\"; padding: 0 .5ex}\n",
       "</style>\n",
       "<ol class=list-inline><li>'readxl'</li><li>'RSQLite'</li><li>'DBI'</li><li>'sf'</li><li>'lubridate'</li><li>'forcats'</li><li>'stringr'</li><li>'dplyr'</li><li>'purrr'</li><li>'readr'</li><li>'tidyr'</li><li>'tibble'</li><li>'ggplot2'</li><li>'tidyverse'</li><li>'stats'</li><li>'graphics'</li><li>'grDevices'</li><li>'utils'</li><li>'datasets'</li><li>'methods'</li><li>'base'</li></ol>\n",
       "</li>\n",
       "</ol>\n"
      ],
      "text/latex": [
       "\\begin{enumerate}\n",
       "\\item \\begin{enumerate*}\n",
       "\\item 'lubridate'\n",
       "\\item 'forcats'\n",
       "\\item 'stringr'\n",
       "\\item 'dplyr'\n",
       "\\item 'purrr'\n",
       "\\item 'readr'\n",
       "\\item 'tidyr'\n",
       "\\item 'tibble'\n",
       "\\item 'ggplot2'\n",
       "\\item 'tidyverse'\n",
       "\\item 'stats'\n",
       "\\item 'graphics'\n",
       "\\item 'grDevices'\n",
       "\\item 'utils'\n",
       "\\item 'datasets'\n",
       "\\item 'methods'\n",
       "\\item 'base'\n",
       "\\end{enumerate*}\n",
       "\n",
       "\\item \\begin{enumerate*}\n",
       "\\item 'sf'\n",
       "\\item 'lubridate'\n",
       "\\item 'forcats'\n",
       "\\item 'stringr'\n",
       "\\item 'dplyr'\n",
       "\\item 'purrr'\n",
       "\\item 'readr'\n",
       "\\item 'tidyr'\n",
       "\\item 'tibble'\n",
       "\\item 'ggplot2'\n",
       "\\item 'tidyverse'\n",
       "\\item 'stats'\n",
       "\\item 'graphics'\n",
       "\\item 'grDevices'\n",
       "\\item 'utils'\n",
       "\\item 'datasets'\n",
       "\\item 'methods'\n",
       "\\item 'base'\n",
       "\\end{enumerate*}\n",
       "\n",
       "\\item \\begin{enumerate*}\n",
       "\\item 'DBI'\n",
       "\\item 'sf'\n",
       "\\item 'lubridate'\n",
       "\\item 'forcats'\n",
       "\\item 'stringr'\n",
       "\\item 'dplyr'\n",
       "\\item 'purrr'\n",
       "\\item 'readr'\n",
       "\\item 'tidyr'\n",
       "\\item 'tibble'\n",
       "\\item 'ggplot2'\n",
       "\\item 'tidyverse'\n",
       "\\item 'stats'\n",
       "\\item 'graphics'\n",
       "\\item 'grDevices'\n",
       "\\item 'utils'\n",
       "\\item 'datasets'\n",
       "\\item 'methods'\n",
       "\\item 'base'\n",
       "\\end{enumerate*}\n",
       "\n",
       "\\item \\begin{enumerate*}\n",
       "\\item 'RSQLite'\n",
       "\\item 'DBI'\n",
       "\\item 'sf'\n",
       "\\item 'lubridate'\n",
       "\\item 'forcats'\n",
       "\\item 'stringr'\n",
       "\\item 'dplyr'\n",
       "\\item 'purrr'\n",
       "\\item 'readr'\n",
       "\\item 'tidyr'\n",
       "\\item 'tibble'\n",
       "\\item 'ggplot2'\n",
       "\\item 'tidyverse'\n",
       "\\item 'stats'\n",
       "\\item 'graphics'\n",
       "\\item 'grDevices'\n",
       "\\item 'utils'\n",
       "\\item 'datasets'\n",
       "\\item 'methods'\n",
       "\\item 'base'\n",
       "\\end{enumerate*}\n",
       "\n",
       "\\item \\begin{enumerate*}\n",
       "\\item 'RSQLite'\n",
       "\\item 'DBI'\n",
       "\\item 'sf'\n",
       "\\item 'lubridate'\n",
       "\\item 'forcats'\n",
       "\\item 'stringr'\n",
       "\\item 'dplyr'\n",
       "\\item 'purrr'\n",
       "\\item 'readr'\n",
       "\\item 'tidyr'\n",
       "\\item 'tibble'\n",
       "\\item 'ggplot2'\n",
       "\\item 'tidyverse'\n",
       "\\item 'stats'\n",
       "\\item 'graphics'\n",
       "\\item 'grDevices'\n",
       "\\item 'utils'\n",
       "\\item 'datasets'\n",
       "\\item 'methods'\n",
       "\\item 'base'\n",
       "\\end{enumerate*}\n",
       "\n",
       "\\item \\begin{enumerate*}\n",
       "\\item 'readxl'\n",
       "\\item 'RSQLite'\n",
       "\\item 'DBI'\n",
       "\\item 'sf'\n",
       "\\item 'lubridate'\n",
       "\\item 'forcats'\n",
       "\\item 'stringr'\n",
       "\\item 'dplyr'\n",
       "\\item 'purrr'\n",
       "\\item 'readr'\n",
       "\\item 'tidyr'\n",
       "\\item 'tibble'\n",
       "\\item 'ggplot2'\n",
       "\\item 'tidyverse'\n",
       "\\item 'stats'\n",
       "\\item 'graphics'\n",
       "\\item 'grDevices'\n",
       "\\item 'utils'\n",
       "\\item 'datasets'\n",
       "\\item 'methods'\n",
       "\\item 'base'\n",
       "\\end{enumerate*}\n",
       "\n",
       "\\end{enumerate}\n"
      ],
      "text/markdown": [
       "1. 1. 'lubridate'\n",
       "2. 'forcats'\n",
       "3. 'stringr'\n",
       "4. 'dplyr'\n",
       "5. 'purrr'\n",
       "6. 'readr'\n",
       "7. 'tidyr'\n",
       "8. 'tibble'\n",
       "9. 'ggplot2'\n",
       "10. 'tidyverse'\n",
       "11. 'stats'\n",
       "12. 'graphics'\n",
       "13. 'grDevices'\n",
       "14. 'utils'\n",
       "15. 'datasets'\n",
       "16. 'methods'\n",
       "17. 'base'\n",
       "\n",
       "\n",
       "\n",
       "2. 1. 'sf'\n",
       "2. 'lubridate'\n",
       "3. 'forcats'\n",
       "4. 'stringr'\n",
       "5. 'dplyr'\n",
       "6. 'purrr'\n",
       "7. 'readr'\n",
       "8. 'tidyr'\n",
       "9. 'tibble'\n",
       "10. 'ggplot2'\n",
       "11. 'tidyverse'\n",
       "12. 'stats'\n",
       "13. 'graphics'\n",
       "14. 'grDevices'\n",
       "15. 'utils'\n",
       "16. 'datasets'\n",
       "17. 'methods'\n",
       "18. 'base'\n",
       "\n",
       "\n",
       "\n",
       "3. 1. 'DBI'\n",
       "2. 'sf'\n",
       "3. 'lubridate'\n",
       "4. 'forcats'\n",
       "5. 'stringr'\n",
       "6. 'dplyr'\n",
       "7. 'purrr'\n",
       "8. 'readr'\n",
       "9. 'tidyr'\n",
       "10. 'tibble'\n",
       "11. 'ggplot2'\n",
       "12. 'tidyverse'\n",
       "13. 'stats'\n",
       "14. 'graphics'\n",
       "15. 'grDevices'\n",
       "16. 'utils'\n",
       "17. 'datasets'\n",
       "18. 'methods'\n",
       "19. 'base'\n",
       "\n",
       "\n",
       "\n",
       "4. 1. 'RSQLite'\n",
       "2. 'DBI'\n",
       "3. 'sf'\n",
       "4. 'lubridate'\n",
       "5. 'forcats'\n",
       "6. 'stringr'\n",
       "7. 'dplyr'\n",
       "8. 'purrr'\n",
       "9. 'readr'\n",
       "10. 'tidyr'\n",
       "11. 'tibble'\n",
       "12. 'ggplot2'\n",
       "13. 'tidyverse'\n",
       "14. 'stats'\n",
       "15. 'graphics'\n",
       "16. 'grDevices'\n",
       "17. 'utils'\n",
       "18. 'datasets'\n",
       "19. 'methods'\n",
       "20. 'base'\n",
       "\n",
       "\n",
       "\n",
       "5. 1. 'RSQLite'\n",
       "2. 'DBI'\n",
       "3. 'sf'\n",
       "4. 'lubridate'\n",
       "5. 'forcats'\n",
       "6. 'stringr'\n",
       "7. 'dplyr'\n",
       "8. 'purrr'\n",
       "9. 'readr'\n",
       "10. 'tidyr'\n",
       "11. 'tibble'\n",
       "12. 'ggplot2'\n",
       "13. 'tidyverse'\n",
       "14. 'stats'\n",
       "15. 'graphics'\n",
       "16. 'grDevices'\n",
       "17. 'utils'\n",
       "18. 'datasets'\n",
       "19. 'methods'\n",
       "20. 'base'\n",
       "\n",
       "\n",
       "\n",
       "6. 1. 'readxl'\n",
       "2. 'RSQLite'\n",
       "3. 'DBI'\n",
       "4. 'sf'\n",
       "5. 'lubridate'\n",
       "6. 'forcats'\n",
       "7. 'stringr'\n",
       "8. 'dplyr'\n",
       "9. 'purrr'\n",
       "10. 'readr'\n",
       "11. 'tidyr'\n",
       "12. 'tibble'\n",
       "13. 'ggplot2'\n",
       "14. 'tidyverse'\n",
       "15. 'stats'\n",
       "16. 'graphics'\n",
       "17. 'grDevices'\n",
       "18. 'utils'\n",
       "19. 'datasets'\n",
       "20. 'methods'\n",
       "21. 'base'\n",
       "\n",
       "\n",
       "\n",
       "\n",
       "\n"
      ],
      "text/plain": [
       "[[1]]\n",
       " [1] \"lubridate\" \"forcats\"   \"stringr\"   \"dplyr\"     \"purrr\"     \"readr\"    \n",
       " [7] \"tidyr\"     \"tibble\"    \"ggplot2\"   \"tidyverse\" \"stats\"     \"graphics\" \n",
       "[13] \"grDevices\" \"utils\"     \"datasets\"  \"methods\"   \"base\"     \n",
       "\n",
       "[[2]]\n",
       " [1] \"sf\"        \"lubridate\" \"forcats\"   \"stringr\"   \"dplyr\"     \"purrr\"    \n",
       " [7] \"readr\"     \"tidyr\"     \"tibble\"    \"ggplot2\"   \"tidyverse\" \"stats\"    \n",
       "[13] \"graphics\"  \"grDevices\" \"utils\"     \"datasets\"  \"methods\"   \"base\"     \n",
       "\n",
       "[[3]]\n",
       " [1] \"DBI\"       \"sf\"        \"lubridate\" \"forcats\"   \"stringr\"   \"dplyr\"    \n",
       " [7] \"purrr\"     \"readr\"     \"tidyr\"     \"tibble\"    \"ggplot2\"   \"tidyverse\"\n",
       "[13] \"stats\"     \"graphics\"  \"grDevices\" \"utils\"     \"datasets\"  \"methods\"  \n",
       "[19] \"base\"     \n",
       "\n",
       "[[4]]\n",
       " [1] \"RSQLite\"   \"DBI\"       \"sf\"        \"lubridate\" \"forcats\"   \"stringr\"  \n",
       " [7] \"dplyr\"     \"purrr\"     \"readr\"     \"tidyr\"     \"tibble\"    \"ggplot2\"  \n",
       "[13] \"tidyverse\" \"stats\"     \"graphics\"  \"grDevices\" \"utils\"     \"datasets\" \n",
       "[19] \"methods\"   \"base\"     \n",
       "\n",
       "[[5]]\n",
       " [1] \"RSQLite\"   \"DBI\"       \"sf\"        \"lubridate\" \"forcats\"   \"stringr\"  \n",
       " [7] \"dplyr\"     \"purrr\"     \"readr\"     \"tidyr\"     \"tibble\"    \"ggplot2\"  \n",
       "[13] \"tidyverse\" \"stats\"     \"graphics\"  \"grDevices\" \"utils\"     \"datasets\" \n",
       "[19] \"methods\"   \"base\"     \n",
       "\n",
       "[[6]]\n",
       " [1] \"readxl\"    \"RSQLite\"   \"DBI\"       \"sf\"        \"lubridate\" \"forcats\"  \n",
       " [7] \"stringr\"   \"dplyr\"     \"purrr\"     \"readr\"     \"tidyr\"     \"tibble\"   \n",
       "[13] \"ggplot2\"   \"tidyverse\" \"stats\"     \"graphics\"  \"grDevices\" \"utils\"    \n",
       "[19] \"datasets\"  \"methods\"   \"base\"     \n"
      ]
     },
     "metadata": {},
     "output_type": "display_data"
    },
    {
     "name": "stdout",
     "output_type": "stream",
     "text": [
      "[1] \"librerias cargadas\"\n"
     ]
    }
   ],
   "source": [
    "#CARGAR LIBRERIAS\n",
    "libraries <- c(\"tidyverse\",\n",
    "               \"sf\",  \n",
    "               \"DBI\", \n",
    "               \"RSQLite\", \n",
    "               \"utils\", \n",
    "               \"readxl\")\n",
    "\n",
    "installed_packages <- rownames(installed.packages())\n",
    "libraries_to_install <- setdiff(libraries, installed_packages)\n",
    "\n",
    "if (length(libraries_to_install) > 0) {\n",
    "  install.packages(libraries_to_install)\n",
    "}\n",
    "\n",
    "lapply(libraries, library, character.only = TRUE)\n",
    "\n",
    "print (\"librerias cargadas\")"
   ]
  },
  {
   "cell_type": "markdown",
   "id": "99baec05",
   "metadata": {},
   "source": [
    "**Consideraciones Generales del Área Verde Definida**\n",
    "\n",
    "La definición del área verde parte de la *Ley Ambiental de la Ciudad de México*, publicada en la Gaceta Oficial de la Ciudad de México el *18 de julio de 2024*, que en su *artículo 4, fracción VIII*, establece como *Áreas Verdes* a:\n",
    "\n",
    "> \"Toda superficie cubierta de vegetación, natural o inducida, que se localice en la Ciudad de México.\"\n",
    "\n",
    "Fuente:  \n",
    "CONABIO (2024). *Áreas verdes 2017–2018 de la Ciudad de México*.  Escala: 1:4,000, Edición: 1,  Vigencia: 2020–2023. Proyecto: *Biodiversidad Urbana*, Ciudad de México.\n",
    "\n",
    "*Mantenimiento:* No"
   ]
  },
  {
   "cell_type": "code",
   "execution_count": 2,
   "id": "865c9120",
   "metadata": {
    "vscode": {
     "languageId": "r"
    }
   },
   "outputs": [
    {
     "data": {
      "text/html": [
       "'C:/Users/brenp/Desktop/PGOTDU_CDMX/ESPACIO PUBLICO'"
      ],
      "text/latex": [
       "'C:/Users/brenp/Desktop/PGOTDU\\_CDMX/ESPACIO PUBLICO'"
      ],
      "text/markdown": [
       "'C:/Users/brenp/Desktop/PGOTDU_CDMX/ESPACIO PUBLICO'"
      ],
      "text/plain": [
       "[1] \"C:/Users/brenp/Desktop/PGOTDU_CDMX/ESPACIO PUBLICO\""
      ]
     },
     "metadata": {},
     "output_type": "display_data"
    }
   ],
   "source": [
    "directorio <- \"C:/Users/brenp/Desktop/PGOTDU_CDMX/ESPACIO PUBLICO\"\n",
    "setwd(directorio)\n",
    "getwd()"
   ]
  },
  {
   "cell_type": "code",
   "execution_count": null,
   "id": "b0b1fde7",
   "metadata": {
    "vscode": {
     "languageId": "r"
    }
   },
   "outputs": [],
   "source": [
    "##PRINCIPALES RESULTADOS POR MANZANA CENSO DE POBLACIÓN Y VIVIENDA 2020\n",
    "url <- \"https://www.inegi.org.mx/contenidos/programas/ccpv/2020/microdatos/ageb_manzana/RESAGEBURB_09_2020_xlsx.zip\"\n",
    "temp_zip <- tempfile(fileext = \".zip\")\n",
    "temp_dir <- tempdir()\n",
    "options(timeout = 800)\n",
    "download.file(url, temp_zip, mode = \"wb\")\n",
    "unzip(temp_zip, exdir = temp_dir)\n",
    "RESAGEBURB_09XLSX20_BASE <- list.files(temp_dir, pattern =\"RESAGEBURB_09XLSX20.xlsx\", full.names = TRUE, recursive = TRUE)\n",
    "RESAGEBURB_09XLSX20<- readxl::read_excel(RESAGEBURB_09XLSX20_BASE)|>\n",
    "  mutate(CVEGEO = paste0(ENTIDAD),\n",
    "         CVE_MUNI = paste0(ENTIDAD, MUN))|>\n",
    "  mutate_all(~ gsub(\"\\\\*\", \"\", .)) |> \n",
    "  mutate(across(9:230, ~ as.numeric(., na.rm = TRUE)))|>\n",
    "  filter(NOM_MUN == \"Total de la entidad Ciudad de México\")|>\n",
    "  select(CVEGEO, POBTOT)\n",
    "\n"
   ]
  },
  {
   "cell_type": "code",
   "execution_count": 4,
   "id": "43dd47b7",
   "metadata": {
    "vscode": {
     "languageId": "r"
    }
   },
   "outputs": [],
   "source": [
    "#ZONA URBANA DEFINIDA CON LAS AGEBS MARCO GEOESTADÍSTICO CDMX 2020\n",
    "url <- \"https://www.inegi.org.mx/contenidos/productos/prod_serv/contenidos/espanol/bvinegi/productos/geografia/marcogeo/889463807469/09_ciudaddemexico.zip\"\n",
    "temp_zip <- tempfile(fileext = \".zip\")     \n",
    "temp_dir <- tempdir()                       \n",
    "options(timeout = 1000)                      \n",
    "download.file(url, temp_zip, mode = \"wb\")\n",
    "related_files <- paste0(\"conjunto_de_datos/09a\", c(\".shp\", \".shx\", \".dbf\", \".prj\"))\n",
    "unzip(temp_zip, files = related_files, exdir = temp_dir)\n",
    "shp_file_path <- file.path(temp_dir, related_files[1])\n",
    "zona_urbana_ageb_2020 <- st_read(shp_file_path, quiet = TRUE)|>\n",
    "  st_transform(crs = 32614)|>\n",
    "  mutate(area = st_area(geometry))|>\n",
    "  group_by(CVE_ENT)|>\n",
    "  summarise(area_urbana = sum(area))\n"
   ]
  },
  {
   "cell_type": "code",
   "execution_count": 5,
   "id": "d2d322e3",
   "metadata": {
    "vscode": {
     "languageId": "r"
    }
   },
   "outputs": [
    {
     "name": "stdout",
     "output_type": "stream",
     "text": [
      "Reading layer `avcdmx_1718' from data source \n",
      "  `C:\\Users\\brenp\\Desktop\\PGOTDU_CDMX\\ESPACIO PUBLICO\\avcdmx_1718\\avcdmx_1718.gdb' \n",
      "  using driver `OpenFileGDB'\n"
     ]
    },
    {
     "name": "stderr",
     "output_type": "stream",
     "text": [
      "Warning message in CPL_read_ogr(dsn, layer, query, as.character(options), quiet, :\n",
      "\"GDAL Message 1: organizePolygons() received a polygon with more than 100 parts. The processing may be really slow.  You can skip the processing by setting METHOD=SKIP, or only make it analyze counter-clock wise parts by setting METHOD=ONLY_CCW if you can assume that the outline of holes is counter-clock wise defined\"\n"
     ]
    },
    {
     "name": "stdout",
     "output_type": "stream",
     "text": [
      "Simple feature collection with 2129346 features and 11 fields\n",
      "Geometry type: MULTIPOLYGON\n",
      "Dimension:     XY\n",
      "Bounding box:  xmin: 461669.7 ymin: 2106221 xmax: 506246 ymax: 2166416\n",
      "Projected CRS: WGS 84 / UTM zone 14N\n"
     ]
    },
    {
     "name": "stderr",
     "output_type": "stream",
     "text": [
      "Warning message:\n",
      "\"attribute variables are assumed to be spatially constant throughout all geometries\"\n"
     ]
    },
    {
     "data": {
      "text/html": [
       "<table class=\"dataframe\">\n",
       "<caption>A tibble: 1 × 2</caption>\n",
       "<thead>\n",
       "\t<tr><th scope=col>CVEGEO</th><th scope=col>area_total</th></tr>\n",
       "\t<tr><th scope=col>&lt;chr&gt;</th><th scope=col>&lt;dbl&gt;</th></tr>\n",
       "</thead>\n",
       "<tbody>\n",
       "\t<tr><td>09</td><td>676939891</td></tr>\n",
       "</tbody>\n",
       "</table>\n"
      ],
      "text/latex": [
       "A tibble: 1 × 2\n",
       "\\begin{tabular}{ll}\n",
       " CVEGEO & area\\_total\\\\\n",
       " <chr> & <dbl>\\\\\n",
       "\\hline\n",
       "\t 09 & 676939891\\\\\n",
       "\\end{tabular}\n"
      ],
      "text/markdown": [
       "\n",
       "A tibble: 1 × 2\n",
       "\n",
       "| CVEGEO &lt;chr&gt; | area_total &lt;dbl&gt; |\n",
       "|---|---|\n",
       "| 09 | 676939891 |\n",
       "\n"
      ],
      "text/plain": [
       "  CVEGEO area_total\n",
       "1 09     676939891 "
      ]
     },
     "metadata": {},
     "output_type": "display_data"
    }
   ],
   "source": [
    "##Áreas verdes de la Ciudad de México (2017-2018)----\n",
    "# url <- \"http://www.conabio.gob.mx/informacion/gis/maps/ccl/avcdmxgw_c.zip\"\n",
    "# options(timeout = 5000)\n",
    "# download.file(url, 'avcdmxgw_c.zip', mode = \"wb\")\n",
    "\n",
    "# zip::unzip(\"avcdmxgw_c.zip\", exdir = \"avcdmx_1718\")\n",
    "\n",
    "acvdmx_gdbs<-st_read(\"avcdmx_1718/avcdmx_1718.gdb\")|>\n",
    "  mutate(CVEGEO = CVE_ENT)|>\n",
    "  st_intersection(zona_urbana_ageb_2020)|> \n",
    "  st_drop_geometry()|>\n",
    "  as.data.frame()|>\n",
    "  group_by(CVEGEO)|>\n",
    "  summarise(area_total = sum(Shape_Area))\n",
    "\n",
    "head(acvdmx_gdbs)"
   ]
  },
  {
   "cell_type": "code",
   "execution_count": 6,
   "id": "fe3eda40",
   "metadata": {
    "vscode": {
     "languageId": "r"
    }
   },
   "outputs": [],
   "source": [
    "##ÁREA VERDE PER CAPITA\n",
    "av_pc_2018<-acvdmx_gdbs|>\n",
    "  left_join(RESAGEBURB_09XLSX20, by = \"CVEGEO\")|>\n",
    "  mutate(AV_PC_18 = round(area_total/POBTOT,2))"
   ]
  },
  {
   "cell_type": "code",
   "execution_count": 7,
   "id": "7c72251f",
   "metadata": {
    "vscode": {
     "languageId": "r"
    }
   },
   "outputs": [
    {
     "name": "stdout",
     "output_type": "stream",
     "text": [
      "[1] \"Área verde per cápita:  73.5 m2/hab\"\n"
     ]
    }
   ],
   "source": [
    "print(paste(\"Área verde per cápita: \", av_pc_2018$AV_PC_18, \"m2/hab\"))"
   ]
  }
 ],
 "metadata": {
  "kernelspec": {
   "display_name": "R",
   "language": "R",
   "name": "ir"
  },
  "language_info": {
   "codemirror_mode": "r",
   "file_extension": ".r",
   "mimetype": "text/x-r-source",
   "name": "R",
   "pygments_lexer": "r",
   "version": "4.4.3"
  }
 },
 "nbformat": 4,
 "nbformat_minor": 5
}
